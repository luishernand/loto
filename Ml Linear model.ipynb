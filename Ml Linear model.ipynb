{
 "cells": [
  {
   "cell_type": "markdown",
   "id": "9287403c",
   "metadata": {},
   "source": [
    "# Linear model  \n",
    "**Descripción:** Entrenamiento de modelo y exportarlo "
   ]
  },
  {
   "cell_type": "code",
   "execution_count": 1,
   "id": "8fe963ba",
   "metadata": {},
   "outputs": [],
   "source": [
    "import numpy as np\n",
    "import pandas as pd\n",
    "import joblib\n",
    "from sklearn.model_selection import train_test_split\n",
    "from sklearn.linear_model import LogisticRegression"
   ]
  },
  {
   "cell_type": "markdown",
   "id": "563f677f",
   "metadata": {},
   "source": [
    "## 1- Read data"
   ]
  },
  {
   "cell_type": "code",
   "execution_count": 2,
   "id": "85d27096",
   "metadata": {},
   "outputs": [],
   "source": [
    "data= pd.read_excel('base.xlsx', sheet_name='datos')"
   ]
  },
  {
   "cell_type": "code",
   "execution_count": 3,
   "id": "500a56b1",
   "metadata": {},
   "outputs": [
    {
     "data": {
      "text/html": [
       "<div>\n",
       "<style scoped>\n",
       "    .dataframe tbody tr th:only-of-type {\n",
       "        vertical-align: middle;\n",
       "    }\n",
       "\n",
       "    .dataframe tbody tr th {\n",
       "        vertical-align: top;\n",
       "    }\n",
       "\n",
       "    .dataframe thead th {\n",
       "        text-align: right;\n",
       "    }\n",
       "</style>\n",
       "<table border=\"1\" class=\"dataframe\">\n",
       "  <thead>\n",
       "    <tr style=\"text-align: right;\">\n",
       "      <th></th>\n",
       "      <th>Fecha</th>\n",
       "      <th>bolo1</th>\n",
       "      <th>bolo2</th>\n",
       "      <th>bolo3</th>\n",
       "      <th>bolo4</th>\n",
       "      <th>bolo5</th>\n",
       "      <th>bolo6</th>\n",
       "      <th>Loto +.1</th>\n",
       "      <th>Loto +.2</th>\n",
       "    </tr>\n",
       "  </thead>\n",
       "  <tbody>\n",
       "    <tr>\n",
       "      <th>322</th>\n",
       "      <td>2022-08-10</td>\n",
       "      <td>4</td>\n",
       "      <td>6</td>\n",
       "      <td>7</td>\n",
       "      <td>14</td>\n",
       "      <td>25</td>\n",
       "      <td>28</td>\n",
       "      <td>6</td>\n",
       "      <td>10</td>\n",
       "    </tr>\n",
       "    <tr>\n",
       "      <th>323</th>\n",
       "      <td>2022-08-13</td>\n",
       "      <td>1</td>\n",
       "      <td>2</td>\n",
       "      <td>8</td>\n",
       "      <td>9</td>\n",
       "      <td>11</td>\n",
       "      <td>28</td>\n",
       "      <td>11</td>\n",
       "      <td>8</td>\n",
       "    </tr>\n",
       "    <tr>\n",
       "      <th>324</th>\n",
       "      <td>2022-08-17</td>\n",
       "      <td>6</td>\n",
       "      <td>11</td>\n",
       "      <td>12</td>\n",
       "      <td>24</td>\n",
       "      <td>31</td>\n",
       "      <td>34</td>\n",
       "      <td>11</td>\n",
       "      <td>9</td>\n",
       "    </tr>\n",
       "    <tr>\n",
       "      <th>325</th>\n",
       "      <td>2022-08-20</td>\n",
       "      <td>2</td>\n",
       "      <td>11</td>\n",
       "      <td>15</td>\n",
       "      <td>18</td>\n",
       "      <td>25</td>\n",
       "      <td>28</td>\n",
       "      <td>7</td>\n",
       "      <td>15</td>\n",
       "    </tr>\n",
       "    <tr>\n",
       "      <th>326</th>\n",
       "      <td>2022-08-24</td>\n",
       "      <td>5</td>\n",
       "      <td>16</td>\n",
       "      <td>22</td>\n",
       "      <td>28</td>\n",
       "      <td>36</td>\n",
       "      <td>38</td>\n",
       "      <td>2</td>\n",
       "      <td>4</td>\n",
       "    </tr>\n",
       "  </tbody>\n",
       "</table>\n",
       "</div>"
      ],
      "text/plain": [
       "         Fecha  bolo1  bolo2  bolo3  bolo4  bolo5  bolo6  Loto +.1  Loto +.2\n",
       "322 2022-08-10      4      6      7     14     25     28         6        10\n",
       "323 2022-08-13      1      2      8      9     11     28        11         8\n",
       "324 2022-08-17      6     11     12     24     31     34        11         9\n",
       "325 2022-08-20      2     11     15     18     25     28         7        15\n",
       "326 2022-08-24      5     16     22     28     36     38         2         4"
      ]
     },
     "execution_count": 3,
     "metadata": {},
     "output_type": "execute_result"
    }
   ],
   "source": [
    "data.tail()"
   ]
  },
  {
   "cell_type": "markdown",
   "id": "24f3b80b",
   "metadata": {},
   "source": [
    "## 2- Data Prep"
   ]
  },
  {
   "cell_type": "code",
   "execution_count": 4,
   "id": "3fe7513b",
   "metadata": {},
   "outputs": [
    {
     "data": {
      "text/plain": [
       "array(['Fecha', 'bolo1', 'bolo2', 'bolo3', 'bolo4', 'bolo5', 'bolo6',\n",
       "       'Loto +.1', 'Loto +.2'], dtype=object)"
      ]
     },
     "execution_count": 4,
     "metadata": {},
     "output_type": "execute_result"
    }
   ],
   "source": [
    "data.columns.values"
   ]
  },
  {
   "cell_type": "code",
   "execution_count": 5,
   "id": "8f6a023c",
   "metadata": {},
   "outputs": [],
   "source": [
    "bol1 = data.copy()\n",
    "bol1['prediction'] = bol1[['bolo1']].shift(-1)\n",
    "\n",
    "bol2 = data.copy()\n",
    "bol2['prediction'] = bol2[['bolo2']].shift(-1)\n",
    "\n",
    "bol3 = data.copy()\n",
    "bol3['prediction'] = bol3[['bolo3']].shift(-1)\n",
    "\n",
    "bol3 = data.copy()\n",
    "bol3['prediction'] = bol3[['bolo3']].shift(-1)\n",
    "\n",
    "bol4 = data.copy()\n",
    "bol4['prediction'] = bol4[['bolo4']].shift(-1)\n",
    "\n",
    "bol5 = data.copy()\n",
    "bol5['prediction'] = bol5[['bolo5']].shift(-1)\n",
    "\n",
    "bol6 = data.copy()\n",
    "bol6['prediction'] = bol6[['bolo6']].shift(-1)\n",
    "\n",
    "loto_1 = data.copy()\n",
    "loto_1['prediction'] = loto_1[['Loto +.1']].shift(-1)\n",
    "\n",
    "loto_2 = data.copy()\n",
    "loto_2['prediction'] = loto_2[['Loto +.2']].shift(-1)"
   ]
  },
  {
   "cell_type": "markdown",
   "id": "7733bdb6",
   "metadata": {},
   "source": [
    "### Bolo1"
   ]
  },
  {
   "cell_type": "code",
   "execution_count": 6,
   "id": "eb23d7c3",
   "metadata": {},
   "outputs": [],
   "source": [
    "X = bol1.drop(['prediction', 'Fecha'], axis=1 )\n",
    "y = bol1['prediction']\n",
    "X = X[:-1]\n",
    "y = y[:-1]"
   ]
  },
  {
   "cell_type": "code",
   "execution_count": 7,
   "id": "838bfaaf",
   "metadata": {},
   "outputs": [
    {
     "data": {
      "text/html": [
       "<div>\n",
       "<style scoped>\n",
       "    .dataframe tbody tr th:only-of-type {\n",
       "        vertical-align: middle;\n",
       "    }\n",
       "\n",
       "    .dataframe tbody tr th {\n",
       "        vertical-align: top;\n",
       "    }\n",
       "\n",
       "    .dataframe thead th {\n",
       "        text-align: right;\n",
       "    }\n",
       "</style>\n",
       "<table border=\"1\" class=\"dataframe\">\n",
       "  <thead>\n",
       "    <tr style=\"text-align: right;\">\n",
       "      <th></th>\n",
       "      <th>bolo1</th>\n",
       "      <th>bolo2</th>\n",
       "      <th>bolo3</th>\n",
       "      <th>bolo4</th>\n",
       "      <th>bolo5</th>\n",
       "      <th>bolo6</th>\n",
       "      <th>Loto +.1</th>\n",
       "      <th>Loto +.2</th>\n",
       "    </tr>\n",
       "  </thead>\n",
       "  <tbody>\n",
       "    <tr>\n",
       "      <th>0</th>\n",
       "      <td>12</td>\n",
       "      <td>15</td>\n",
       "      <td>18</td>\n",
       "      <td>23</td>\n",
       "      <td>25</td>\n",
       "      <td>31</td>\n",
       "      <td>4</td>\n",
       "      <td>1</td>\n",
       "    </tr>\n",
       "    <tr>\n",
       "      <th>1</th>\n",
       "      <td>7</td>\n",
       "      <td>9</td>\n",
       "      <td>10</td>\n",
       "      <td>21</td>\n",
       "      <td>27</td>\n",
       "      <td>28</td>\n",
       "      <td>5</td>\n",
       "      <td>5</td>\n",
       "    </tr>\n",
       "    <tr>\n",
       "      <th>2</th>\n",
       "      <td>1</td>\n",
       "      <td>3</td>\n",
       "      <td>13</td>\n",
       "      <td>20</td>\n",
       "      <td>35</td>\n",
       "      <td>36</td>\n",
       "      <td>1</td>\n",
       "      <td>13</td>\n",
       "    </tr>\n",
       "    <tr>\n",
       "      <th>3</th>\n",
       "      <td>4</td>\n",
       "      <td>6</td>\n",
       "      <td>11</td>\n",
       "      <td>13</td>\n",
       "      <td>27</td>\n",
       "      <td>28</td>\n",
       "      <td>10</td>\n",
       "      <td>7</td>\n",
       "    </tr>\n",
       "    <tr>\n",
       "      <th>4</th>\n",
       "      <td>1</td>\n",
       "      <td>7</td>\n",
       "      <td>19</td>\n",
       "      <td>33</td>\n",
       "      <td>36</td>\n",
       "      <td>38</td>\n",
       "      <td>1</td>\n",
       "      <td>2</td>\n",
       "    </tr>\n",
       "  </tbody>\n",
       "</table>\n",
       "</div>"
      ],
      "text/plain": [
       "   bolo1  bolo2  bolo3  bolo4  bolo5  bolo6  Loto +.1  Loto +.2\n",
       "0     12     15     18     23     25     31         4         1\n",
       "1      7      9     10     21     27     28         5         5\n",
       "2      1      3     13     20     35     36         1        13\n",
       "3      4      6     11     13     27     28        10         7\n",
       "4      1      7     19     33     36     38         1         2"
      ]
     },
     "execution_count": 7,
     "metadata": {},
     "output_type": "execute_result"
    }
   ],
   "source": [
    "X.head()"
   ]
  },
  {
   "cell_type": "code",
   "execution_count": 8,
   "id": "77d8bf27",
   "metadata": {},
   "outputs": [],
   "source": [
    "X_train, X_test, y_train, y_test = train_test_split(X,y, test_size=.10, random_state=42)"
   ]
  },
  {
   "cell_type": "code",
   "execution_count": 9,
   "id": "b46b7606",
   "metadata": {
    "scrolled": true
   },
   "outputs": [
    {
     "data": {
      "text/plain": [
       "LogisticRegression(max_iter=300, random_state=42, solver='liblinear')"
      ]
     },
     "execution_count": 9,
     "metadata": {},
     "output_type": "execute_result"
    }
   ],
   "source": [
    "lr = LogisticRegression(max_iter=300, solver='liblinear', random_state=42)\n",
    "lr.fit(X_train, y_train)"
   ]
  },
  {
   "cell_type": "code",
   "execution_count": 10,
   "id": "f8db144a",
   "metadata": {},
   "outputs": [],
   "source": [
    "#y_bol1 = lr.predict(X_test)"
   ]
  },
  {
   "cell_type": "code",
   "execution_count": 11,
   "id": "7ff6588c",
   "metadata": {},
   "outputs": [],
   "source": [
    "#resultados = pd.DataFrame()\n",
    "#resultados['test']= y_test\n",
    "#resultados['pred'] = y_bol1\n",
    "#resultados.tail()"
   ]
  },
  {
   "cell_type": "code",
   "execution_count": 12,
   "id": "658b2a1b",
   "metadata": {},
   "outputs": [
    {
     "data": {
      "text/plain": [
       "['bol1']"
      ]
     },
     "execution_count": 12,
     "metadata": {},
     "output_type": "execute_result"
    }
   ],
   "source": [
    "joblib.dump(lr, 'bol1')"
   ]
  },
  {
   "cell_type": "markdown",
   "id": "3715b4fb",
   "metadata": {},
   "source": [
    "### Bolo2"
   ]
  },
  {
   "cell_type": "code",
   "execution_count": 13,
   "id": "f6a05fc9",
   "metadata": {},
   "outputs": [
    {
     "data": {
      "text/plain": [
       "['bol2']"
      ]
     },
     "execution_count": 13,
     "metadata": {},
     "output_type": "execute_result"
    }
   ],
   "source": [
    "# select features and target\n",
    "X = bol2.drop(['prediction', 'Fecha'], axis=1 )\n",
    "y = bol2['prediction']\n",
    "X = X[:-1]\n",
    "y = y[:-1]\n",
    "\n",
    "# split train/test\n",
    "X_train, X_test, y_train, y_test = train_test_split(X,y, test_size=.10, random_state=42)\n",
    "\n",
    "#Buid model\n",
    "b2 = LogisticRegression(max_iter=300, solver='liblinear', random_state=42)\n",
    "b2.fit(X,y)\n",
    "\n",
    "#save\n",
    "joblib.dump(b2, 'bol2')"
   ]
  },
  {
   "cell_type": "markdown",
   "id": "4ae41e32",
   "metadata": {},
   "source": [
    "### Bolo3"
   ]
  },
  {
   "cell_type": "code",
   "execution_count": 14,
   "id": "eab67f46",
   "metadata": {},
   "outputs": [
    {
     "data": {
      "text/plain": [
       "['bol3']"
      ]
     },
     "execution_count": 14,
     "metadata": {},
     "output_type": "execute_result"
    }
   ],
   "source": [
    "# select features and target\n",
    "X = bol3.drop(['prediction', 'Fecha'], axis=1 )\n",
    "y = bol3['prediction']\n",
    "X = X[:-1]\n",
    "y = y[:-1]\n",
    "\n",
    "# split train/test\n",
    "X_train, X_test, y_train, y_test = train_test_split(X,y, test_size=.10, random_state=42)\n",
    "\n",
    "#Buid model\n",
    "b3 = LogisticRegression(max_iter=300, solver='liblinear', random_state=42)\n",
    "b3.fit(X_train, y_train)\n",
    "\n",
    "#save\n",
    "joblib.dump(b3, 'bol3')"
   ]
  },
  {
   "cell_type": "markdown",
   "id": "cad49fe8",
   "metadata": {},
   "source": [
    "### Bolo 4"
   ]
  },
  {
   "cell_type": "code",
   "execution_count": 15,
   "id": "8f06ffe3",
   "metadata": {},
   "outputs": [
    {
     "data": {
      "text/plain": [
       "['bol4']"
      ]
     },
     "execution_count": 15,
     "metadata": {},
     "output_type": "execute_result"
    }
   ],
   "source": [
    "# select features and target\n",
    "X = bol4.drop(['prediction', 'Fecha'], axis=1 )\n",
    "y = bol4['prediction']\n",
    "X = X[:-1]\n",
    "y = y[:-1]\n",
    "\n",
    "# split train/test\n",
    "X_train, X_test, y_train, y_test = train_test_split(X,y, test_size=.30, random_state=42)\n",
    "\n",
    "#Buid model\n",
    "b4 = LogisticRegression(max_iter=300, solver='liblinear', random_state=42)\n",
    "b4.fit(X_train, y_train)\n",
    "\n",
    "#save\n",
    "joblib.dump(b4, 'bol4')"
   ]
  },
  {
   "cell_type": "markdown",
   "id": "0dc943e7",
   "metadata": {},
   "source": [
    "### Bolo 5"
   ]
  },
  {
   "cell_type": "code",
   "execution_count": 16,
   "id": "72d08f0d",
   "metadata": {},
   "outputs": [
    {
     "data": {
      "text/plain": [
       "['bol5']"
      ]
     },
     "execution_count": 16,
     "metadata": {},
     "output_type": "execute_result"
    }
   ],
   "source": [
    "# select features and target\n",
    "X = bol5.drop(['prediction', 'Fecha'], axis=1 )\n",
    "y = bol5['prediction']\n",
    "X = X[:-1]\n",
    "y = y[:-1]\n",
    "\n",
    "# split train/test\n",
    "X_train, X_test, y_train, y_test = train_test_split(X,y, test_size=.30, random_state=42)\n",
    "\n",
    "#Buid model\n",
    "b5 = LogisticRegression(max_iter=300, solver='liblinear', random_state=42)\n",
    "b5.fit(X_train, y_train)\n",
    "\n",
    "#save\n",
    "joblib.dump(b5, 'bol5')"
   ]
  },
  {
   "cell_type": "markdown",
   "id": "4fa4a5a6",
   "metadata": {},
   "source": [
    "### Bolo6"
   ]
  },
  {
   "cell_type": "code",
   "execution_count": 17,
   "id": "620ca555",
   "metadata": {},
   "outputs": [
    {
     "data": {
      "text/plain": [
       "['bol6']"
      ]
     },
     "execution_count": 17,
     "metadata": {},
     "output_type": "execute_result"
    }
   ],
   "source": [
    "# select features and target\n",
    "X = bol6.drop(['prediction', 'Fecha'], axis=1 )\n",
    "y = bol6['prediction']\n",
    "X = X[:-1]\n",
    "y = y[:-1]\n",
    "\n",
    "# split train/test\n",
    "X_train, X_test, y_train, y_test = train_test_split(X,y, test_size=.10, random_state=42)\n",
    "\n",
    "#Buid model\n",
    "b6 = LogisticRegression(max_iter=300, solver='liblinear', random_state=42)\n",
    "b6.fit(X_train, y_train)\n",
    "\n",
    "#save\n",
    "joblib.dump(b6, 'bol6')"
   ]
  },
  {
   "cell_type": "markdown",
   "id": "fc821a0b",
   "metadata": {},
   "source": [
    "### Loto mas 1"
   ]
  },
  {
   "cell_type": "code",
   "execution_count": 18,
   "id": "a3b6bca2",
   "metadata": {},
   "outputs": [
    {
     "data": {
      "text/plain": [
       "['lt1']"
      ]
     },
     "execution_count": 18,
     "metadata": {},
     "output_type": "execute_result"
    }
   ],
   "source": [
    "# select features and target\n",
    "X = loto_1.drop(['prediction', 'Fecha'], axis=1 )\n",
    "y = loto_1['prediction']\n",
    "X = X[:-1]\n",
    "y = y[:-1]\n",
    "\n",
    "# split train/test\n",
    "X_train, X_test, y_train, y_test = train_test_split(X,y, test_size=.30, random_state=42)\n",
    "\n",
    "#Buid model\n",
    "lt1 = LogisticRegression(max_iter=300, solver='liblinear', random_state=42)\n",
    "lt1.fit(X_train, y_train)\n",
    "\n",
    "#save\n",
    "joblib.dump(lt1, 'lt1')"
   ]
  },
  {
   "cell_type": "markdown",
   "id": "b91116aa",
   "metadata": {},
   "source": [
    "### Loto mas 2"
   ]
  },
  {
   "cell_type": "code",
   "execution_count": 19,
   "id": "f409111e",
   "metadata": {},
   "outputs": [
    {
     "data": {
      "text/plain": [
       "['lt2']"
      ]
     },
     "execution_count": 19,
     "metadata": {},
     "output_type": "execute_result"
    }
   ],
   "source": [
    "# select features and target\n",
    "X = loto_2.drop(['prediction', 'Fecha'], axis=1 )\n",
    "y = loto_2['prediction']\n",
    "X = X[:-1]\n",
    "y = y[:-1]\n",
    "\n",
    "# split train/test\n",
    "X_train, X_test, y_train, y_test = train_test_split(X,y, test_size=.10, random_state=42)\n",
    "\n",
    "#Buid model\n",
    "lt2 = LogisticRegression(max_iter=300, solver='liblinear', random_state=42)\n",
    "lt2.fit(X,y)\n",
    "\n",
    "#save\n",
    "joblib.dump(lt2, 'lt2')"
   ]
  },
  {
   "cell_type": "code",
   "execution_count": null,
   "id": "8b3cc524",
   "metadata": {},
   "outputs": [],
   "source": []
  }
 ],
 "metadata": {
  "kernelspec": {
   "display_name": "Python 3 (ipykernel)",
   "language": "python",
   "name": "python3"
  },
  "language_info": {
   "codemirror_mode": {
    "name": "ipython",
    "version": 3
   },
   "file_extension": ".py",
   "mimetype": "text/x-python",
   "name": "python",
   "nbconvert_exporter": "python",
   "pygments_lexer": "ipython3",
   "version": "3.8.8"
  }
 },
 "nbformat": 4,
 "nbformat_minor": 5
}
