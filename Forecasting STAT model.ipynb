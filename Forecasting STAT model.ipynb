{
 "cells": [
  {
   "cell_type": "markdown",
   "id": "f4426bea",
   "metadata": {},
   "source": [
    "# LOTO \n",
    "\n",
    "**FORECASTING WITH STATMODEL**"
   ]
  },
  {
   "cell_type": "code",
   "execution_count": 29,
   "id": "7e634479",
   "metadata": {},
   "outputs": [],
   "source": [
    "import numpy as np\n",
    "import pandas as pd\n",
    "import matplotlib.pyplot as plt\n",
    "import seaborn as sns\n",
    "import plotly.express as px"
   ]
  },
  {
   "cell_type": "markdown",
   "id": "5b0af174",
   "metadata": {},
   "source": [
    "## DATA"
   ]
  },
  {
   "cell_type": "code",
   "execution_count": 30,
   "id": "5e3c1eb3",
   "metadata": {},
   "outputs": [],
   "source": [
    "df = pd.read_excel('base.xlsx',sheet_name='datos', index_col=0)"
   ]
  },
  {
   "cell_type": "code",
   "execution_count": 31,
   "id": "2827da76",
   "metadata": {},
   "outputs": [],
   "source": [
    "#df.rename(columns={\"Fecha\": 'date'}, inplace=True)"
   ]
  },
  {
   "cell_type": "code",
   "execution_count": 32,
   "id": "f24d470e",
   "metadata": {},
   "outputs": [],
   "source": [
    "df.index = pd.DatetimeIndex(df.index).to_period('d')"
   ]
  },
  {
   "cell_type": "code",
   "execution_count": 33,
   "id": "4e0c954b",
   "metadata": {},
   "outputs": [
    {
     "data": {
      "text/html": [
       "<div>\n",
       "<style scoped>\n",
       "    .dataframe tbody tr th:only-of-type {\n",
       "        vertical-align: middle;\n",
       "    }\n",
       "\n",
       "    .dataframe tbody tr th {\n",
       "        vertical-align: top;\n",
       "    }\n",
       "\n",
       "    .dataframe thead th {\n",
       "        text-align: right;\n",
       "    }\n",
       "</style>\n",
       "<table border=\"1\" class=\"dataframe\">\n",
       "  <thead>\n",
       "    <tr style=\"text-align: right;\">\n",
       "      <th></th>\n",
       "      <th>bolo1</th>\n",
       "      <th>bolo2</th>\n",
       "      <th>bolo3</th>\n",
       "      <th>bolo4</th>\n",
       "      <th>bolo5</th>\n",
       "      <th>bolo6</th>\n",
       "      <th>Loto +.1</th>\n",
       "      <th>Loto +.2</th>\n",
       "    </tr>\n",
       "    <tr>\n",
       "      <th>Fecha</th>\n",
       "      <th></th>\n",
       "      <th></th>\n",
       "      <th></th>\n",
       "      <th></th>\n",
       "      <th></th>\n",
       "      <th></th>\n",
       "      <th></th>\n",
       "      <th></th>\n",
       "    </tr>\n",
       "  </thead>\n",
       "  <tbody>\n",
       "    <tr>\n",
       "      <th>2019-04-10</th>\n",
       "      <td>12</td>\n",
       "      <td>15</td>\n",
       "      <td>18</td>\n",
       "      <td>23</td>\n",
       "      <td>25</td>\n",
       "      <td>31</td>\n",
       "      <td>4</td>\n",
       "      <td>1</td>\n",
       "    </tr>\n",
       "    <tr>\n",
       "      <th>2019-04-13</th>\n",
       "      <td>7</td>\n",
       "      <td>9</td>\n",
       "      <td>10</td>\n",
       "      <td>21</td>\n",
       "      <td>27</td>\n",
       "      <td>28</td>\n",
       "      <td>5</td>\n",
       "      <td>5</td>\n",
       "    </tr>\n",
       "  </tbody>\n",
       "</table>\n",
       "</div>"
      ],
      "text/plain": [
       "            bolo1  bolo2  bolo3  bolo4  bolo5  bolo6  Loto +.1  Loto +.2\n",
       "Fecha                                                                   \n",
       "2019-04-10     12     15     18     23     25     31         4         1\n",
       "2019-04-13      7      9     10     21     27     28         5         5"
      ]
     },
     "execution_count": 33,
     "metadata": {},
     "output_type": "execute_result"
    }
   ],
   "source": [
    "df.head(2)"
   ]
  },
  {
   "cell_type": "code",
   "execution_count": 34,
   "id": "5160c7bd",
   "metadata": {},
   "outputs": [
    {
     "data": {
      "text/html": [
       "<div>\n",
       "<style scoped>\n",
       "    .dataframe tbody tr th:only-of-type {\n",
       "        vertical-align: middle;\n",
       "    }\n",
       "\n",
       "    .dataframe tbody tr th {\n",
       "        vertical-align: top;\n",
       "    }\n",
       "\n",
       "    .dataframe thead th {\n",
       "        text-align: right;\n",
       "    }\n",
       "</style>\n",
       "<table border=\"1\" class=\"dataframe\">\n",
       "  <thead>\n",
       "    <tr style=\"text-align: right;\">\n",
       "      <th></th>\n",
       "      <th>bolo1</th>\n",
       "      <th>bolo2</th>\n",
       "      <th>bolo3</th>\n",
       "      <th>bolo4</th>\n",
       "      <th>bolo5</th>\n",
       "      <th>bolo6</th>\n",
       "      <th>Loto +.1</th>\n",
       "      <th>Loto +.2</th>\n",
       "    </tr>\n",
       "    <tr>\n",
       "      <th>Fecha</th>\n",
       "      <th></th>\n",
       "      <th></th>\n",
       "      <th></th>\n",
       "      <th></th>\n",
       "      <th></th>\n",
       "      <th></th>\n",
       "      <th></th>\n",
       "      <th></th>\n",
       "    </tr>\n",
       "  </thead>\n",
       "  <tbody>\n",
       "    <tr>\n",
       "      <th>2022-09-03</th>\n",
       "      <td>2</td>\n",
       "      <td>5</td>\n",
       "      <td>7</td>\n",
       "      <td>16</td>\n",
       "      <td>21</td>\n",
       "      <td>36</td>\n",
       "      <td>5</td>\n",
       "      <td>10</td>\n",
       "    </tr>\n",
       "  </tbody>\n",
       "</table>\n",
       "</div>"
      ],
      "text/plain": [
       "            bolo1  bolo2  bolo3  bolo4  bolo5  bolo6  Loto +.1  Loto +.2\n",
       "Fecha                                                                   \n",
       "2022-09-03      2      5      7     16     21     36         5        10"
      ]
     },
     "execution_count": 34,
     "metadata": {},
     "output_type": "execute_result"
    }
   ],
   "source": [
    "df.tail(1)"
   ]
  },
  {
   "cell_type": "markdown",
   "id": "9d7d3f26",
   "metadata": {},
   "source": [
    "### Split into train-test datset"
   ]
  },
  {
   "cell_type": "code",
   "execution_count": 35,
   "id": "1045ae3c",
   "metadata": {},
   "outputs": [],
   "source": [
    "df1 = df.drop(df.columns.difference(['bolo1']), axis =1)"
   ]
  },
  {
   "cell_type": "code",
   "execution_count": 36,
   "id": "000c0087",
   "metadata": {},
   "outputs": [
    {
     "name": "stdout",
     "output_type": "stream",
     "text": [
      "<class 'pandas.core.frame.DataFrame'>\n",
      "PeriodIndex: 330 entries, 2019-04-10 to 2022-09-03\n",
      "Freq: D\n",
      "Data columns (total 1 columns):\n",
      " #   Column  Non-Null Count  Dtype\n",
      "---  ------  --------------  -----\n",
      " 0   bolo1   330 non-null    int64\n",
      "dtypes: int64(1)\n",
      "memory usage: 5.2 KB\n"
     ]
    }
   ],
   "source": [
    "df1.asfreq('d')\n",
    "df1.info()"
   ]
  },
  {
   "cell_type": "code",
   "execution_count": 37,
   "id": "d4f1f875",
   "metadata": {},
   "outputs": [
    {
     "data": {
      "text/plain": [
       "PeriodIndex(['2019-04-10', '2019-04-13', '2019-04-17', '2019-04-20',\n",
       "             '2019-04-24', '2019-04-27', '2019-05-01', '2019-05-04',\n",
       "             '2019-05-08', '2019-05-11',\n",
       "             ...\n",
       "             '2022-08-03', '2022-08-06', '2022-08-10', '2022-08-13',\n",
       "             '2022-08-17', '2022-08-20', '2022-08-24', '2022-08-27',\n",
       "             '2022-08-31', '2022-09-03'],\n",
       "            dtype='period[D]', name='Fecha', length=330)"
      ]
     },
     "execution_count": 37,
     "metadata": {},
     "output_type": "execute_result"
    }
   ],
   "source": [
    "df1.index"
   ]
  },
  {
   "cell_type": "code",
   "execution_count": 38,
   "id": "09b55597",
   "metadata": {},
   "outputs": [],
   "source": [
    "train = df1.iloc[ : 226]\n",
    "test = df1.iloc[225 : ]"
   ]
  },
  {
   "cell_type": "markdown",
   "id": "6d332a0e",
   "metadata": {},
   "source": [
    "## Model"
   ]
  },
  {
   "cell_type": "code",
   "execution_count": 39,
   "id": "da71372a",
   "metadata": {},
   "outputs": [],
   "source": [
    "from statsmodels.tsa.holtwinters import ExponentialSmoothing"
   ]
  },
  {
   "cell_type": "code",
   "execution_count": 40,
   "id": "279ba8ce",
   "metadata": {},
   "outputs": [],
   "source": [
    "model =  ExponentialSmoothing(train['bolo1'], trend='add', seasonal='add', \n",
    "                             seasonal_periods=15).fit()"
   ]
  },
  {
   "cell_type": "markdown",
   "id": "0f2cae15",
   "metadata": {},
   "source": [
    "En model forecast hay que cambiar los días.....(95)"
   ]
  },
  {
   "cell_type": "code",
   "execution_count": 41,
   "id": "da53cfa6",
   "metadata": {},
   "outputs": [],
   "source": [
    "predictions = model.forecast(105)"
   ]
  },
  {
   "cell_type": "code",
   "execution_count": 42,
   "id": "d5e8d046",
   "metadata": {},
   "outputs": [
    {
     "data": {
      "text/plain": [
       "2021-08-29     9.268846\n",
       "2021-08-30     9.003883\n",
       "2021-08-31     9.535555\n",
       "2021-09-01    13.395647\n",
       "2021-09-02    10.795592\n",
       "                ...    \n",
       "2021-12-07    10.204417\n",
       "2021-12-08    10.008824\n",
       "2021-12-09    11.272772\n",
       "2021-12-10     8.949221\n",
       "2021-12-11    11.484101\n",
       "Freq: D, Length: 105, dtype: float64"
      ]
     },
     "execution_count": 42,
     "metadata": {},
     "output_type": "execute_result"
    }
   ],
   "source": [
    "predictions"
   ]
  },
  {
   "cell_type": "markdown",
   "id": "907791ab",
   "metadata": {},
   "source": [
    "## Metrics"
   ]
  },
  {
   "cell_type": "code",
   "execution_count": 43,
   "id": "a46bd48e",
   "metadata": {},
   "outputs": [],
   "source": [
    "from sklearn.metrics import mean_absolute_error, mean_squared_error"
   ]
  },
  {
   "cell_type": "code",
   "execution_count": 44,
   "id": "56805020",
   "metadata": {},
   "outputs": [
    {
     "data": {
      "text/plain": [
       "5.542964405584407"
      ]
     },
     "execution_count": 44,
     "metadata": {},
     "output_type": "execute_result"
    }
   ],
   "source": [
    "mean_absolute_error(test, predictions)"
   ]
  },
  {
   "cell_type": "code",
   "execution_count": 45,
   "id": "de2cf70c",
   "metadata": {},
   "outputs": [
    {
     "data": {
      "text/plain": [
       "39.26103040405055"
      ]
     },
     "execution_count": 45,
     "metadata": {},
     "output_type": "execute_result"
    }
   ],
   "source": [
    "mean_squared_error(test, predictions)"
   ]
  },
  {
   "cell_type": "code",
   "execution_count": 46,
   "id": "7ba23c22",
   "metadata": {},
   "outputs": [
    {
     "data": {
      "text/plain": [
       "6.265862303310739"
      ]
     },
     "execution_count": 46,
     "metadata": {},
     "output_type": "execute_result"
    }
   ],
   "source": [
    "np.sqrt(mean_squared_error(test, predictions))"
   ]
  },
  {
   "cell_type": "markdown",
   "id": "afaff8f5",
   "metadata": {},
   "source": [
    "## Making new Predictions"
   ]
  },
  {
   "cell_type": "markdown",
   "id": "0482ba60",
   "metadata": {},
   "source": [
    "#### Prueba de dias"
   ]
  },
  {
   "cell_type": "code",
   "execution_count": 47,
   "id": "9f5b02cd",
   "metadata": {},
   "outputs": [],
   "source": [
    "#all df\n",
    "model1 = ExponentialSmoothing(df['bolo1'], trend='add', seasonal='add', seasonal_periods=15).fit()\n",
    "\n",
    "pred1 = model1.forecast(4) #change the days to predict saturday = 3 wenesday = 4"
   ]
  },
  {
   "cell_type": "code",
   "execution_count": 48,
   "id": "080c228f",
   "metadata": {},
   "outputs": [
    {
     "data": {
      "text/plain": [
       "2022-09-07    10.541227\n",
       "Freq: D, dtype: float64"
      ]
     },
     "execution_count": 48,
     "metadata": {},
     "output_type": "execute_result"
    }
   ],
   "source": [
    "pred1.tail(1)"
   ]
  },
  {
   "cell_type": "code",
   "execution_count": 49,
   "id": "2acdd5c8",
   "metadata": {},
   "outputs": [
    {
     "data": {
      "text/plain": [
       "10"
      ]
     },
     "execution_count": 49,
     "metadata": {},
     "output_type": "execute_result"
    }
   ],
   "source": [
    "int(pred1.tail(1))"
   ]
  },
  {
   "cell_type": "code",
   "execution_count": 50,
   "id": "26b65e6d",
   "metadata": {},
   "outputs": [
    {
     "name": "stdout",
     "output_type": "stream",
     "text": [
      "2022-09-07    13.850755\n",
      "Freq: D, dtype: float64\n",
      "bolo2 13\n"
     ]
    }
   ],
   "source": [
    "#all df\n",
    "model1 = ExponentialSmoothing(df['bolo2'], trend='add', seasonal='add', seasonal_periods=15).fit()\n",
    "\n",
    "pred1 = model1.forecast(4) #change the days to predict\n",
    "print(pred1.tail(1))\n",
    "print('bolo2', int(pred1.tail(1)))"
   ]
  },
  {
   "cell_type": "code",
   "execution_count": 51,
   "id": "9b7be808",
   "metadata": {},
   "outputs": [
    {
     "name": "stdout",
     "output_type": "stream",
     "text": [
      "2022-09-07    21.906881\n",
      "Freq: D, dtype: float64\n",
      "bolo3 21\n"
     ]
    }
   ],
   "source": [
    "model1 = ExponentialSmoothing(df['bolo3'], trend='add', seasonal='add', seasonal_periods=15).fit()\n",
    "\n",
    "pred1 = model1.forecast(4) #change the days to predict\n",
    "print(pred1.tail(1))\n",
    "print('bolo3', int(pred1.tail(1)))"
   ]
  },
  {
   "cell_type": "code",
   "execution_count": 52,
   "id": "c336cdeb",
   "metadata": {},
   "outputs": [
    {
     "name": "stdout",
     "output_type": "stream",
     "text": [
      "2022-09-07    24.305569\n",
      "Freq: D, dtype: float64\n",
      "bolo4 24\n"
     ]
    }
   ],
   "source": [
    "model1 = ExponentialSmoothing(df['bolo4'], trend='add', seasonal='add', seasonal_periods=15).fit()\n",
    "\n",
    "pred1 = model1.forecast(4) #change the days to predict\n",
    "print(pred1.tail(1))\n",
    "print('bolo4', int(pred1.tail(1)))"
   ]
  },
  {
   "cell_type": "code",
   "execution_count": 53,
   "id": "4a6a957d",
   "metadata": {},
   "outputs": [
    {
     "name": "stdout",
     "output_type": "stream",
     "text": [
      "2022-09-07    28.112315\n",
      "Freq: D, dtype: float64\n",
      "bolo5 28\n"
     ]
    }
   ],
   "source": [
    "model1 = ExponentialSmoothing(df['bolo5'], trend='add', seasonal='add', seasonal_periods=15).fit()\n",
    "\n",
    "pred1 = model1.forecast(4) #change the days to predict\n",
    "print(pred1.tail(1))\n",
    "print('bolo5', int(pred1.tail(1)))"
   ]
  },
  {
   "cell_type": "code",
   "execution_count": 54,
   "id": "e2c65121",
   "metadata": {},
   "outputs": [
    {
     "name": "stdout",
     "output_type": "stream",
     "text": [
      "2022-09-07    32.036424\n",
      "Freq: D, dtype: float64\n",
      "bolo6 32\n"
     ]
    }
   ],
   "source": [
    "model1 = ExponentialSmoothing(df['bolo6'], trend='add', seasonal='add', seasonal_periods=15).fit()\n",
    "\n",
    "pred1 = model1.forecast(4) #change the days to predict\n",
    "print(pred1.tail(1))\n",
    "print('bolo6', int(pred1.tail(1)))"
   ]
  },
  {
   "cell_type": "code",
   "execution_count": 55,
   "id": "48e4eda7",
   "metadata": {},
   "outputs": [
    {
     "name": "stdout",
     "output_type": "stream",
     "text": [
      "2022-09-07    8.650508\n",
      "Freq: D, dtype: float64\n",
      "Loto +1 8\n"
     ]
    }
   ],
   "source": [
    "model1 = ExponentialSmoothing(df['Loto +.1'], trend='add', seasonal='add', seasonal_periods=15).fit()\n",
    "\n",
    "pred1 = model1.forecast(4) #change the days to predict\n",
    "print(pred1.tail(1))\n",
    "print('Loto +1', int(pred1.tail(1)))"
   ]
  },
  {
   "cell_type": "code",
   "execution_count": 56,
   "id": "3b1e109e",
   "metadata": {},
   "outputs": [
    {
     "name": "stdout",
     "output_type": "stream",
     "text": [
      "2022-09-07    7.313297\n",
      "Freq: D, dtype: float64\n",
      "Loto +2 7\n"
     ]
    }
   ],
   "source": [
    "model1 = ExponentialSmoothing(df['Loto +.2'], trend='add', seasonal='add', seasonal_periods=15).fit()\n",
    "\n",
    "pred1 = model1.forecast(4) #change the days to predict\n",
    "print(pred1.tail(1))\n",
    "print('Loto +2', int(pred1.tail(1)))"
   ]
  },
  {
   "cell_type": "code",
   "execution_count": null,
   "id": "1c64fc0d",
   "metadata": {},
   "outputs": [],
   "source": []
  }
 ],
 "metadata": {
  "kernelspec": {
   "display_name": "Python 3 (ipykernel)",
   "language": "python",
   "name": "python3"
  },
  "language_info": {
   "codemirror_mode": {
    "name": "ipython",
    "version": 3
   },
   "file_extension": ".py",
   "mimetype": "text/x-python",
   "name": "python",
   "nbconvert_exporter": "python",
   "pygments_lexer": "ipython3",
   "version": "3.8.8"
  }
 },
 "nbformat": 4,
 "nbformat_minor": 5
}
