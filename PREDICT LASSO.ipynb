{
 "cells": [
  {
   "cell_type": "markdown",
   "id": "b59e5da2",
   "metadata": {},
   "source": [
    "# LASSO PREDICTIONS  \n",
    "**LIBRARIES**"
   ]
  },
  {
   "cell_type": "code",
   "execution_count": 1,
   "id": "ab6c0776",
   "metadata": {},
   "outputs": [],
   "source": [
    "import numpy as np\n",
    "import pandas as pd\n",
    "import joblib\n",
    "from sklearn.model_selection import train_test_split\n",
    "from sklearn.linear_model import Lasso\n",
    "import warnings\n",
    "warnings.filterwarnings('ignore')"
   ]
  },
  {
   "cell_type": "code",
   "execution_count": 2,
   "id": "42f0d9f2",
   "metadata": {},
   "outputs": [],
   "source": [
    "bol1 = joblib.load('lassobol1')\n",
    "bol2 = joblib.load('lassobol2')\n",
    "bol3 = joblib.load('lassobol3')\n",
    "bol4 = joblib.load('lassobol4')\n",
    "bol5 = joblib.load('lassobol5')\n",
    "bol6 = joblib.load('lassobol6')\n",
    "lt1 = joblib.load('lassolt1')\n",
    "lt2 = joblib.load('lassolt2')"
   ]
  },
  {
   "cell_type": "markdown",
   "id": "5688f207",
   "metadata": {},
   "source": [
    "## PREDICTIONS"
   ]
  },
  {
   "cell_type": "code",
   "execution_count": 3,
   "id": "31214e37",
   "metadata": {},
   "outputs": [],
   "source": [
    "data = [2,5,7,16,21,36,5,10]"
   ]
  },
  {
   "cell_type": "code",
   "execution_count": 4,
   "id": "7ade3790",
   "metadata": {},
   "outputs": [],
   "source": [
    "#ex1 = [data[0]]\n",
    "#ex2 = [data[1]]\n",
    "#ex3 = [data[2]]\n",
    "#ex4 = [data[3]]\n",
    "#ex5 = [data[4]]\n",
    "#ex6 = [data[5]]\n",
    "#ex7 = [data[6]]\n",
    "#ex8 = [data[-1]]"
   ]
  },
  {
   "cell_type": "code",
   "execution_count": 5,
   "id": "96b6247e",
   "metadata": {},
   "outputs": [],
   "source": [
    "bolo1 = bol1.predict([data])\n",
    "bolo2 = bol2.predict([data])\n",
    "bolo3 = bol3.predict([data])\n",
    "bolo4 = bol4.predict([data])\n",
    "bolo5 = bol5.predict([data])\n",
    "bolo6 = bol6.predict([data])\n",
    "loto_1 = lt1.predict([data])\n",
    "loto_2 = lt2.predict([data])"
   ]
  },
  {
   "cell_type": "code",
   "execution_count": 6,
   "id": "378af4b8",
   "metadata": {},
   "outputs": [],
   "source": [
    "resultado = [int(bolo1[0]),int(bolo2[0]), int(bolo3[0]), int(bolo4[0]), int(bolo5[0]),\n",
    "            int(bolo6[0]), int(loto_1[0]), int(loto_2[0])] "
   ]
  },
  {
   "cell_type": "code",
   "execution_count": 7,
   "id": "c94317d5",
   "metadata": {},
   "outputs": [
    {
     "data": {
      "text/plain": [
       "[6, 11, 16, 21, 27, 32, 5, 7]"
      ]
     },
     "execution_count": 7,
     "metadata": {},
     "output_type": "execute_result"
    }
   ],
   "source": [
    "resultado"
   ]
  },
  {
   "cell_type": "code",
   "execution_count": 8,
   "id": "66ed75dd",
   "metadata": {},
   "outputs": [],
   "source": [
    "ganadores = [2,5,7,16,21,36,5,10]"
   ]
  },
  {
   "cell_type": "code",
   "execution_count": 9,
   "id": "dd7ae67c",
   "metadata": {},
   "outputs": [
    {
     "name": "stdout",
     "output_type": "stream",
     "text": [
      "numeros ganadores [2, 5, 7, 16, 21, 36, 5, 10]\n",
      "Predicciones del modelo [6, 11, 16, 21, 27, 32, 5, 7]\n"
     ]
    }
   ],
   "source": [
    "print('numeros ganadores {}'.format(ganadores))\n",
    "print('Predicciones del modelo {}'.format(resultado))"
   ]
  },
  {
   "cell_type": "code",
   "execution_count": null,
   "id": "31a5eef5",
   "metadata": {},
   "outputs": [],
   "source": []
  }
 ],
 "metadata": {
  "kernelspec": {
   "display_name": "Python 3 (ipykernel)",
   "language": "python",
   "name": "python3"
  },
  "language_info": {
   "codemirror_mode": {
    "name": "ipython",
    "version": 3
   },
   "file_extension": ".py",
   "mimetype": "text/x-python",
   "name": "python",
   "nbconvert_exporter": "python",
   "pygments_lexer": "ipython3",
   "version": "3.8.8"
  }
 },
 "nbformat": 4,
 "nbformat_minor": 5
}
