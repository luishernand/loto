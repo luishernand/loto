{
 "cells": [
  {
   "cell_type": "markdown",
   "id": "f769bcf1",
   "metadata": {},
   "source": [
    "# Lasso Model\n",
    "**description**: Build a lasso and Save model"
   ]
  },
  {
   "cell_type": "markdown",
   "id": "ef6f6852",
   "metadata": {},
   "source": [
    "**Libraries**"
   ]
  },
  {
   "cell_type": "code",
   "execution_count": 1,
   "id": "8f52a527",
   "metadata": {},
   "outputs": [],
   "source": [
    "import numpy as np\n",
    "import pandas as pd\n",
    "import joblib\n",
    "from sklearn.model_selection import train_test_split\n",
    "from sklearn.linear_model import Lasso\n",
    "import warnings\n",
    "warnings.filterwarnings('ignore')"
   ]
  },
  {
   "cell_type": "markdown",
   "id": "e3d67947",
   "metadata": {},
   "source": [
    "## Read data"
   ]
  },
  {
   "cell_type": "code",
   "execution_count": 2,
   "id": "0be452aa",
   "metadata": {},
   "outputs": [
    {
     "data": {
      "text/html": [
       "<div>\n",
       "<style scoped>\n",
       "    .dataframe tbody tr th:only-of-type {\n",
       "        vertical-align: middle;\n",
       "    }\n",
       "\n",
       "    .dataframe tbody tr th {\n",
       "        vertical-align: top;\n",
       "    }\n",
       "\n",
       "    .dataframe thead th {\n",
       "        text-align: right;\n",
       "    }\n",
       "</style>\n",
       "<table border=\"1\" class=\"dataframe\">\n",
       "  <thead>\n",
       "    <tr style=\"text-align: right;\">\n",
       "      <th></th>\n",
       "      <th>Fecha</th>\n",
       "      <th>bolo1</th>\n",
       "      <th>bolo2</th>\n",
       "      <th>bolo3</th>\n",
       "      <th>bolo4</th>\n",
       "      <th>bolo5</th>\n",
       "      <th>bolo6</th>\n",
       "      <th>Loto +.1</th>\n",
       "      <th>Loto +.2</th>\n",
       "    </tr>\n",
       "  </thead>\n",
       "  <tbody>\n",
       "    <tr>\n",
       "      <th>325</th>\n",
       "      <td>2022-08-20</td>\n",
       "      <td>2</td>\n",
       "      <td>11</td>\n",
       "      <td>15</td>\n",
       "      <td>18</td>\n",
       "      <td>25</td>\n",
       "      <td>28</td>\n",
       "      <td>7</td>\n",
       "      <td>15</td>\n",
       "    </tr>\n",
       "    <tr>\n",
       "      <th>326</th>\n",
       "      <td>2022-08-24</td>\n",
       "      <td>5</td>\n",
       "      <td>16</td>\n",
       "      <td>22</td>\n",
       "      <td>28</td>\n",
       "      <td>36</td>\n",
       "      <td>38</td>\n",
       "      <td>2</td>\n",
       "      <td>4</td>\n",
       "    </tr>\n",
       "    <tr>\n",
       "      <th>327</th>\n",
       "      <td>2022-08-27</td>\n",
       "      <td>3</td>\n",
       "      <td>4</td>\n",
       "      <td>7</td>\n",
       "      <td>19</td>\n",
       "      <td>24</td>\n",
       "      <td>38</td>\n",
       "      <td>1</td>\n",
       "      <td>10</td>\n",
       "    </tr>\n",
       "    <tr>\n",
       "      <th>328</th>\n",
       "      <td>2022-08-31</td>\n",
       "      <td>7</td>\n",
       "      <td>8</td>\n",
       "      <td>9</td>\n",
       "      <td>16</td>\n",
       "      <td>18</td>\n",
       "      <td>34</td>\n",
       "      <td>2</td>\n",
       "      <td>12</td>\n",
       "    </tr>\n",
       "    <tr>\n",
       "      <th>329</th>\n",
       "      <td>2022-09-03</td>\n",
       "      <td>2</td>\n",
       "      <td>5</td>\n",
       "      <td>7</td>\n",
       "      <td>16</td>\n",
       "      <td>21</td>\n",
       "      <td>36</td>\n",
       "      <td>5</td>\n",
       "      <td>10</td>\n",
       "    </tr>\n",
       "  </tbody>\n",
       "</table>\n",
       "</div>"
      ],
      "text/plain": [
       "         Fecha  bolo1  bolo2  bolo3  bolo4  bolo5  bolo6  Loto +.1  Loto +.2\n",
       "325 2022-08-20      2     11     15     18     25     28         7        15\n",
       "326 2022-08-24      5     16     22     28     36     38         2         4\n",
       "327 2022-08-27      3      4      7     19     24     38         1        10\n",
       "328 2022-08-31      7      8      9     16     18     34         2        12\n",
       "329 2022-09-03      2      5      7     16     21     36         5        10"
      ]
     },
     "execution_count": 2,
     "metadata": {},
     "output_type": "execute_result"
    }
   ],
   "source": [
    "data= pd.read_excel('base.xlsx', sheet_name='datos')\n",
    "data.tail()"
   ]
  },
  {
   "cell_type": "markdown",
   "id": "33f3fcff",
   "metadata": {},
   "source": [
    "### DATA PREPARATION"
   ]
  },
  {
   "cell_type": "code",
   "execution_count": 3,
   "id": "1e097093",
   "metadata": {},
   "outputs": [
    {
     "data": {
      "text/plain": [
       "array(['Fecha', 'bolo1', 'bolo2', 'bolo3', 'bolo4', 'bolo5', 'bolo6',\n",
       "       'Loto +.1', 'Loto +.2'], dtype=object)"
      ]
     },
     "execution_count": 3,
     "metadata": {},
     "output_type": "execute_result"
    }
   ],
   "source": [
    "data.columns.values"
   ]
  },
  {
   "cell_type": "code",
   "execution_count": 4,
   "id": "ce5466c0",
   "metadata": {},
   "outputs": [],
   "source": [
    "bol1 = data.copy()\n",
    "bol1['prediction'] = bol1[['bolo1']].shift(-1)\n",
    "\n",
    "\n",
    "bol2 = data.copy()\n",
    "bol2['prediction'] = bol2[['bolo2']].shift(-1)\n",
    "\n",
    "bol3 = data.copy()\n",
    "bol3['prediction'] = bol3[['bolo3']].shift(-1)\n",
    "\n",
    "bol3 = data.copy()\n",
    "bol3['prediction'] = bol3[['bolo3']].shift(-1)\n",
    "\n",
    "bol4 = data.copy()\n",
    "bol4['prediction'] = bol4[['bolo4']].shift(-1)\n",
    "\n",
    "bol5 = data.copy()\n",
    "bol5['prediction'] = bol5[['bolo5']].shift(-1)\n",
    "\n",
    "bol6 = data.copy()\n",
    "bol6['prediction'] = bol6[['bolo6']].shift(-1)\n",
    "\n",
    "loto_1 = data.copy()\n",
    "loto_1['prediction'] = loto_1[['Loto +.1']].shift(-1)\n",
    "\n",
    "loto_2 = data.copy()\n",
    "loto_2['prediction'] = loto_2[['Loto +.2']].shift(-1)"
   ]
  },
  {
   "cell_type": "markdown",
   "id": "31a5f35e",
   "metadata": {},
   "source": [
    "#### BOLO 1"
   ]
  },
  {
   "cell_type": "code",
   "execution_count": 5,
   "id": "2a1433de",
   "metadata": {},
   "outputs": [],
   "source": [
    "X = bol1.drop(['prediction', 'Fecha'], axis=1 )\n",
    "y = bol1['prediction']\n",
    "X = X[:-1]\n",
    "y = y[:-1]\n",
    "X_train, X_test, y_train, y_test = train_test_split(X,y, test_size=.10, random_state=42)"
   ]
  },
  {
   "cell_type": "markdown",
   "id": "706170bd",
   "metadata": {},
   "source": [
    "#### SETUP MODEL"
   ]
  },
  {
   "cell_type": "code",
   "execution_count": 6,
   "id": "f1dc6700",
   "metadata": {},
   "outputs": [],
   "source": [
    "model = Lasso().fit(X_train,y_train)"
   ]
  },
  {
   "cell_type": "code",
   "execution_count": 7,
   "id": "d609fe31",
   "metadata": {},
   "outputs": [
    {
     "data": {
      "text/plain": [
       "['lassobol1']"
      ]
     },
     "execution_count": 7,
     "metadata": {},
     "output_type": "execute_result"
    }
   ],
   "source": [
    "joblib.dump(model, 'lassobol1')"
   ]
  },
  {
   "cell_type": "markdown",
   "id": "5d0f00c3",
   "metadata": {},
   "source": [
    "### bolo2"
   ]
  },
  {
   "cell_type": "code",
   "execution_count": 8,
   "id": "7a3b6435",
   "metadata": {},
   "outputs": [
    {
     "data": {
      "text/plain": [
       "['lassobol2']"
      ]
     },
     "execution_count": 8,
     "metadata": {},
     "output_type": "execute_result"
    }
   ],
   "source": [
    "# select features and target\n",
    "X = bol2.drop(['prediction', 'Fecha'], axis=1 )\n",
    "y = bol2['prediction']\n",
    "X = X[:-1]\n",
    "y = y[:-1]\n",
    "\n",
    "# split train/test\n",
    "X_train, X_test, y_train, y_test = train_test_split(X,y, test_size=.10, random_state=42)\n",
    "\n",
    "#Buid model\n",
    "b2 = Lasso()\n",
    "b2.fit(X_train,y_train)\n",
    "\n",
    "#save\n",
    "joblib.dump(b2, 'lassobol2')"
   ]
  },
  {
   "cell_type": "markdown",
   "id": "1d76597a",
   "metadata": {},
   "source": [
    "### bolo3"
   ]
  },
  {
   "cell_type": "code",
   "execution_count": 9,
   "id": "7f9aa7f6",
   "metadata": {},
   "outputs": [
    {
     "data": {
      "text/plain": [
       "['lassobol3']"
      ]
     },
     "execution_count": 9,
     "metadata": {},
     "output_type": "execute_result"
    }
   ],
   "source": [
    "# select features and target\n",
    "X = bol3.drop(['prediction', 'Fecha'], axis=1 )\n",
    "y = bol3['prediction']\n",
    "X = X[:-1]\n",
    "y = y[:-1]\n",
    "\n",
    "# split train/test\n",
    "X_train, X_test, y_train, y_test = train_test_split(X,y, test_size=.10, random_state=42)\n",
    "\n",
    "#Buid model\n",
    "b3 = Lasso()\n",
    "b3.fit(X_train,y_train)\n",
    "\n",
    "#save\n",
    "joblib.dump(b3, 'lassobol3')"
   ]
  },
  {
   "cell_type": "markdown",
   "id": "b19bee05",
   "metadata": {},
   "source": [
    "### BOLO4"
   ]
  },
  {
   "cell_type": "code",
   "execution_count": 10,
   "id": "0fe6350a",
   "metadata": {},
   "outputs": [
    {
     "data": {
      "text/plain": [
       "['lassobol4']"
      ]
     },
     "execution_count": 10,
     "metadata": {},
     "output_type": "execute_result"
    }
   ],
   "source": [
    "# select features and target\n",
    "X = bol4.drop(['prediction', 'Fecha'], axis=1 )\n",
    "y = bol4['prediction']\n",
    "X = X[:-1]\n",
    "y = y[:-1]\n",
    "\n",
    "# split train/test\n",
    "X_train, X_test, y_train, y_test = train_test_split(X,y, test_size=.30, random_state=42)\n",
    "\n",
    "#Buid model\n",
    "b4 = Lasso()\n",
    "b4.fit(X_train,y_train)\n",
    "\n",
    "#save\n",
    "joblib.dump(b4, 'lassobol4')"
   ]
  },
  {
   "cell_type": "markdown",
   "id": "4a87c395",
   "metadata": {},
   "source": [
    "#### bolo5"
   ]
  },
  {
   "cell_type": "code",
   "execution_count": 11,
   "id": "44fe43a0",
   "metadata": {},
   "outputs": [
    {
     "data": {
      "text/plain": [
       "['lassobol5']"
      ]
     },
     "execution_count": 11,
     "metadata": {},
     "output_type": "execute_result"
    }
   ],
   "source": [
    "# select features and target\n",
    "X = bol5.drop(['prediction', 'Fecha'], axis=1 )\n",
    "y = bol5['prediction']\n",
    "X = X[:-1]\n",
    "y = y[:-1]\n",
    "\n",
    "# split train/test\n",
    "X_train, X_test, y_train, y_test = train_test_split(X,y, test_size=.10, random_state=42)\n",
    "\n",
    "#Buid model\n",
    "b5 = Lasso()\n",
    "b5.fit(X_train,y_train)\n",
    "\n",
    "#save\n",
    "joblib.dump(b5, 'lassobol5')"
   ]
  },
  {
   "cell_type": "markdown",
   "id": "60138b4c",
   "metadata": {},
   "source": [
    "#### BOLO 6"
   ]
  },
  {
   "cell_type": "code",
   "execution_count": 12,
   "id": "77ed4785",
   "metadata": {},
   "outputs": [
    {
     "data": {
      "text/plain": [
       "['lassobol6']"
      ]
     },
     "execution_count": 12,
     "metadata": {},
     "output_type": "execute_result"
    }
   ],
   "source": [
    "# select features and target\n",
    "X = bol6.drop(['prediction', 'Fecha'], axis=1 )\n",
    "y = bol6['prediction']\n",
    "X = X[:-1]\n",
    "y = y[:-1]\n",
    "\n",
    "# split train/test\n",
    "X_train, X_test, y_train, y_test = train_test_split(X,y, test_size=.10, random_state=42)\n",
    "\n",
    "#Buid model\n",
    "b6 = Lasso()\n",
    "b6.fit(X_train,y_train)\n",
    "\n",
    "#save\n",
    "joblib.dump(b6, 'lassobol6')"
   ]
  },
  {
   "cell_type": "markdown",
   "id": "669311d2",
   "metadata": {},
   "source": [
    "### Loto mas 1"
   ]
  },
  {
   "cell_type": "code",
   "execution_count": 13,
   "id": "09e1e1f9",
   "metadata": {},
   "outputs": [
    {
     "data": {
      "text/plain": [
       "['lassolt1']"
      ]
     },
     "execution_count": 13,
     "metadata": {},
     "output_type": "execute_result"
    }
   ],
   "source": [
    "# select features and target\n",
    "X = loto_1.drop(['prediction', 'Fecha'], axis=1 )\n",
    "y = loto_1['prediction']\n",
    "X = X[:-1]\n",
    "y = y[:-1]\n",
    "\n",
    "# split train/test\n",
    "X_train, X_test, y_train, y_test = train_test_split(X,y, test_size=.10, random_state=42)\n",
    "\n",
    "#Buid model\n",
    "lt1 = Lasso()\n",
    "lt1.fit(X_train,y_train)\n",
    "\n",
    "#save\n",
    "joblib.dump(lt1, 'lassolt1')"
   ]
  },
  {
   "cell_type": "markdown",
   "id": "0c5a2642",
   "metadata": {},
   "source": [
    "## LOTO MAS 2"
   ]
  },
  {
   "cell_type": "code",
   "execution_count": 14,
   "id": "83facc21",
   "metadata": {
    "scrolled": true
   },
   "outputs": [
    {
     "data": {
      "text/plain": [
       "['lassolt2']"
      ]
     },
     "execution_count": 14,
     "metadata": {},
     "output_type": "execute_result"
    }
   ],
   "source": [
    "# select features and target\n",
    "X = loto_2.drop(['prediction', 'Fecha'], axis=1 )\n",
    "y = loto_2['prediction']\n",
    "X = X[:-1]\n",
    "y = y[:-1]\n",
    "\n",
    "# split train/test\n",
    "X_train, X_test, y_train, y_test = train_test_split(X,y, test_size=.10, random_state=42)\n",
    "\n",
    "#Buid model\n",
    "lt2 = Lasso()\n",
    "lt2.fit(X_train, y_train)\n",
    "\n",
    "#save\n",
    "joblib.dump(lt2, 'lassolt2')"
   ]
  },
  {
   "cell_type": "code",
   "execution_count": null,
   "id": "40c9ed74",
   "metadata": {},
   "outputs": [],
   "source": []
  }
 ],
 "metadata": {
  "kernelspec": {
   "display_name": "Python 3 (ipykernel)",
   "language": "python",
   "name": "python3"
  },
  "language_info": {
   "codemirror_mode": {
    "name": "ipython",
    "version": 3
   },
   "file_extension": ".py",
   "mimetype": "text/x-python",
   "name": "python",
   "nbconvert_exporter": "python",
   "pygments_lexer": "ipython3",
   "version": "3.8.8"
  }
 },
 "nbformat": 4,
 "nbformat_minor": 5
}
