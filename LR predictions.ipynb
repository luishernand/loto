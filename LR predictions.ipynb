{
 "cells": [
  {
   "cell_type": "markdown",
   "id": "1db35318",
   "metadata": {},
   "source": [
    "# Carga de modelo Lineal y predicciones"
   ]
  },
  {
   "cell_type": "markdown",
   "id": "594a82a9",
   "metadata": {},
   "source": [
    "##### Librerias"
   ]
  },
  {
   "cell_type": "code",
   "execution_count": 1,
   "id": "9ccda6d9",
   "metadata": {},
   "outputs": [],
   "source": [
    "import numpy as np\n",
    "import pandas as pd\n",
    "import joblib\n",
    "from sklearn.linear_model import LogisticRegression\n",
    "import warnings\n",
    "warnings.filterwarnings('ignore')"
   ]
  },
  {
   "cell_type": "markdown",
   "id": "1985a657",
   "metadata": {},
   "source": [
    "## 1- Cargar modelos"
   ]
  },
  {
   "cell_type": "code",
   "execution_count": 2,
   "id": "aa1944a6",
   "metadata": {},
   "outputs": [],
   "source": [
    "bol1 = joblib.load('bol1')\n",
    "bol2 = joblib.load('bol2')\n",
    "bol3 = joblib.load('bol3')\n",
    "bol4 = joblib.load('bol4')\n",
    "bol5 = joblib.load('bol5')\n",
    "bol6 = joblib.load('bol6')\n",
    "lt1 = joblib.load('lt1')\n",
    "lt2 = joblib.load('lt2')"
   ]
  },
  {
   "cell_type": "markdown",
   "id": "95e9cd2b",
   "metadata": {},
   "source": [
    "## Predicciones"
   ]
  },
  {
   "cell_type": "code",
   "execution_count": 3,
   "id": "fbafe8fe",
   "metadata": {},
   "outputs": [],
   "source": [
    "data = [2,5,7,16,21,36,5,10]"
   ]
  },
  {
   "cell_type": "code",
   "execution_count": 4,
   "id": "0d99d3cf",
   "metadata": {},
   "outputs": [],
   "source": [
    "bolo1 = bol1.predict([data])\n",
    "bolo2 = bol2.predict([data])\n",
    "bolo3 = bol3.predict([data])\n",
    "bolo4 = bol4.predict([data])\n",
    "bolo5 = bol5.predict([data])\n",
    "bolo6 = bol6.predict([data])\n",
    "loto_1 = lt1.predict([data])\n",
    "loto_2 = lt2.predict([data])"
   ]
  },
  {
   "cell_type": "code",
   "execution_count": 5,
   "id": "9d892cad",
   "metadata": {},
   "outputs": [],
   "source": [
    "resultado = [int(bolo1[0]),int(bolo2[0]), int(bolo3[0]), int(bolo4[0]), int(bolo5[0]),\n",
    "            int(bolo6[0]), int(loto_1[0]), int(loto_2[0])] "
   ]
  },
  {
   "cell_type": "code",
   "execution_count": 6,
   "id": "9cd688bf",
   "metadata": {},
   "outputs": [
    {
     "data": {
      "text/plain": [
       "[1, 11, 12, 23, 33, 37, 2, 13]"
      ]
     },
     "execution_count": 6,
     "metadata": {},
     "output_type": "execute_result"
    }
   ],
   "source": [
    "resultado"
   ]
  },
  {
   "cell_type": "code",
   "execution_count": 7,
   "id": "c8adb134",
   "metadata": {},
   "outputs": [],
   "source": [
    "ganadores = [2,5,7,16,21,36,5,10]"
   ]
  },
  {
   "cell_type": "code",
   "execution_count": 8,
   "id": "b5db6d77",
   "metadata": {},
   "outputs": [
    {
     "name": "stdout",
     "output_type": "stream",
     "text": [
      "numeros ganadores [2, 5, 7, 16, 21, 36, 5, 10]\n",
      "Predicciones del modelo [1, 11, 12, 23, 33, 37, 2, 13]\n"
     ]
    }
   ],
   "source": [
    "print('numeros ganadores {}'.format(ganadores))\n",
    "print('Predicciones del modelo {}'.format(resultado))"
   ]
  },
  {
   "cell_type": "code",
   "execution_count": null,
   "id": "b0fb0fa1",
   "metadata": {},
   "outputs": [],
   "source": []
  }
 ],
 "metadata": {
  "kernelspec": {
   "display_name": "Python 3 (ipykernel)",
   "language": "python",
   "name": "python3"
  },
  "language_info": {
   "codemirror_mode": {
    "name": "ipython",
    "version": 3
   },
   "file_extension": ".py",
   "mimetype": "text/x-python",
   "name": "python",
   "nbconvert_exporter": "python",
   "pygments_lexer": "ipython3",
   "version": "3.8.8"
  }
 },
 "nbformat": 4,
 "nbformat_minor": 5
}
