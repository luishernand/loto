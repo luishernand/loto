{
 "cells": [
  {
   "cell_type": "markdown",
   "id": "28cfbb4c",
   "metadata": {},
   "source": [
    "# ML Loto Pred"
   ]
  },
  {
   "cell_type": "markdown",
   "id": "a8d63de7",
   "metadata": {},
   "source": [
    "#### Librerias"
   ]
  },
  {
   "cell_type": "code",
   "execution_count": 1,
   "id": "2029234c",
   "metadata": {},
   "outputs": [],
   "source": [
    "import numpy as np\n",
    "import pandas as pd\n",
    "from sklearn import metrics\n",
    "import warnings\n",
    "warnings.filterwarnings('ignore')"
   ]
  },
  {
   "cell_type": "markdown",
   "id": "580ece00",
   "metadata": {},
   "source": [
    "## 1- Read data"
   ]
  },
  {
   "cell_type": "code",
   "execution_count": 2,
   "id": "d153e0bd",
   "metadata": {},
   "outputs": [
    {
     "data": {
      "text/html": [
       "<div>\n",
       "<style scoped>\n",
       "    .dataframe tbody tr th:only-of-type {\n",
       "        vertical-align: middle;\n",
       "    }\n",
       "\n",
       "    .dataframe tbody tr th {\n",
       "        vertical-align: top;\n",
       "    }\n",
       "\n",
       "    .dataframe thead th {\n",
       "        text-align: right;\n",
       "    }\n",
       "</style>\n",
       "<table border=\"1\" class=\"dataframe\">\n",
       "  <thead>\n",
       "    <tr style=\"text-align: right;\">\n",
       "      <th></th>\n",
       "      <th>Fecha</th>\n",
       "      <th>bolo1</th>\n",
       "      <th>bolo2</th>\n",
       "      <th>bolo3</th>\n",
       "      <th>bolo4</th>\n",
       "      <th>bolo5</th>\n",
       "      <th>bolo6</th>\n",
       "      <th>Loto +.1</th>\n",
       "      <th>Loto +.2</th>\n",
       "    </tr>\n",
       "  </thead>\n",
       "  <tbody>\n",
       "    <tr>\n",
       "      <th>317</th>\n",
       "      <td>2022-07-23</td>\n",
       "      <td>9</td>\n",
       "      <td>13</td>\n",
       "      <td>16</td>\n",
       "      <td>22</td>\n",
       "      <td>24</td>\n",
       "      <td>38</td>\n",
       "      <td>6</td>\n",
       "      <td>15</td>\n",
       "    </tr>\n",
       "    <tr>\n",
       "      <th>318</th>\n",
       "      <td>2022-07-27</td>\n",
       "      <td>4</td>\n",
       "      <td>5</td>\n",
       "      <td>12</td>\n",
       "      <td>20</td>\n",
       "      <td>21</td>\n",
       "      <td>37</td>\n",
       "      <td>8</td>\n",
       "      <td>1</td>\n",
       "    </tr>\n",
       "    <tr>\n",
       "      <th>319</th>\n",
       "      <td>2022-07-30</td>\n",
       "      <td>9</td>\n",
       "      <td>13</td>\n",
       "      <td>14</td>\n",
       "      <td>15</td>\n",
       "      <td>29</td>\n",
       "      <td>36</td>\n",
       "      <td>5</td>\n",
       "      <td>7</td>\n",
       "    </tr>\n",
       "    <tr>\n",
       "      <th>320</th>\n",
       "      <td>2022-08-03</td>\n",
       "      <td>14</td>\n",
       "      <td>20</td>\n",
       "      <td>27</td>\n",
       "      <td>33</td>\n",
       "      <td>34</td>\n",
       "      <td>36</td>\n",
       "      <td>6</td>\n",
       "      <td>1</td>\n",
       "    </tr>\n",
       "    <tr>\n",
       "      <th>321</th>\n",
       "      <td>2022-08-06</td>\n",
       "      <td>1</td>\n",
       "      <td>4</td>\n",
       "      <td>6</td>\n",
       "      <td>7</td>\n",
       "      <td>24</td>\n",
       "      <td>29</td>\n",
       "      <td>1</td>\n",
       "      <td>4</td>\n",
       "    </tr>\n",
       "  </tbody>\n",
       "</table>\n",
       "</div>"
      ],
      "text/plain": [
       "         Fecha  bolo1  bolo2  bolo3  bolo4  bolo5  bolo6  Loto +.1  Loto +.2\n",
       "317 2022-07-23      9     13     16     22     24     38         6        15\n",
       "318 2022-07-27      4      5     12     20     21     37         8         1\n",
       "319 2022-07-30      9     13     14     15     29     36         5         7\n",
       "320 2022-08-03     14     20     27     33     34     36         6         1\n",
       "321 2022-08-06      1      4      6      7     24     29         1         4"
      ]
     },
     "execution_count": 2,
     "metadata": {},
     "output_type": "execute_result"
    }
   ],
   "source": [
    "data = data= pd.read_excel('base.xlsx', sheet_name='datos')\n",
    "data.tail()"
   ]
  },
  {
   "cell_type": "markdown",
   "id": "5525dd6b",
   "metadata": {},
   "source": [
    "## 2- data Prep"
   ]
  },
  {
   "cell_type": "code",
   "execution_count": 3,
   "id": "290543ee",
   "metadata": {},
   "outputs": [],
   "source": [
    "# set time to index\n",
    "data.set_index('Fecha',inplace = True )"
   ]
  },
  {
   "cell_type": "code",
   "execution_count": 4,
   "id": "a5f056b8",
   "metadata": {},
   "outputs": [],
   "source": [
    "# make fetures dates\n",
    "miercoles = 3\n",
    "sabados = 4"
   ]
  },
  {
   "cell_type": "code",
   "execution_count": 5,
   "id": "97923891",
   "metadata": {},
   "outputs": [
    {
     "data": {
      "text/html": [
       "<div>\n",
       "<style scoped>\n",
       "    .dataframe tbody tr th:only-of-type {\n",
       "        vertical-align: middle;\n",
       "    }\n",
       "\n",
       "    .dataframe tbody tr th {\n",
       "        vertical-align: top;\n",
       "    }\n",
       "\n",
       "    .dataframe thead th {\n",
       "        text-align: right;\n",
       "    }\n",
       "</style>\n",
       "<table border=\"1\" class=\"dataframe\">\n",
       "  <thead>\n",
       "    <tr style=\"text-align: right;\">\n",
       "      <th></th>\n",
       "      <th>bolo1</th>\n",
       "      <th>bolo2</th>\n",
       "      <th>bolo3</th>\n",
       "      <th>bolo4</th>\n",
       "      <th>bolo5</th>\n",
       "      <th>bolo6</th>\n",
       "      <th>Loto +.1</th>\n",
       "      <th>Loto +.2</th>\n",
       "      <th>prediction</th>\n",
       "    </tr>\n",
       "    <tr>\n",
       "      <th>Fecha</th>\n",
       "      <th></th>\n",
       "      <th></th>\n",
       "      <th></th>\n",
       "      <th></th>\n",
       "      <th></th>\n",
       "      <th></th>\n",
       "      <th></th>\n",
       "      <th></th>\n",
       "      <th></th>\n",
       "    </tr>\n",
       "  </thead>\n",
       "  <tbody>\n",
       "    <tr>\n",
       "      <th>2019-04-10</th>\n",
       "      <td>12</td>\n",
       "      <td>15</td>\n",
       "      <td>18</td>\n",
       "      <td>23</td>\n",
       "      <td>25</td>\n",
       "      <td>31</td>\n",
       "      <td>4</td>\n",
       "      <td>1</td>\n",
       "      <td>7.0</td>\n",
       "    </tr>\n",
       "    <tr>\n",
       "      <th>2019-04-13</th>\n",
       "      <td>7</td>\n",
       "      <td>9</td>\n",
       "      <td>10</td>\n",
       "      <td>21</td>\n",
       "      <td>27</td>\n",
       "      <td>28</td>\n",
       "      <td>5</td>\n",
       "      <td>5</td>\n",
       "      <td>1.0</td>\n",
       "    </tr>\n",
       "    <tr>\n",
       "      <th>2019-04-17</th>\n",
       "      <td>1</td>\n",
       "      <td>3</td>\n",
       "      <td>13</td>\n",
       "      <td>20</td>\n",
       "      <td>35</td>\n",
       "      <td>36</td>\n",
       "      <td>1</td>\n",
       "      <td>13</td>\n",
       "      <td>4.0</td>\n",
       "    </tr>\n",
       "    <tr>\n",
       "      <th>2019-04-20</th>\n",
       "      <td>4</td>\n",
       "      <td>6</td>\n",
       "      <td>11</td>\n",
       "      <td>13</td>\n",
       "      <td>27</td>\n",
       "      <td>28</td>\n",
       "      <td>10</td>\n",
       "      <td>7</td>\n",
       "      <td>1.0</td>\n",
       "    </tr>\n",
       "    <tr>\n",
       "      <th>2019-04-24</th>\n",
       "      <td>1</td>\n",
       "      <td>7</td>\n",
       "      <td>19</td>\n",
       "      <td>33</td>\n",
       "      <td>36</td>\n",
       "      <td>38</td>\n",
       "      <td>1</td>\n",
       "      <td>2</td>\n",
       "      <td>9.0</td>\n",
       "    </tr>\n",
       "  </tbody>\n",
       "</table>\n",
       "</div>"
      ],
      "text/plain": [
       "            bolo1  bolo2  bolo3  bolo4  bolo5  bolo6  Loto +.1  Loto +.2  \\\n",
       "Fecha                                                                      \n",
       "2019-04-10     12     15     18     23     25     31         4         1   \n",
       "2019-04-13      7      9     10     21     27     28         5         5   \n",
       "2019-04-17      1      3     13     20     35     36         1        13   \n",
       "2019-04-20      4      6     11     13     27     28        10         7   \n",
       "2019-04-24      1      7     19     33     36     38         1         2   \n",
       "\n",
       "            prediction  \n",
       "Fecha                   \n",
       "2019-04-10         7.0  \n",
       "2019-04-13         1.0  \n",
       "2019-04-17         4.0  \n",
       "2019-04-20         1.0  \n",
       "2019-04-24         9.0  "
      ]
     },
     "execution_count": 5,
     "metadata": {},
     "output_type": "execute_result"
    }
   ],
   "source": [
    "bol1 = data.copy()\n",
    "bol1['prediction'] = bol1[['bolo1']].shift(-1)\n",
    "bol1.head()"
   ]
  },
  {
   "cell_type": "code",
   "execution_count": 6,
   "id": "6ad553eb",
   "metadata": {},
   "outputs": [
    {
     "data": {
      "text/html": [
       "<div>\n",
       "<style scoped>\n",
       "    .dataframe tbody tr th:only-of-type {\n",
       "        vertical-align: middle;\n",
       "    }\n",
       "\n",
       "    .dataframe tbody tr th {\n",
       "        vertical-align: top;\n",
       "    }\n",
       "\n",
       "    .dataframe thead th {\n",
       "        text-align: right;\n",
       "    }\n",
       "</style>\n",
       "<table border=\"1\" class=\"dataframe\">\n",
       "  <thead>\n",
       "    <tr style=\"text-align: right;\">\n",
       "      <th></th>\n",
       "      <th>bolo1</th>\n",
       "      <th>bolo2</th>\n",
       "      <th>bolo3</th>\n",
       "      <th>bolo4</th>\n",
       "      <th>bolo5</th>\n",
       "      <th>bolo6</th>\n",
       "      <th>Loto +.1</th>\n",
       "      <th>Loto +.2</th>\n",
       "      <th>prediction</th>\n",
       "    </tr>\n",
       "    <tr>\n",
       "      <th>Fecha</th>\n",
       "      <th></th>\n",
       "      <th></th>\n",
       "      <th></th>\n",
       "      <th></th>\n",
       "      <th></th>\n",
       "      <th></th>\n",
       "      <th></th>\n",
       "      <th></th>\n",
       "      <th></th>\n",
       "    </tr>\n",
       "  </thead>\n",
       "  <tbody>\n",
       "    <tr>\n",
       "      <th>2022-07-23</th>\n",
       "      <td>9</td>\n",
       "      <td>13</td>\n",
       "      <td>16</td>\n",
       "      <td>22</td>\n",
       "      <td>24</td>\n",
       "      <td>38</td>\n",
       "      <td>6</td>\n",
       "      <td>15</td>\n",
       "      <td>4.0</td>\n",
       "    </tr>\n",
       "    <tr>\n",
       "      <th>2022-07-27</th>\n",
       "      <td>4</td>\n",
       "      <td>5</td>\n",
       "      <td>12</td>\n",
       "      <td>20</td>\n",
       "      <td>21</td>\n",
       "      <td>37</td>\n",
       "      <td>8</td>\n",
       "      <td>1</td>\n",
       "      <td>9.0</td>\n",
       "    </tr>\n",
       "    <tr>\n",
       "      <th>2022-07-30</th>\n",
       "      <td>9</td>\n",
       "      <td>13</td>\n",
       "      <td>14</td>\n",
       "      <td>15</td>\n",
       "      <td>29</td>\n",
       "      <td>36</td>\n",
       "      <td>5</td>\n",
       "      <td>7</td>\n",
       "      <td>14.0</td>\n",
       "    </tr>\n",
       "    <tr>\n",
       "      <th>2022-08-03</th>\n",
       "      <td>14</td>\n",
       "      <td>20</td>\n",
       "      <td>27</td>\n",
       "      <td>33</td>\n",
       "      <td>34</td>\n",
       "      <td>36</td>\n",
       "      <td>6</td>\n",
       "      <td>1</td>\n",
       "      <td>1.0</td>\n",
       "    </tr>\n",
       "    <tr>\n",
       "      <th>2022-08-06</th>\n",
       "      <td>1</td>\n",
       "      <td>4</td>\n",
       "      <td>6</td>\n",
       "      <td>7</td>\n",
       "      <td>24</td>\n",
       "      <td>29</td>\n",
       "      <td>1</td>\n",
       "      <td>4</td>\n",
       "      <td>NaN</td>\n",
       "    </tr>\n",
       "  </tbody>\n",
       "</table>\n",
       "</div>"
      ],
      "text/plain": [
       "            bolo1  bolo2  bolo3  bolo4  bolo5  bolo6  Loto +.1  Loto +.2  \\\n",
       "Fecha                                                                      \n",
       "2022-07-23      9     13     16     22     24     38         6        15   \n",
       "2022-07-27      4      5     12     20     21     37         8         1   \n",
       "2022-07-30      9     13     14     15     29     36         5         7   \n",
       "2022-08-03     14     20     27     33     34     36         6         1   \n",
       "2022-08-06      1      4      6      7     24     29         1         4   \n",
       "\n",
       "            prediction  \n",
       "Fecha                   \n",
       "2022-07-23         4.0  \n",
       "2022-07-27         9.0  \n",
       "2022-07-30        14.0  \n",
       "2022-08-03         1.0  \n",
       "2022-08-06         NaN  "
      ]
     },
     "execution_count": 6,
     "metadata": {},
     "output_type": "execute_result"
    }
   ],
   "source": [
    "bol1.tail()"
   ]
  },
  {
   "cell_type": "markdown",
   "id": "b4cf5c0d",
   "metadata": {},
   "source": [
    "## 3- Fetures selection\n",
    "- X and y\n",
    "- Split into train and test"
   ]
  },
  {
   "cell_type": "code",
   "execution_count": 7,
   "id": "5c61f7e3",
   "metadata": {},
   "outputs": [
    {
     "data": {
      "text/plain": [
       "((322, 8), (322,))"
      ]
     },
     "execution_count": 7,
     "metadata": {},
     "output_type": "execute_result"
    }
   ],
   "source": [
    "X = bol1.drop('prediction', axis=1 )\n",
    "y = bol1['prediction']\n",
    "X.shape, y.shape"
   ]
  },
  {
   "cell_type": "code",
   "execution_count": 8,
   "id": "b87231a1",
   "metadata": {},
   "outputs": [],
   "source": [
    "X = X[:-1]\n",
    "y = y[:-1]"
   ]
  },
  {
   "cell_type": "code",
   "execution_count": 9,
   "id": "024dc96e",
   "metadata": {},
   "outputs": [],
   "source": [
    "#split data\n",
    "from sklearn.model_selection import train_test_split"
   ]
  },
  {
   "cell_type": "code",
   "execution_count": 10,
   "id": "88bb3655",
   "metadata": {},
   "outputs": [],
   "source": [
    "X_train, X_test, y_train, y_test = train_test_split(X, y , test_size = .30, random_state=42)"
   ]
  },
  {
   "cell_type": "markdown",
   "id": "f7e48c11",
   "metadata": {},
   "source": [
    "## 3- Modelos"
   ]
  },
  {
   "cell_type": "markdown",
   "id": "7d6f1b78",
   "metadata": {},
   "source": [
    "### 3.1- Linear"
   ]
  },
  {
   "cell_type": "code",
   "execution_count": 11,
   "id": "f972b050",
   "metadata": {},
   "outputs": [],
   "source": [
    "from sklearn.linear_model import LogisticRegression"
   ]
  },
  {
   "cell_type": "code",
   "execution_count": 12,
   "id": "8046afe0",
   "metadata": {},
   "outputs": [
    {
     "data": {
      "text/plain": [
       "LogisticRegression(max_iter=300, solver='liblinear')"
      ]
     },
     "execution_count": 12,
     "metadata": {},
     "output_type": "execute_result"
    }
   ],
   "source": [
    "lr = LogisticRegression(max_iter=300, solver='liblinear')\n",
    "lr.fit(X_train, y_train)"
   ]
  },
  {
   "cell_type": "code",
   "execution_count": 13,
   "id": "ec19df53",
   "metadata": {},
   "outputs": [],
   "source": [
    "y_pred = lr.predict(X_test)"
   ]
  },
  {
   "cell_type": "code",
   "execution_count": 14,
   "id": "5fc6f973",
   "metadata": {},
   "outputs": [
    {
     "data": {
      "text/plain": [
       "-2.873591872984216"
      ]
     },
     "execution_count": 14,
     "metadata": {},
     "output_type": "execute_result"
    }
   ],
   "source": [
    "# Evaluation \n",
    "metrics.r2_score(y_test, y_pred)"
   ]
  },
  {
   "cell_type": "markdown",
   "id": "918c6b34",
   "metadata": {},
   "source": [
    "### 3.2-Tree"
   ]
  },
  {
   "cell_type": "code",
   "execution_count": 15,
   "id": "adac8ced",
   "metadata": {},
   "outputs": [],
   "source": [
    "from sklearn.tree import DecisionTreeRegressor"
   ]
  },
  {
   "cell_type": "code",
   "execution_count": 16,
   "id": "8c66e03c",
   "metadata": {},
   "outputs": [
    {
     "data": {
      "text/plain": [
       "DecisionTreeRegressor()"
      ]
     },
     "execution_count": 16,
     "metadata": {},
     "output_type": "execute_result"
    }
   ],
   "source": [
    "dt = DecisionTreeRegressor()\n",
    "dt.fit(X_train, y_train)"
   ]
  },
  {
   "cell_type": "code",
   "execution_count": 17,
   "id": "2dc13cfc",
   "metadata": {},
   "outputs": [
    {
     "data": {
      "text/plain": [
       "-2.200285131113569"
      ]
     },
     "execution_count": 17,
     "metadata": {},
     "output_type": "execute_result"
    }
   ],
   "source": [
    "#predictions\n",
    "y_dt = dt.predict(X_test)\n",
    "# Evaluation \n",
    "metrics.r2_score(y_test, y_dt)"
   ]
  },
  {
   "cell_type": "markdown",
   "id": "9ea8e7f1",
   "metadata": {},
   "source": [
    "### 3.3 Random Forest"
   ]
  },
  {
   "cell_type": "code",
   "execution_count": 18,
   "id": "a2ac230b",
   "metadata": {},
   "outputs": [],
   "source": [
    "from sklearn.ensemble import RandomForestRegressor"
   ]
  },
  {
   "cell_type": "code",
   "execution_count": 19,
   "id": "248c29d8",
   "metadata": {},
   "outputs": [
    {
     "data": {
      "text/plain": [
       "RandomForestRegressor(n_estimators=500)"
      ]
     },
     "execution_count": 19,
     "metadata": {},
     "output_type": "execute_result"
    }
   ],
   "source": [
    "rf = RandomForestRegressor(n_estimators=500)\n",
    "rf.fit(X_train, y_train)"
   ]
  },
  {
   "cell_type": "code",
   "execution_count": 20,
   "id": "0960beee",
   "metadata": {},
   "outputs": [
    {
     "data": {
      "text/plain": [
       "-0.3352240233714028"
      ]
     },
     "execution_count": 20,
     "metadata": {},
     "output_type": "execute_result"
    }
   ],
   "source": [
    "y_rf = rf.predict(X_test)\n",
    "# Evaluation \n",
    "metrics.r2_score(y_test, y_rf)"
   ]
  },
  {
   "cell_type": "markdown",
   "id": "2f20149f",
   "metadata": {},
   "source": [
    "### 3.5 XGBOOST"
   ]
  },
  {
   "cell_type": "code",
   "execution_count": 21,
   "id": "9ee57ae1",
   "metadata": {},
   "outputs": [],
   "source": [
    "from xgboost import XGBRFRegressor"
   ]
  },
  {
   "cell_type": "code",
   "execution_count": 22,
   "id": "cc62047e",
   "metadata": {
    "scrolled": true
   },
   "outputs": [
    {
     "data": {
      "text/plain": [
       "XGBRFRegressor(base_score=0.5, booster='gbtree', colsample_bylevel=1,\n",
       "               colsample_bytree=1, enable_categorical=False, gamma=0, gpu_id=-1,\n",
       "               importance_type=None, interaction_constraints='',\n",
       "               max_delta_step=0, max_depth=6, min_child_weight=1, missing=nan,\n",
       "               monotone_constraints='()', n_estimators=100, n_jobs=4,\n",
       "               num_parallel_tree=100, objective='reg:squarederror',\n",
       "               predictor='auto', random_state=0, reg_alpha=0,\n",
       "               scale_pos_weight=1, tree_method='exact', validate_parameters=1,\n",
       "               verbosity=None)"
      ]
     },
     "execution_count": 22,
     "metadata": {},
     "output_type": "execute_result"
    }
   ],
   "source": [
    "xgb = XGBRFRegressor()\n",
    "xgb.fit(X_train, y_train)"
   ]
  },
  {
   "cell_type": "code",
   "execution_count": 23,
   "id": "416272d9",
   "metadata": {},
   "outputs": [],
   "source": [
    "y_xgb = xgb.predict(X_test)"
   ]
  },
  {
   "cell_type": "code",
   "execution_count": 24,
   "id": "bb08f2e1",
   "metadata": {},
   "outputs": [
    {
     "data": {
      "text/plain": [
       "-0.31727451165410425"
      ]
     },
     "execution_count": 24,
     "metadata": {},
     "output_type": "execute_result"
    }
   ],
   "source": [
    "metrics.r2_score(y_test, y_xgb)"
   ]
  },
  {
   "cell_type": "markdown",
   "id": "928a55c1",
   "metadata": {},
   "source": [
    "## 4- Sample Predictions"
   ]
  },
  {
   "cell_type": "code",
   "execution_count": 25,
   "id": "90f92d7d",
   "metadata": {},
   "outputs": [
    {
     "data": {
      "text/plain": [
       "9"
      ]
     },
     "execution_count": 25,
     "metadata": {},
     "output_type": "execute_result"
    }
   ],
   "source": [
    "result = dt.predict([[9,10,12,16,30,37,7,3]])\n",
    "round(result[0])"
   ]
  },
  {
   "cell_type": "code",
   "execution_count": 26,
   "id": "782ba217",
   "metadata": {},
   "outputs": [
    {
     "data": {
      "text/plain": [
       "3"
      ]
     },
     "execution_count": 26,
     "metadata": {},
     "output_type": "execute_result"
    }
   ],
   "source": [
    "result = lr.predict([[9,10,12,16,30,37,7,3]])\n",
    "round(result[0])"
   ]
  },
  {
   "cell_type": "code",
   "execution_count": 27,
   "id": "fe3d59f5",
   "metadata": {
    "scrolled": true
   },
   "outputs": [
    {
     "data": {
      "text/plain": [
       "8"
      ]
     },
     "execution_count": 27,
     "metadata": {},
     "output_type": "execute_result"
    }
   ],
   "source": [
    "result = rf.predict([[9,10,12,16,30,37,7,3]])\n",
    "round(result[0])"
   ]
  },
  {
   "cell_type": "markdown",
   "id": "59f58b9b",
   "metadata": {},
   "source": [
    "la precicción del modelo Linear es mas exacta"
   ]
  }
 ],
 "metadata": {
  "kernelspec": {
   "display_name": "Python 3 (ipykernel)",
   "language": "python",
   "name": "python3"
  },
  "language_info": {
   "codemirror_mode": {
    "name": "ipython",
    "version": 3
   },
   "file_extension": ".py",
   "mimetype": "text/x-python",
   "name": "python",
   "nbconvert_exporter": "python",
   "pygments_lexer": "ipython3",
   "version": "3.8.8"
  }
 },
 "nbformat": 4,
 "nbformat_minor": 5
}
