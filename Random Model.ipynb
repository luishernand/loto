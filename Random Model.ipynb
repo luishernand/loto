{
 "cells": [
  {
   "cell_type": "markdown",
   "id": "67f7fb84",
   "metadata": {},
   "source": [
    "# Random Forest"
   ]
  },
  {
   "cell_type": "markdown",
   "id": "2fc5548f",
   "metadata": {},
   "source": [
    "#### Libraries"
   ]
  },
  {
   "cell_type": "code",
   "execution_count": 1,
   "id": "e4ee5d69",
   "metadata": {},
   "outputs": [],
   "source": [
    "import numpy as np\n",
    "import pandas as pd\n",
    "import joblib\n",
    "from sklearn.model_selection import train_test_split\n",
    "from sklearn.ensemble import RandomForestRegressor\n",
    "import warnings\n",
    "warnings.filterwarnings('ignore')"
   ]
  },
  {
   "cell_type": "markdown",
   "id": "fc5bb1a6",
   "metadata": {},
   "source": [
    "## 1- Read data"
   ]
  },
  {
   "cell_type": "code",
   "execution_count": 2,
   "id": "f57dfab5",
   "metadata": {},
   "outputs": [],
   "source": [
    "data= pd.read_excel('base.xlsx', sheet_name='datos')"
   ]
  },
  {
   "cell_type": "code",
   "execution_count": 3,
   "id": "90d9da8c",
   "metadata": {},
   "outputs": [
    {
     "data": {
      "text/html": [
       "<div>\n",
       "<style scoped>\n",
       "    .dataframe tbody tr th:only-of-type {\n",
       "        vertical-align: middle;\n",
       "    }\n",
       "\n",
       "    .dataframe tbody tr th {\n",
       "        vertical-align: top;\n",
       "    }\n",
       "\n",
       "    .dataframe thead th {\n",
       "        text-align: right;\n",
       "    }\n",
       "</style>\n",
       "<table border=\"1\" class=\"dataframe\">\n",
       "  <thead>\n",
       "    <tr style=\"text-align: right;\">\n",
       "      <th></th>\n",
       "      <th>Fecha</th>\n",
       "      <th>bolo1</th>\n",
       "      <th>bolo2</th>\n",
       "      <th>bolo3</th>\n",
       "      <th>bolo4</th>\n",
       "      <th>bolo5</th>\n",
       "      <th>bolo6</th>\n",
       "      <th>Loto +.1</th>\n",
       "      <th>Loto +.2</th>\n",
       "    </tr>\n",
       "  </thead>\n",
       "  <tbody>\n",
       "    <tr>\n",
       "      <th>322</th>\n",
       "      <td>2022-08-10</td>\n",
       "      <td>4</td>\n",
       "      <td>6</td>\n",
       "      <td>7</td>\n",
       "      <td>14</td>\n",
       "      <td>25</td>\n",
       "      <td>28</td>\n",
       "      <td>6</td>\n",
       "      <td>10</td>\n",
       "    </tr>\n",
       "    <tr>\n",
       "      <th>323</th>\n",
       "      <td>2022-08-13</td>\n",
       "      <td>1</td>\n",
       "      <td>2</td>\n",
       "      <td>8</td>\n",
       "      <td>9</td>\n",
       "      <td>11</td>\n",
       "      <td>28</td>\n",
       "      <td>11</td>\n",
       "      <td>8</td>\n",
       "    </tr>\n",
       "    <tr>\n",
       "      <th>324</th>\n",
       "      <td>2022-08-17</td>\n",
       "      <td>6</td>\n",
       "      <td>11</td>\n",
       "      <td>12</td>\n",
       "      <td>24</td>\n",
       "      <td>31</td>\n",
       "      <td>34</td>\n",
       "      <td>11</td>\n",
       "      <td>9</td>\n",
       "    </tr>\n",
       "    <tr>\n",
       "      <th>325</th>\n",
       "      <td>2022-08-20</td>\n",
       "      <td>2</td>\n",
       "      <td>11</td>\n",
       "      <td>15</td>\n",
       "      <td>18</td>\n",
       "      <td>25</td>\n",
       "      <td>28</td>\n",
       "      <td>7</td>\n",
       "      <td>15</td>\n",
       "    </tr>\n",
       "    <tr>\n",
       "      <th>326</th>\n",
       "      <td>2022-08-24</td>\n",
       "      <td>5</td>\n",
       "      <td>16</td>\n",
       "      <td>22</td>\n",
       "      <td>28</td>\n",
       "      <td>36</td>\n",
       "      <td>38</td>\n",
       "      <td>2</td>\n",
       "      <td>4</td>\n",
       "    </tr>\n",
       "  </tbody>\n",
       "</table>\n",
       "</div>"
      ],
      "text/plain": [
       "         Fecha  bolo1  bolo2  bolo3  bolo4  bolo5  bolo6  Loto +.1  Loto +.2\n",
       "322 2022-08-10      4      6      7     14     25     28         6        10\n",
       "323 2022-08-13      1      2      8      9     11     28        11         8\n",
       "324 2022-08-17      6     11     12     24     31     34        11         9\n",
       "325 2022-08-20      2     11     15     18     25     28         7        15\n",
       "326 2022-08-24      5     16     22     28     36     38         2         4"
      ]
     },
     "execution_count": 3,
     "metadata": {},
     "output_type": "execute_result"
    }
   ],
   "source": [
    "data.tail()"
   ]
  },
  {
   "cell_type": "markdown",
   "id": "5bffa043",
   "metadata": {},
   "source": [
    "### Data Preparation"
   ]
  },
  {
   "cell_type": "code",
   "execution_count": 4,
   "id": "16eacada",
   "metadata": {},
   "outputs": [
    {
     "data": {
      "text/plain": [
       "array(['Fecha', 'bolo1', 'bolo2', 'bolo3', 'bolo4', 'bolo5', 'bolo6',\n",
       "       'Loto +.1', 'Loto +.2'], dtype=object)"
      ]
     },
     "execution_count": 4,
     "metadata": {},
     "output_type": "execute_result"
    }
   ],
   "source": [
    "data.columns.values"
   ]
  },
  {
   "cell_type": "code",
   "execution_count": 5,
   "id": "e342f664",
   "metadata": {},
   "outputs": [],
   "source": [
    "bol1 = data.copy()\n",
    "bol1['prediction'] = bol1[['bolo1']].shift(-1)\n",
    "\n",
    "bol2 = data.copy()\n",
    "bol2['prediction'] = bol2[['bolo2']].shift(-1)\n",
    "\n",
    "bol3 = data.copy()\n",
    "bol3['prediction'] = bol3[['bolo3']].shift(-1)\n",
    "\n",
    "bol3 = data.copy()\n",
    "bol3['prediction'] = bol3[['bolo3']].shift(-1)\n",
    "\n",
    "bol4 = data.copy()\n",
    "bol4['prediction'] = bol4[['bolo4']].shift(-1)\n",
    "\n",
    "bol5 = data.copy()\n",
    "bol5['prediction'] = bol5[['bolo5']].shift(-1)\n",
    "\n",
    "bol6 = data.copy()\n",
    "bol6['prediction'] = bol6[['bolo6']].shift(-1)\n",
    "\n",
    "loto_1 = data.copy()\n",
    "loto_1['prediction'] = loto_1[['Loto +.1']].shift(-1)\n",
    "\n",
    "loto_2 = data.copy()\n",
    "loto_2['prediction'] = loto_2[['Loto +.2']].shift(-1)"
   ]
  },
  {
   "cell_type": "markdown",
   "id": "5482fef3",
   "metadata": {},
   "source": [
    "### Bolo 1"
   ]
  },
  {
   "cell_type": "code",
   "execution_count": 6,
   "id": "94926673",
   "metadata": {},
   "outputs": [],
   "source": [
    "X = bol1.drop(['prediction', 'Fecha'], axis=1 )\n",
    "y = bol1['prediction']\n",
    "X = X[:-1]\n",
    "y = y[:-1]"
   ]
  },
  {
   "cell_type": "code",
   "execution_count": 7,
   "id": "2d8f5e6c",
   "metadata": {},
   "outputs": [],
   "source": [
    "X_train, X_test, y_train, y_test = train_test_split(X,y, test_size=.10, random_state=42)"
   ]
  },
  {
   "cell_type": "code",
   "execution_count": 8,
   "id": "7c9097b2",
   "metadata": {},
   "outputs": [
    {
     "data": {
      "text/plain": [
       "RandomForestRegressor(n_estimators=500, random_state=42)"
      ]
     },
     "execution_count": 8,
     "metadata": {},
     "output_type": "execute_result"
    }
   ],
   "source": [
    "rf = RandomForestRegressor(n_estimators=500, random_state=42)\n",
    "#rf.fit(X,y)\n",
    "rf.fit(X_train, y_train)"
   ]
  },
  {
   "cell_type": "code",
   "execution_count": 9,
   "id": "e35598a4",
   "metadata": {},
   "outputs": [],
   "source": [
    "#y_bol1 = rf.predict(X_test)"
   ]
  },
  {
   "cell_type": "code",
   "execution_count": 10,
   "id": "bc3530b2",
   "metadata": {},
   "outputs": [],
   "source": [
    "#resultados = pd.DataFrame()\n",
    "#resultados['test']= y_test\n",
    "#resultados['pred'] = y_bol1\n",
    "#resultados.tail()"
   ]
  },
  {
   "cell_type": "code",
   "execution_count": 11,
   "id": "184e241f",
   "metadata": {},
   "outputs": [
    {
     "data": {
      "text/plain": [
       "['rfbol1']"
      ]
     },
     "execution_count": 11,
     "metadata": {},
     "output_type": "execute_result"
    }
   ],
   "source": [
    "joblib.dump(rf, 'rfbol1')"
   ]
  },
  {
   "cell_type": "markdown",
   "id": "c3f30b26",
   "metadata": {},
   "source": [
    "### Bolo2"
   ]
  },
  {
   "cell_type": "code",
   "execution_count": 12,
   "id": "c6a3c5ee",
   "metadata": {},
   "outputs": [
    {
     "data": {
      "text/plain": [
       "['rfbol2']"
      ]
     },
     "execution_count": 12,
     "metadata": {},
     "output_type": "execute_result"
    }
   ],
   "source": [
    "# select features and target\n",
    "X = bol2.drop(['prediction', 'Fecha'], axis=1 )\n",
    "y = bol2['prediction']\n",
    "X = X[:-1]\n",
    "y = y[:-1]\n",
    "\n",
    "# split train/test\n",
    "X_train, X_test, y_train, y_test = train_test_split(X,y, test_size=.10, random_state=42)\n",
    "\n",
    "#Buid model\n",
    "b2 = RandomForestRegressor(n_estimators=500, random_state=42)\n",
    "b2.fit(X_train,y_train)\n",
    "\n",
    "#save\n",
    "joblib.dump(b2, 'rfbol2')"
   ]
  },
  {
   "cell_type": "markdown",
   "id": "f1ab0fc3",
   "metadata": {},
   "source": [
    "### Bolo3"
   ]
  },
  {
   "cell_type": "code",
   "execution_count": 13,
   "id": "f36b5298",
   "metadata": {},
   "outputs": [
    {
     "data": {
      "text/plain": [
       "['rfbol3']"
      ]
     },
     "execution_count": 13,
     "metadata": {},
     "output_type": "execute_result"
    }
   ],
   "source": [
    "### select features and target\n",
    "X = bol3.drop(['prediction', 'Fecha'], axis=1 )\n",
    "y = bol3['prediction']\n",
    "X = X[:-1]\n",
    "y = y[:-1]\n",
    "\n",
    "# split train/test\n",
    "X_train, X_test, y_train, y_test = train_test_split(X,y, test_size=.10, random_state=42)\n",
    "\n",
    "#Buid model\n",
    "b3 = RandomForestRegressor(n_estimators=500, random_state=42)\n",
    "b3.fit(X_train,y_train)\n",
    "\n",
    "#save\n",
    "joblib.dump(b3, 'rfbol3')"
   ]
  },
  {
   "cell_type": "markdown",
   "id": "3938adac",
   "metadata": {},
   "source": [
    "### Bolo4"
   ]
  },
  {
   "cell_type": "code",
   "execution_count": 14,
   "id": "08e2b26a",
   "metadata": {},
   "outputs": [
    {
     "data": {
      "text/plain": [
       "['rfbol4']"
      ]
     },
     "execution_count": 14,
     "metadata": {},
     "output_type": "execute_result"
    }
   ],
   "source": [
    "# select features and target\n",
    "X = bol4.drop(['prediction', 'Fecha'], axis=1 )\n",
    "y = bol4['prediction']\n",
    "X = X[:-1]\n",
    "y = y[:-1]\n",
    "\n",
    "# split train/test\n",
    "X_train, X_test, y_train, y_test = train_test_split(X,y, test_size=.10, random_state=42)\n",
    "\n",
    "#Buid model\n",
    "b4 = RandomForestRegressor(n_estimators=500, random_state=42)\n",
    "b4.fit(X_train,y_train)\n",
    "\n",
    "#save\n",
    "joblib.dump(b4, 'rfbol4')"
   ]
  },
  {
   "cell_type": "markdown",
   "id": "ae320f9f",
   "metadata": {},
   "source": [
    "### Bolo5"
   ]
  },
  {
   "cell_type": "code",
   "execution_count": 15,
   "id": "8ea26c4a",
   "metadata": {},
   "outputs": [
    {
     "data": {
      "text/plain": [
       "['rfbol5']"
      ]
     },
     "execution_count": 15,
     "metadata": {},
     "output_type": "execute_result"
    }
   ],
   "source": [
    "# select features and target\n",
    "X = bol5.drop(['prediction', 'Fecha'], axis=1 )\n",
    "y = bol5['prediction']\n",
    "X = X[:-1]\n",
    "y = y[:-1]\n",
    "\n",
    "# split train/test\n",
    "X_train, X_test, y_train, y_test = train_test_split(X,y, test_size=.10, random_state=42)\n",
    "\n",
    "#Buid model\n",
    "b5 = RandomForestRegressor(n_estimators=500, random_state=42)\n",
    "b5.fit(X_train,y_train)\n",
    "\n",
    "#save\n",
    "joblib.dump(b5, 'rfbol5')"
   ]
  },
  {
   "cell_type": "markdown",
   "id": "b117f9ca",
   "metadata": {},
   "source": [
    "###  Bolo6"
   ]
  },
  {
   "cell_type": "code",
   "execution_count": 16,
   "id": "b3026ee4",
   "metadata": {},
   "outputs": [
    {
     "data": {
      "text/plain": [
       "['rfbol6']"
      ]
     },
     "execution_count": 16,
     "metadata": {},
     "output_type": "execute_result"
    }
   ],
   "source": [
    "# select features and target\n",
    "X = bol6.drop(['prediction', 'Fecha'], axis=1 )\n",
    "y = bol6['prediction']\n",
    "X = X[:-1]\n",
    "y = y[:-1]\n",
    "\n",
    "# split train/test\n",
    "X_train, X_test, y_train, y_test = train_test_split(X,y, test_size=.10, random_state=42)\n",
    "\n",
    "#Buid model\n",
    "b6 = RandomForestRegressor(n_estimators=500, random_state=42)\n",
    "b6.fit(X_train,y_train)\n",
    "\n",
    "#save\n",
    "joblib.dump(b6, 'rfbol6')"
   ]
  },
  {
   "cell_type": "markdown",
   "id": "9a75f76f",
   "metadata": {},
   "source": [
    "### Loto mas 1"
   ]
  },
  {
   "cell_type": "code",
   "execution_count": 17,
   "id": "eec2abe0",
   "metadata": {},
   "outputs": [
    {
     "data": {
      "text/plain": [
       "['rflt1']"
      ]
     },
     "execution_count": 17,
     "metadata": {},
     "output_type": "execute_result"
    }
   ],
   "source": [
    "# select features and target\n",
    "X = loto_1.drop(['prediction', 'Fecha'], axis=1 )\n",
    "y = loto_1['prediction']\n",
    "X = X[:-1]\n",
    "y = y[:-1]\n",
    "\n",
    "# split train/test\n",
    "X_train, X_test, y_train, y_test = train_test_split(X,y, test_size=.10, random_state=42)\n",
    "\n",
    "#Buid model\n",
    "lt1 = RandomForestRegressor(n_estimators=500, random_state=42)\n",
    "lt1.fit(X_train,y_train)\n",
    "\n",
    "#save\n",
    "joblib.dump(lt1, 'rflt1')"
   ]
  },
  {
   "cell_type": "markdown",
   "id": "ee6e8ed0",
   "metadata": {},
   "source": [
    "### Loto mas 2"
   ]
  },
  {
   "cell_type": "code",
   "execution_count": 18,
   "id": "0398e424",
   "metadata": {},
   "outputs": [
    {
     "data": {
      "text/plain": [
       "['rflt2']"
      ]
     },
     "execution_count": 18,
     "metadata": {},
     "output_type": "execute_result"
    }
   ],
   "source": [
    "# select features and target\n",
    "X = loto_2.drop(['prediction', 'Fecha'], axis=1 )\n",
    "y = loto_2['prediction']\n",
    "X = X[:-1]\n",
    "y = y[:-1]\n",
    "\n",
    "# split train/test\n",
    "X_train, X_test, y_train, y_test = train_test_split(X,y, test_size=.10, random_state=42)\n",
    "\n",
    "#Buid model\n",
    "lt2 = RandomForestRegressor(n_estimators=500, random_state=42)\n",
    "lt2.fit(X_train,y_train)\n",
    "\n",
    "#save\n",
    "joblib.dump(lt2, 'rflt2')"
   ]
  },
  {
   "cell_type": "code",
   "execution_count": null,
   "id": "12300219",
   "metadata": {},
   "outputs": [],
   "source": []
  }
 ],
 "metadata": {
  "kernelspec": {
   "display_name": "Python 3 (ipykernel)",
   "language": "python",
   "name": "python3"
  },
  "language_info": {
   "codemirror_mode": {
    "name": "ipython",
    "version": 3
   },
   "file_extension": ".py",
   "mimetype": "text/x-python",
   "name": "python",
   "nbconvert_exporter": "python",
   "pygments_lexer": "ipython3",
   "version": "3.8.8"
  }
 },
 "nbformat": 4,
 "nbformat_minor": 5
}
