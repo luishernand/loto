{
 "cells": [
  {
   "cell_type": "markdown",
   "id": "c295062f",
   "metadata": {},
   "source": [
    "# PREDICT STACKING MODEL"
   ]
  },
  {
   "cell_type": "markdown",
   "id": "d2f73db4",
   "metadata": {},
   "source": [
    "#### LIBRARIES"
   ]
  },
  {
   "cell_type": "code",
   "execution_count": 1,
   "id": "a8f42256",
   "metadata": {},
   "outputs": [],
   "source": [
    "import numpy as np\n",
    "import pandas as pd\n",
    "import joblib\n",
    "from sklearn.model_selection import train_test_split\n",
    "\n",
    "# MODEL\n",
    "from sklearn.neighbors import KNeighborsRegressor\n",
    "from sklearn.svm import SVR\n",
    "from sklearn.tree import DecisionTreeRegressor\n",
    "from sklearn.ensemble import RandomForestRegressor\n",
    "from sklearn.neural_network import MLPRegressor\n",
    "\n",
    "# STACKING MODEL\n",
    "from sklearn.ensemble import StackingRegressor\n",
    "from sklearn.linear_model import LinearRegression\n",
    "\n",
    "import warnings\n",
    "warnings.filterwarnings('ignore')"
   ]
  },
  {
   "cell_type": "markdown",
   "id": "939cf7d4",
   "metadata": {},
   "source": [
    "## 1. CARGA DE MODELOS"
   ]
  },
  {
   "cell_type": "code",
   "execution_count": 2,
   "id": "6c285e4d",
   "metadata": {},
   "outputs": [],
   "source": [
    "bol1 = joblib.load('modelbol1')\n",
    "bol2 = joblib.load('modelbol2')\n",
    "bol3 = joblib.load('modelbol3')\n",
    "bol4 = joblib.load('modelbol4')\n",
    "bol5 = joblib.load('modelbol5')\n",
    "bol6 = joblib.load('modelbol6')\n",
    "lt1 = joblib.load('modellt1')\n",
    "lt2 = joblib.load('modellt2')"
   ]
  },
  {
   "cell_type": "markdown",
   "id": "87bc3bd6",
   "metadata": {},
   "source": [
    "## 2. PREDICCIONES"
   ]
  },
  {
   "cell_type": "code",
   "execution_count": 3,
   "id": "9eee4333",
   "metadata": {},
   "outputs": [],
   "source": [
    "data = [2,5,7,16,21,36,5,10]"
   ]
  },
  {
   "cell_type": "code",
   "execution_count": 4,
   "id": "91a5edd8",
   "metadata": {},
   "outputs": [],
   "source": [
    "#this is for a single predictions\n",
    "#ex1 = [data[0]]\n",
    "#ex2 = [data[1]]\n",
    "#ex3 = [data[2]]\n",
    "#ex4 = [data[3]]\n",
    "#ex5 = [data[4]]\n",
    "#ex6 = [data[5]]\n",
    "#ex7 = [data[6]]\n",
    "#ex8 = [data[-1]]"
   ]
  },
  {
   "cell_type": "code",
   "execution_count": 5,
   "id": "7a18dc1a",
   "metadata": {},
   "outputs": [],
   "source": [
    "bolo1 = bol1.predict([data])\n",
    "bolo2 = bol2.predict([data])\n",
    "bolo3 = bol3.predict([data])\n",
    "bolo4 = bol4.predict([data])\n",
    "bolo5 = bol5.predict([data])\n",
    "bolo6 = bol6.predict([data])\n",
    "loto_1 = lt1.predict([data])\n",
    "loto_2 = lt2.predict([data])"
   ]
  },
  {
   "cell_type": "markdown",
   "id": "a28e75bf",
   "metadata": {},
   "source": [
    "## 3. RESULTADO"
   ]
  },
  {
   "cell_type": "code",
   "execution_count": 6,
   "id": "8a908a3e",
   "metadata": {},
   "outputs": [],
   "source": [
    "resultado = [int(bolo1[0]),int(bolo2[0]), int(bolo3[0]), int(bolo4[0]), int(bolo5[0]),\n",
    "            int(bolo6[0]), int(loto_1[0]), int(loto_2[0])] "
   ]
  },
  {
   "cell_type": "code",
   "execution_count": 7,
   "id": "db067f34",
   "metadata": {},
   "outputs": [
    {
     "data": {
      "text/plain": [
       "[5, 11, 15, 20, 28, 33, 5, 7]"
      ]
     },
     "execution_count": 7,
     "metadata": {},
     "output_type": "execute_result"
    }
   ],
   "source": [
    "resultado"
   ]
  },
  {
   "cell_type": "code",
   "execution_count": 8,
   "id": "49455063",
   "metadata": {},
   "outputs": [],
   "source": [
    "ganadores = [2,5,7,16,21,36,5,10]"
   ]
  },
  {
   "cell_type": "code",
   "execution_count": 9,
   "id": "f37ad1a4",
   "metadata": {},
   "outputs": [
    {
     "name": "stdout",
     "output_type": "stream",
     "text": [
      "numeros ganadores [2, 5, 7, 16, 21, 36, 5, 10]\n",
      "Predicciones del modelo [5, 11, 15, 20, 28, 33, 5, 7]\n"
     ]
    }
   ],
   "source": [
    "print('numeros ganadores {}'.format(ganadores))\n",
    "print('Predicciones del modelo {}'.format(resultado))"
   ]
  },
  {
   "cell_type": "code",
   "execution_count": null,
   "id": "6ba5fe98",
   "metadata": {},
   "outputs": [],
   "source": []
  }
 ],
 "metadata": {
  "kernelspec": {
   "display_name": "Python 3 (ipykernel)",
   "language": "python",
   "name": "python3"
  },
  "language_info": {
   "codemirror_mode": {
    "name": "ipython",
    "version": 3
   },
   "file_extension": ".py",
   "mimetype": "text/x-python",
   "name": "python",
   "nbconvert_exporter": "python",
   "pygments_lexer": "ipython3",
   "version": "3.8.8"
  }
 },
 "nbformat": 4,
 "nbformat_minor": 5
}
