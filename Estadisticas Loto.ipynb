{
 "cells": [
  {
   "cell_type": "markdown",
   "id": "80a4d4bf",
   "metadata": {},
   "source": [
    " # ESTADISTICAS NUMERO DE LA LOTO"
   ]
  },
  {
   "cell_type": "markdown",
   "id": "23f46a6f",
   "metadata": {},
   "source": [
    "#### LIBRARIES"
   ]
  },
  {
   "cell_type": "code",
   "execution_count": 1,
   "id": "29e1e238",
   "metadata": {},
   "outputs": [],
   "source": [
    "import pandas as pd\n",
    "import numpy as np\n",
    "import matplotlib.pyplot as plt\n",
    "import seaborn as sns\n",
    "import plotly.express as px"
   ]
  },
  {
   "cell_type": "markdown",
   "id": "bf9718b4",
   "metadata": {},
   "source": [
    "## 1. READ DATA"
   ]
  },
  {
   "cell_type": "code",
   "execution_count": 2,
   "id": "3dc7fc64",
   "metadata": {},
   "outputs": [
    {
     "data": {
      "text/html": [
       "<div>\n",
       "<style scoped>\n",
       "    .dataframe tbody tr th:only-of-type {\n",
       "        vertical-align: middle;\n",
       "    }\n",
       "\n",
       "    .dataframe tbody tr th {\n",
       "        vertical-align: top;\n",
       "    }\n",
       "\n",
       "    .dataframe thead th {\n",
       "        text-align: right;\n",
       "    }\n",
       "</style>\n",
       "<table border=\"1\" class=\"dataframe\">\n",
       "  <thead>\n",
       "    <tr style=\"text-align: right;\">\n",
       "      <th></th>\n",
       "      <th>Fecha</th>\n",
       "      <th>bolo1</th>\n",
       "      <th>bolo2</th>\n",
       "      <th>bolo3</th>\n",
       "      <th>bolo4</th>\n",
       "      <th>bolo5</th>\n",
       "      <th>bolo6</th>\n",
       "      <th>Loto +.1</th>\n",
       "      <th>Loto +.2</th>\n",
       "    </tr>\n",
       "  </thead>\n",
       "  <tbody>\n",
       "    <tr>\n",
       "      <th>307</th>\n",
       "      <td>2022-06-18</td>\n",
       "      <td>3</td>\n",
       "      <td>12</td>\n",
       "      <td>13</td>\n",
       "      <td>17</td>\n",
       "      <td>21</td>\n",
       "      <td>25</td>\n",
       "      <td>3</td>\n",
       "      <td>9</td>\n",
       "    </tr>\n",
       "    <tr>\n",
       "      <th>308</th>\n",
       "      <td>2022-06-22</td>\n",
       "      <td>11</td>\n",
       "      <td>13</td>\n",
       "      <td>21</td>\n",
       "      <td>33</td>\n",
       "      <td>34</td>\n",
       "      <td>36</td>\n",
       "      <td>2</td>\n",
       "      <td>11</td>\n",
       "    </tr>\n",
       "    <tr>\n",
       "      <th>309</th>\n",
       "      <td>2022-06-25</td>\n",
       "      <td>1</td>\n",
       "      <td>13</td>\n",
       "      <td>16</td>\n",
       "      <td>28</td>\n",
       "      <td>29</td>\n",
       "      <td>34</td>\n",
       "      <td>10</td>\n",
       "      <td>3</td>\n",
       "    </tr>\n",
       "    <tr>\n",
       "      <th>310</th>\n",
       "      <td>2022-06-29</td>\n",
       "      <td>7</td>\n",
       "      <td>9</td>\n",
       "      <td>16</td>\n",
       "      <td>25</td>\n",
       "      <td>32</td>\n",
       "      <td>35</td>\n",
       "      <td>5</td>\n",
       "      <td>15</td>\n",
       "    </tr>\n",
       "    <tr>\n",
       "      <th>311</th>\n",
       "      <td>2022-07-02</td>\n",
       "      <td>5</td>\n",
       "      <td>12</td>\n",
       "      <td>14</td>\n",
       "      <td>23</td>\n",
       "      <td>26</td>\n",
       "      <td>34</td>\n",
       "      <td>6</td>\n",
       "      <td>7</td>\n",
       "    </tr>\n",
       "  </tbody>\n",
       "</table>\n",
       "</div>"
      ],
      "text/plain": [
       "         Fecha  bolo1  bolo2  bolo3  bolo4  bolo5  bolo6  Loto +.1  Loto +.2\n",
       "307 2022-06-18      3     12     13     17     21     25         3         9\n",
       "308 2022-06-22     11     13     21     33     34     36         2        11\n",
       "309 2022-06-25      1     13     16     28     29     34        10         3\n",
       "310 2022-06-29      7      9     16     25     32     35         5        15\n",
       "311 2022-07-02      5     12     14     23     26     34         6         7"
      ]
     },
     "execution_count": 2,
     "metadata": {},
     "output_type": "execute_result"
    }
   ],
   "source": [
    "data = pd.read_excel('base.xlsx', sheet_name='datos')\n",
    "data.tail()"
   ]
  },
  {
   "cell_type": "code",
   "execution_count": 3,
   "id": "7d1e4428",
   "metadata": {},
   "outputs": [
    {
     "data": {
      "text/plain": [
       "(312, 9)"
      ]
     },
     "execution_count": 3,
     "metadata": {},
     "output_type": "execute_result"
    }
   ],
   "source": [
    "data.shape"
   ]
  },
  {
   "cell_type": "code",
   "execution_count": 4,
   "id": "79a6a1a1",
   "metadata": {},
   "outputs": [
    {
     "data": {
      "text/plain": [
       "Fecha       datetime64[ns]\n",
       "bolo1                int64\n",
       "bolo2                int64\n",
       "bolo3                int64\n",
       "bolo4                int64\n",
       "bolo5                int64\n",
       "bolo6                int64\n",
       "Loto +.1             int64\n",
       "Loto +.2             int64\n",
       "dtype: object"
      ]
     },
     "execution_count": 4,
     "metadata": {},
     "output_type": "execute_result"
    }
   ],
   "source": [
    "data.dtypes"
   ]
  },
  {
   "cell_type": "markdown",
   "id": "7a3d0d3f",
   "metadata": {},
   "source": [
    "## 2. DATA ENGINEERING\n",
    "Aggregate columns: \n",
    "1. years\n",
    "2. days names"
   ]
  },
  {
   "cell_type": "code",
   "execution_count": 5,
   "id": "fa23e5e7",
   "metadata": {},
   "outputs": [],
   "source": [
    "data['year'] = data.Fecha.dt.year\n",
    "data['day_name'] = data.Fecha.dt.day_name()"
   ]
  },
  {
   "cell_type": "code",
   "execution_count": 6,
   "id": "2129258c",
   "metadata": {},
   "outputs": [
    {
     "data": {
      "text/html": [
       "<div>\n",
       "<style scoped>\n",
       "    .dataframe tbody tr th:only-of-type {\n",
       "        vertical-align: middle;\n",
       "    }\n",
       "\n",
       "    .dataframe tbody tr th {\n",
       "        vertical-align: top;\n",
       "    }\n",
       "\n",
       "    .dataframe thead th {\n",
       "        text-align: right;\n",
       "    }\n",
       "</style>\n",
       "<table border=\"1\" class=\"dataframe\">\n",
       "  <thead>\n",
       "    <tr style=\"text-align: right;\">\n",
       "      <th></th>\n",
       "      <th>Fecha</th>\n",
       "      <th>bolo1</th>\n",
       "      <th>bolo2</th>\n",
       "      <th>bolo3</th>\n",
       "      <th>bolo4</th>\n",
       "      <th>bolo5</th>\n",
       "      <th>bolo6</th>\n",
       "      <th>Loto +.1</th>\n",
       "      <th>Loto +.2</th>\n",
       "      <th>year</th>\n",
       "      <th>day_name</th>\n",
       "    </tr>\n",
       "  </thead>\n",
       "  <tbody>\n",
       "    <tr>\n",
       "      <th>0</th>\n",
       "      <td>2019-04-10</td>\n",
       "      <td>12</td>\n",
       "      <td>15</td>\n",
       "      <td>18</td>\n",
       "      <td>23</td>\n",
       "      <td>25</td>\n",
       "      <td>31</td>\n",
       "      <td>4</td>\n",
       "      <td>1</td>\n",
       "      <td>2019</td>\n",
       "      <td>Wednesday</td>\n",
       "    </tr>\n",
       "    <tr>\n",
       "      <th>1</th>\n",
       "      <td>2019-04-13</td>\n",
       "      <td>7</td>\n",
       "      <td>9</td>\n",
       "      <td>10</td>\n",
       "      <td>21</td>\n",
       "      <td>27</td>\n",
       "      <td>28</td>\n",
       "      <td>5</td>\n",
       "      <td>5</td>\n",
       "      <td>2019</td>\n",
       "      <td>Saturday</td>\n",
       "    </tr>\n",
       "    <tr>\n",
       "      <th>2</th>\n",
       "      <td>2019-04-17</td>\n",
       "      <td>1</td>\n",
       "      <td>3</td>\n",
       "      <td>13</td>\n",
       "      <td>20</td>\n",
       "      <td>35</td>\n",
       "      <td>36</td>\n",
       "      <td>1</td>\n",
       "      <td>13</td>\n",
       "      <td>2019</td>\n",
       "      <td>Wednesday</td>\n",
       "    </tr>\n",
       "    <tr>\n",
       "      <th>3</th>\n",
       "      <td>2019-04-20</td>\n",
       "      <td>4</td>\n",
       "      <td>6</td>\n",
       "      <td>11</td>\n",
       "      <td>13</td>\n",
       "      <td>27</td>\n",
       "      <td>28</td>\n",
       "      <td>10</td>\n",
       "      <td>7</td>\n",
       "      <td>2019</td>\n",
       "      <td>Saturday</td>\n",
       "    </tr>\n",
       "    <tr>\n",
       "      <th>4</th>\n",
       "      <td>2019-04-24</td>\n",
       "      <td>1</td>\n",
       "      <td>7</td>\n",
       "      <td>19</td>\n",
       "      <td>33</td>\n",
       "      <td>36</td>\n",
       "      <td>38</td>\n",
       "      <td>1</td>\n",
       "      <td>2</td>\n",
       "      <td>2019</td>\n",
       "      <td>Wednesday</td>\n",
       "    </tr>\n",
       "  </tbody>\n",
       "</table>\n",
       "</div>"
      ],
      "text/plain": [
       "       Fecha  bolo1  bolo2  bolo3  bolo4  bolo5  bolo6  Loto +.1  Loto +.2  \\\n",
       "0 2019-04-10     12     15     18     23     25     31         4         1   \n",
       "1 2019-04-13      7      9     10     21     27     28         5         5   \n",
       "2 2019-04-17      1      3     13     20     35     36         1        13   \n",
       "3 2019-04-20      4      6     11     13     27     28        10         7   \n",
       "4 2019-04-24      1      7     19     33     36     38         1         2   \n",
       "\n",
       "   year   day_name  \n",
       "0  2019  Wednesday  \n",
       "1  2019   Saturday  \n",
       "2  2019  Wednesday  \n",
       "3  2019   Saturday  \n",
       "4  2019  Wednesday  "
      ]
     },
     "execution_count": 6,
     "metadata": {},
     "output_type": "execute_result"
    }
   ],
   "source": [
    "data.head()"
   ]
  },
  {
   "cell_type": "markdown",
   "id": "98b33cfd",
   "metadata": {},
   "source": [
    "## 3. EDA"
   ]
  },
  {
   "cell_type": "code",
   "execution_count": 7,
   "id": "ba06a656",
   "metadata": {},
   "outputs": [
    {
     "data": {
      "text/html": [
       "<div>\n",
       "<style scoped>\n",
       "    .dataframe tbody tr th:only-of-type {\n",
       "        vertical-align: middle;\n",
       "    }\n",
       "\n",
       "    .dataframe tbody tr th {\n",
       "        vertical-align: top;\n",
       "    }\n",
       "\n",
       "    .dataframe thead th {\n",
       "        text-align: right;\n",
       "    }\n",
       "</style>\n",
       "<table border=\"1\" class=\"dataframe\">\n",
       "  <thead>\n",
       "    <tr style=\"text-align: right;\">\n",
       "      <th></th>\n",
       "      <th>count</th>\n",
       "      <th>mean</th>\n",
       "      <th>std</th>\n",
       "      <th>min</th>\n",
       "      <th>25%</th>\n",
       "      <th>50%</th>\n",
       "      <th>75%</th>\n",
       "      <th>max</th>\n",
       "    </tr>\n",
       "  </thead>\n",
       "  <tbody>\n",
       "    <tr>\n",
       "      <th>bolo1</th>\n",
       "      <td>312.0</td>\n",
       "      <td>5.839744</td>\n",
       "      <td>4.551240</td>\n",
       "      <td>1.0</td>\n",
       "      <td>2.0</td>\n",
       "      <td>5.0</td>\n",
       "      <td>8.00</td>\n",
       "      <td>24.0</td>\n",
       "    </tr>\n",
       "    <tr>\n",
       "      <th>bolo2</th>\n",
       "      <td>312.0</td>\n",
       "      <td>11.310897</td>\n",
       "      <td>5.621743</td>\n",
       "      <td>2.0</td>\n",
       "      <td>7.0</td>\n",
       "      <td>10.5</td>\n",
       "      <td>15.00</td>\n",
       "      <td>29.0</td>\n",
       "    </tr>\n",
       "    <tr>\n",
       "      <th>bolo3</th>\n",
       "      <td>312.0</td>\n",
       "      <td>16.830128</td>\n",
       "      <td>6.306225</td>\n",
       "      <td>4.0</td>\n",
       "      <td>12.0</td>\n",
       "      <td>16.0</td>\n",
       "      <td>21.00</td>\n",
       "      <td>32.0</td>\n",
       "    </tr>\n",
       "    <tr>\n",
       "      <th>bolo4</th>\n",
       "      <td>312.0</td>\n",
       "      <td>22.288462</td>\n",
       "      <td>6.196161</td>\n",
       "      <td>7.0</td>\n",
       "      <td>18.0</td>\n",
       "      <td>23.0</td>\n",
       "      <td>27.00</td>\n",
       "      <td>34.0</td>\n",
       "    </tr>\n",
       "    <tr>\n",
       "      <th>bolo5</th>\n",
       "      <td>312.0</td>\n",
       "      <td>27.910256</td>\n",
       "      <td>5.728444</td>\n",
       "      <td>12.0</td>\n",
       "      <td>24.0</td>\n",
       "      <td>29.0</td>\n",
       "      <td>32.25</td>\n",
       "      <td>37.0</td>\n",
       "    </tr>\n",
       "    <tr>\n",
       "      <th>bolo6</th>\n",
       "      <td>312.0</td>\n",
       "      <td>32.971154</td>\n",
       "      <td>4.541605</td>\n",
       "      <td>15.0</td>\n",
       "      <td>30.0</td>\n",
       "      <td>34.0</td>\n",
       "      <td>36.00</td>\n",
       "      <td>38.0</td>\n",
       "    </tr>\n",
       "    <tr>\n",
       "      <th>Loto +.1</th>\n",
       "      <td>312.0</td>\n",
       "      <td>5.631410</td>\n",
       "      <td>2.823086</td>\n",
       "      <td>1.0</td>\n",
       "      <td>3.0</td>\n",
       "      <td>6.0</td>\n",
       "      <td>8.00</td>\n",
       "      <td>12.0</td>\n",
       "    </tr>\n",
       "    <tr>\n",
       "      <th>Loto +.2</th>\n",
       "      <td>312.0</td>\n",
       "      <td>7.814103</td>\n",
       "      <td>4.175113</td>\n",
       "      <td>1.0</td>\n",
       "      <td>5.0</td>\n",
       "      <td>7.0</td>\n",
       "      <td>11.25</td>\n",
       "      <td>15.0</td>\n",
       "    </tr>\n",
       "    <tr>\n",
       "      <th>year</th>\n",
       "      <td>312.0</td>\n",
       "      <td>2020.419872</td>\n",
       "      <td>1.030089</td>\n",
       "      <td>2019.0</td>\n",
       "      <td>2020.0</td>\n",
       "      <td>2020.0</td>\n",
       "      <td>2021.00</td>\n",
       "      <td>2022.0</td>\n",
       "    </tr>\n",
       "  </tbody>\n",
       "</table>\n",
       "</div>"
      ],
      "text/plain": [
       "          count         mean       std     min     25%     50%      75%  \\\n",
       "bolo1     312.0     5.839744  4.551240     1.0     2.0     5.0     8.00   \n",
       "bolo2     312.0    11.310897  5.621743     2.0     7.0    10.5    15.00   \n",
       "bolo3     312.0    16.830128  6.306225     4.0    12.0    16.0    21.00   \n",
       "bolo4     312.0    22.288462  6.196161     7.0    18.0    23.0    27.00   \n",
       "bolo5     312.0    27.910256  5.728444    12.0    24.0    29.0    32.25   \n",
       "bolo6     312.0    32.971154  4.541605    15.0    30.0    34.0    36.00   \n",
       "Loto +.1  312.0     5.631410  2.823086     1.0     3.0     6.0     8.00   \n",
       "Loto +.2  312.0     7.814103  4.175113     1.0     5.0     7.0    11.25   \n",
       "year      312.0  2020.419872  1.030089  2019.0  2020.0  2020.0  2021.00   \n",
       "\n",
       "             max  \n",
       "bolo1       24.0  \n",
       "bolo2       29.0  \n",
       "bolo3       32.0  \n",
       "bolo4       34.0  \n",
       "bolo5       37.0  \n",
       "bolo6       38.0  \n",
       "Loto +.1    12.0  \n",
       "Loto +.2    15.0  \n",
       "year      2022.0  "
      ]
     },
     "execution_count": 7,
     "metadata": {},
     "output_type": "execute_result"
    }
   ],
   "source": [
    "data.describe().T"
   ]
  },
  {
   "cell_type": "code",
   "execution_count": 8,
   "id": "e05346c3",
   "metadata": {},
   "outputs": [
    {
     "data": {
      "text/html": [
       "<div>\n",
       "<style scoped>\n",
       "    .dataframe tbody tr th:only-of-type {\n",
       "        vertical-align: middle;\n",
       "    }\n",
       "\n",
       "    .dataframe tbody tr th {\n",
       "        vertical-align: top;\n",
       "    }\n",
       "\n",
       "    .dataframe thead th {\n",
       "        text-align: right;\n",
       "    }\n",
       "</style>\n",
       "<table border=\"1\" class=\"dataframe\">\n",
       "  <thead>\n",
       "    <tr style=\"text-align: right;\">\n",
       "      <th>year</th>\n",
       "      <th>2019</th>\n",
       "      <th>2020</th>\n",
       "      <th>2021</th>\n",
       "      <th>2022</th>\n",
       "    </tr>\n",
       "  </thead>\n",
       "  <tbody>\n",
       "    <tr>\n",
       "      <th>bolo1</th>\n",
       "      <td>5.440000</td>\n",
       "      <td>5.566265</td>\n",
       "      <td>5.980392</td>\n",
       "      <td>6.576923</td>\n",
       "    </tr>\n",
       "    <tr>\n",
       "      <th>bolo2</th>\n",
       "      <td>11.466667</td>\n",
       "      <td>10.807229</td>\n",
       "      <td>11.254902</td>\n",
       "      <td>12.000000</td>\n",
       "    </tr>\n",
       "    <tr>\n",
       "      <th>bolo3</th>\n",
       "      <td>16.440000</td>\n",
       "      <td>16.024096</td>\n",
       "      <td>17.098039</td>\n",
       "      <td>18.153846</td>\n",
       "    </tr>\n",
       "    <tr>\n",
       "      <th>bolo4</th>\n",
       "      <td>22.320000</td>\n",
       "      <td>21.590361</td>\n",
       "      <td>22.284314</td>\n",
       "      <td>23.365385</td>\n",
       "    </tr>\n",
       "    <tr>\n",
       "      <th>bolo5</th>\n",
       "      <td>27.746667</td>\n",
       "      <td>27.975904</td>\n",
       "      <td>27.696078</td>\n",
       "      <td>28.461538</td>\n",
       "    </tr>\n",
       "    <tr>\n",
       "      <th>bolo6</th>\n",
       "      <td>33.520000</td>\n",
       "      <td>33.000000</td>\n",
       "      <td>32.441176</td>\n",
       "      <td>33.173077</td>\n",
       "    </tr>\n",
       "    <tr>\n",
       "      <th>Loto +.1</th>\n",
       "      <td>5.253333</td>\n",
       "      <td>5.626506</td>\n",
       "      <td>5.676471</td>\n",
       "      <td>6.096154</td>\n",
       "    </tr>\n",
       "    <tr>\n",
       "      <th>Loto +.2</th>\n",
       "      <td>7.866667</td>\n",
       "      <td>8.036145</td>\n",
       "      <td>7.647059</td>\n",
       "      <td>7.711538</td>\n",
       "    </tr>\n",
       "  </tbody>\n",
       "</table>\n",
       "</div>"
      ],
      "text/plain": [
       "year           2019       2020       2021       2022\n",
       "bolo1      5.440000   5.566265   5.980392   6.576923\n",
       "bolo2     11.466667  10.807229  11.254902  12.000000\n",
       "bolo3     16.440000  16.024096  17.098039  18.153846\n",
       "bolo4     22.320000  21.590361  22.284314  23.365385\n",
       "bolo5     27.746667  27.975904  27.696078  28.461538\n",
       "bolo6     33.520000  33.000000  32.441176  33.173077\n",
       "Loto +.1   5.253333   5.626506   5.676471   6.096154\n",
       "Loto +.2   7.866667   8.036145   7.647059   7.711538"
      ]
     },
     "execution_count": 8,
     "metadata": {},
     "output_type": "execute_result"
    }
   ],
   "source": [
    "data.groupby('year').mean().T"
   ]
  },
  {
   "cell_type": "code",
   "execution_count": 9,
   "id": "a0a89dac",
   "metadata": {},
   "outputs": [
    {
     "data": {
      "text/html": [
       "<div>\n",
       "<style scoped>\n",
       "    .dataframe tbody tr th:only-of-type {\n",
       "        vertical-align: middle;\n",
       "    }\n",
       "\n",
       "    .dataframe tbody tr th {\n",
       "        vertical-align: top;\n",
       "    }\n",
       "\n",
       "    .dataframe thead th {\n",
       "        text-align: right;\n",
       "    }\n",
       "</style>\n",
       "<table border=\"1\" class=\"dataframe\">\n",
       "  <thead>\n",
       "    <tr style=\"text-align: right;\">\n",
       "      <th>day_name</th>\n",
       "      <th>Saturday</th>\n",
       "      <th>Wednesday</th>\n",
       "    </tr>\n",
       "  </thead>\n",
       "  <tbody>\n",
       "    <tr>\n",
       "      <th>bolo1</th>\n",
       "      <td>5.737179</td>\n",
       "      <td>5.942308</td>\n",
       "    </tr>\n",
       "    <tr>\n",
       "      <th>bolo2</th>\n",
       "      <td>11.673077</td>\n",
       "      <td>10.948718</td>\n",
       "    </tr>\n",
       "    <tr>\n",
       "      <th>bolo3</th>\n",
       "      <td>16.788462</td>\n",
       "      <td>16.871795</td>\n",
       "    </tr>\n",
       "    <tr>\n",
       "      <th>bolo4</th>\n",
       "      <td>22.326923</td>\n",
       "      <td>22.250000</td>\n",
       "    </tr>\n",
       "    <tr>\n",
       "      <th>bolo5</th>\n",
       "      <td>28.083333</td>\n",
       "      <td>27.737179</td>\n",
       "    </tr>\n",
       "    <tr>\n",
       "      <th>bolo6</th>\n",
       "      <td>33.160256</td>\n",
       "      <td>32.782051</td>\n",
       "    </tr>\n",
       "    <tr>\n",
       "      <th>Loto +.1</th>\n",
       "      <td>5.525641</td>\n",
       "      <td>5.737179</td>\n",
       "    </tr>\n",
       "    <tr>\n",
       "      <th>Loto +.2</th>\n",
       "      <td>7.525641</td>\n",
       "      <td>8.102564</td>\n",
       "    </tr>\n",
       "    <tr>\n",
       "      <th>year</th>\n",
       "      <td>2020.416667</td>\n",
       "      <td>2020.423077</td>\n",
       "    </tr>\n",
       "  </tbody>\n",
       "</table>\n",
       "</div>"
      ],
      "text/plain": [
       "day_name     Saturday    Wednesday\n",
       "bolo1        5.737179     5.942308\n",
       "bolo2       11.673077    10.948718\n",
       "bolo3       16.788462    16.871795\n",
       "bolo4       22.326923    22.250000\n",
       "bolo5       28.083333    27.737179\n",
       "bolo6       33.160256    32.782051\n",
       "Loto +.1     5.525641     5.737179\n",
       "Loto +.2     7.525641     8.102564\n",
       "year      2020.416667  2020.423077"
      ]
     },
     "execution_count": 9,
     "metadata": {},
     "output_type": "execute_result"
    }
   ],
   "source": [
    "data.groupby('day_name').mean().T"
   ]
  },
  {
   "cell_type": "code",
   "execution_count": 10,
   "id": "17b7638e",
   "metadata": {},
   "outputs": [
    {
     "data": {
      "image/png": "[encoded data removed]",
      "text/plain": [
       "<Figure size 432x288 with 1 Axes>"
      ]
     },
     "metadata": {
      "needs_background": "light"
     },
     "output_type": "display_data"
    }
   ],
   "source": [
    "plt.figure(figsize = [6,4])\n",
    "sns.countplot(data = data, x = 'bolo1', color = 'Blue')\n",
    "plt.title('Estadística General del Bolo1')\n",
    "plt.show()"
   ]
  },
  {
   "cell_type": "code",
   "execution_count": 11,
   "id": "e178565a",
   "metadata": {},
   "outputs": [],
   "source": [
    "# filter data\n",
    "miercoles = data.query('day_name==\"Wednesday\"')\n",
    "sabados = data.query('day_name==\"Saturday\"')"
   ]
  },
  {
   "cell_type": "code",
   "execution_count": 12,
   "id": "874f51d1",
   "metadata": {},
   "outputs": [],
   "source": [
    "def plot_bolos(data, bolo):\n",
    "    plt.figure(figsize = [6,4])\n",
    "    sns.countplot(data = data, x = bolo, color = 'Blue')\n",
    "    plt.title('Estadística del {}'.format(bolo))\n",
    "    plt.show()"
   ]
  },
  {
   "cell_type": "code",
   "execution_count": 13,
   "id": "81cce175",
   "metadata": {},
   "outputs": [
    {
     "data": {
      "image/png": "[encoded data removed]",
      "text/plain": [
       "<Figure size 432x288 with 1 Axes>"
      ]
     },
     "metadata": {
      "needs_background": "light"
     },
     "output_type": "display_data"
    }
   ],
   "source": [
    "bol1 = plot_bolos(miercoles, 'bolo1')"
   ]
  },
  {
   "cell_type": "code",
   "execution_count": 14,
   "id": "5b8682af",
   "metadata": {},
   "outputs": [
    {
     "data": {
      "image/png": "[encoded data removed]",
      "text/plain": [
       "<Figure size 432x288 with 1 Axes>"
      ]
     },
     "metadata": {
      "needs_background": "light"
     },
     "output_type": "display_data"
    }
   ],
   "source": [
    "bol2 = plot_bolos(miercoles, 'bolo2')"
   ]
  },
  {
   "cell_type": "code",
   "execution_count": 15,
   "id": "3f6c1d4b",
   "metadata": {},
   "outputs": [
    {
     "data": {
      "image/png": "[encoded data removed]",
      "text/plain": [
       "<Figure size 432x288 with 1 Axes>"
      ]
     },
     "metadata": {
      "needs_background": "light"
     },
     "output_type": "display_data"
    }
   ],
   "source": [
    "bol3 = plot_bolos(miercoles, 'bolo3')"
   ]
  },
  {
   "cell_type": "code",
   "execution_count": 16,
   "id": "d68781ed",
   "metadata": {},
   "outputs": [
    {
     "data": {
      "image/png": "[encoded data removed]",
      "text/plain": [
       "<Figure size 432x288 with 1 Axes>"
      ]
     },
     "metadata": {
      "needs_background": "light"
     },
     "output_type": "display_data"
    }
   ],
   "source": [
    "bol4 = plot_bolos(miercoles, 'bolo4')"
   ]
  },
  {
   "cell_type": "code",
   "execution_count": 17,
   "id": "a5711b00",
   "metadata": {},
   "outputs": [
    {
     "data": {
      "image/png": "[encoded data removed]",
      "text/plain": [
       "<Figure size 432x288 with 1 Axes>"
      ]
     },
     "metadata": {
      "needs_background": "light"
     },
     "output_type": "display_data"
    }
   ],
   "source": [
    "bol5 = plot_bolos(miercoles, 'bolo5')"
   ]
  },
  {
   "cell_type": "code",
   "execution_count": 18,
   "id": "d02e9f46",
   "metadata": {},
   "outputs": [
    {
     "data": {
      "image/png": "[encoded data removed]",
      "text/plain": [
       "<Figure size 432x288 with 1 Axes>"
      ]
     },
     "metadata": {
      "needs_background": "light"
     },
     "output_type": "display_data"
    }
   ],
   "source": [
    "bol6 = plot_bolos(miercoles, 'bolo6')"
   ]
  },
  {
   "cell_type": "code",
   "execution_count": 19,
   "id": "e74374ac",
   "metadata": {},
   "outputs": [
    {
     "data": {
      "text/plain": [
       "Index(['Fecha', 'bolo1', 'bolo2', 'bolo3', 'bolo4', 'bolo5', 'bolo6',\n",
       "       'Loto +.1', 'Loto +.2', 'year', 'day_name'],\n",
       "      dtype='object')"
      ]
     },
     "execution_count": 19,
     "metadata": {},
     "output_type": "execute_result"
    }
   ],
   "source": [
    "data.columns"
   ]
  },
  {
   "cell_type": "code",
   "execution_count": 20,
   "id": "42f67c6e",
   "metadata": {},
   "outputs": [
    {
     "data": {
      "image/png": "[encoded data removed]",
      "text/plain": [
       "<Figure size 432x288 with 1 Axes>"
      ]
     },
     "metadata": {
      "needs_background": "light"
     },
     "output_type": "display_data"
    }
   ],
   "source": [
    "loto1 = plot_bolos(miercoles, 'Loto +.1')"
   ]
  },
  {
   "cell_type": "code",
   "execution_count": 21,
   "id": "a713ae5e",
   "metadata": {},
   "outputs": [
    {
     "data": {
      "image/png": "[encoded data removed]",
      "text/plain": [
       "<Figure size 432x288 with 1 Axes>"
      ]
     },
     "metadata": {
      "needs_background": "light"
     },
     "output_type": "display_data"
    }
   ],
   "source": [
    "loto2 = plot_bolos(miercoles, 'Loto +.2')"
   ]
  },
  {
   "cell_type": "markdown",
   "id": "74e1e86f",
   "metadata": {},
   "source": [
    "### ESTADISTICA DIA YEAR"
   ]
  },
  {
   "cell_type": "code",
   "execution_count": 22,
   "id": "14e61b11",
   "metadata": {},
   "outputs": [
    {
     "data": {
      "text/html": [
       "<div>\n",
       "<style scoped>\n",
       "    .dataframe tbody tr th:only-of-type {\n",
       "        vertical-align: middle;\n",
       "    }\n",
       "\n",
       "    .dataframe tbody tr th {\n",
       "        vertical-align: top;\n",
       "    }\n",
       "\n",
       "    .dataframe thead th {\n",
       "        text-align: right;\n",
       "    }\n",
       "</style>\n",
       "<table border=\"1\" class=\"dataframe\">\n",
       "  <thead>\n",
       "    <tr style=\"text-align: right;\">\n",
       "      <th></th>\n",
       "      <th>Fecha</th>\n",
       "      <th>bolo1</th>\n",
       "      <th>bolo2</th>\n",
       "      <th>bolo3</th>\n",
       "      <th>bolo4</th>\n",
       "      <th>bolo5</th>\n",
       "      <th>bolo6</th>\n",
       "      <th>Loto +.1</th>\n",
       "      <th>Loto +.2</th>\n",
       "      <th>year</th>\n",
       "      <th>day_name</th>\n",
       "    </tr>\n",
       "  </thead>\n",
       "  <tbody>\n",
       "    <tr>\n",
       "      <th>260</th>\n",
       "      <td>2022-01-05</td>\n",
       "      <td>1</td>\n",
       "      <td>11</td>\n",
       "      <td>25</td>\n",
       "      <td>30</td>\n",
       "      <td>31</td>\n",
       "      <td>36</td>\n",
       "      <td>2</td>\n",
       "      <td>1</td>\n",
       "      <td>2022</td>\n",
       "      <td>Wednesday</td>\n",
       "    </tr>\n",
       "    <tr>\n",
       "      <th>262</th>\n",
       "      <td>2022-01-12</td>\n",
       "      <td>6</td>\n",
       "      <td>11</td>\n",
       "      <td>13</td>\n",
       "      <td>21</td>\n",
       "      <td>32</td>\n",
       "      <td>33</td>\n",
       "      <td>9</td>\n",
       "      <td>2</td>\n",
       "      <td>2022</td>\n",
       "      <td>Wednesday</td>\n",
       "    </tr>\n",
       "    <tr>\n",
       "      <th>264</th>\n",
       "      <td>2022-01-19</td>\n",
       "      <td>22</td>\n",
       "      <td>23</td>\n",
       "      <td>26</td>\n",
       "      <td>29</td>\n",
       "      <td>35</td>\n",
       "      <td>37</td>\n",
       "      <td>6</td>\n",
       "      <td>10</td>\n",
       "      <td>2022</td>\n",
       "      <td>Wednesday</td>\n",
       "    </tr>\n",
       "    <tr>\n",
       "      <th>266</th>\n",
       "      <td>2022-01-26</td>\n",
       "      <td>8</td>\n",
       "      <td>10</td>\n",
       "      <td>17</td>\n",
       "      <td>22</td>\n",
       "      <td>25</td>\n",
       "      <td>34</td>\n",
       "      <td>3</td>\n",
       "      <td>6</td>\n",
       "      <td>2022</td>\n",
       "      <td>Wednesday</td>\n",
       "    </tr>\n",
       "    <tr>\n",
       "      <th>268</th>\n",
       "      <td>2022-02-02</td>\n",
       "      <td>5</td>\n",
       "      <td>11</td>\n",
       "      <td>12</td>\n",
       "      <td>17</td>\n",
       "      <td>24</td>\n",
       "      <td>32</td>\n",
       "      <td>5</td>\n",
       "      <td>7</td>\n",
       "      <td>2022</td>\n",
       "      <td>Wednesday</td>\n",
       "    </tr>\n",
       "  </tbody>\n",
       "</table>\n",
       "</div>"
      ],
      "text/plain": [
       "         Fecha  bolo1  bolo2  bolo3  bolo4  bolo5  bolo6  Loto +.1  Loto +.2  \\\n",
       "260 2022-01-05      1     11     25     30     31     36         2         1   \n",
       "262 2022-01-12      6     11     13     21     32     33         9         2   \n",
       "264 2022-01-19     22     23     26     29     35     37         6        10   \n",
       "266 2022-01-26      8     10     17     22     25     34         3         6   \n",
       "268 2022-02-02      5     11     12     17     24     32         5         7   \n",
       "\n",
       "     year   day_name  \n",
       "260  2022  Wednesday  \n",
       "262  2022  Wednesday  \n",
       "264  2022  Wednesday  \n",
       "266  2022  Wednesday  \n",
       "268  2022  Wednesday  "
      ]
     },
     "execution_count": 22,
     "metadata": {},
     "output_type": "execute_result"
    }
   ],
   "source": [
    "miercoles_2022 = miercoles.query('year == 2022')\n",
    "miercoles_2022.head()"
   ]
  },
  {
   "cell_type": "code",
   "execution_count": 23,
   "id": "d9864190",
   "metadata": {},
   "outputs": [
    {
     "data": {
      "text/html": [
       "<div>\n",
       "<style scoped>\n",
       "    .dataframe tbody tr th:only-of-type {\n",
       "        vertical-align: middle;\n",
       "    }\n",
       "\n",
       "    .dataframe tbody tr th {\n",
       "        vertical-align: top;\n",
       "    }\n",
       "\n",
       "    .dataframe thead th {\n",
       "        text-align: right;\n",
       "    }\n",
       "</style>\n",
       "<table border=\"1\" class=\"dataframe\">\n",
       "  <thead>\n",
       "    <tr style=\"text-align: right;\">\n",
       "      <th></th>\n",
       "      <th>Fecha</th>\n",
       "      <th>bolo1</th>\n",
       "      <th>bolo2</th>\n",
       "      <th>bolo3</th>\n",
       "      <th>bolo4</th>\n",
       "      <th>bolo5</th>\n",
       "      <th>bolo6</th>\n",
       "      <th>Loto +.1</th>\n",
       "      <th>Loto +.2</th>\n",
       "      <th>year</th>\n",
       "      <th>day_name</th>\n",
       "    </tr>\n",
       "  </thead>\n",
       "  <tbody>\n",
       "    <tr>\n",
       "      <th>261</th>\n",
       "      <td>2022-01-08</td>\n",
       "      <td>4</td>\n",
       "      <td>8</td>\n",
       "      <td>14</td>\n",
       "      <td>21</td>\n",
       "      <td>22</td>\n",
       "      <td>33</td>\n",
       "      <td>2</td>\n",
       "      <td>15</td>\n",
       "      <td>2022</td>\n",
       "      <td>Saturday</td>\n",
       "    </tr>\n",
       "    <tr>\n",
       "      <th>263</th>\n",
       "      <td>2022-01-15</td>\n",
       "      <td>1</td>\n",
       "      <td>3</td>\n",
       "      <td>11</td>\n",
       "      <td>12</td>\n",
       "      <td>21</td>\n",
       "      <td>37</td>\n",
       "      <td>9</td>\n",
       "      <td>5</td>\n",
       "      <td>2022</td>\n",
       "      <td>Saturday</td>\n",
       "    </tr>\n",
       "    <tr>\n",
       "      <th>265</th>\n",
       "      <td>2022-01-22</td>\n",
       "      <td>4</td>\n",
       "      <td>13</td>\n",
       "      <td>16</td>\n",
       "      <td>17</td>\n",
       "      <td>22</td>\n",
       "      <td>23</td>\n",
       "      <td>5</td>\n",
       "      <td>15</td>\n",
       "      <td>2022</td>\n",
       "      <td>Saturday</td>\n",
       "    </tr>\n",
       "    <tr>\n",
       "      <th>267</th>\n",
       "      <td>2022-01-29</td>\n",
       "      <td>4</td>\n",
       "      <td>12</td>\n",
       "      <td>14</td>\n",
       "      <td>15</td>\n",
       "      <td>23</td>\n",
       "      <td>34</td>\n",
       "      <td>7</td>\n",
       "      <td>7</td>\n",
       "      <td>2022</td>\n",
       "      <td>Saturday</td>\n",
       "    </tr>\n",
       "    <tr>\n",
       "      <th>269</th>\n",
       "      <td>2022-02-05</td>\n",
       "      <td>3</td>\n",
       "      <td>18</td>\n",
       "      <td>24</td>\n",
       "      <td>27</td>\n",
       "      <td>34</td>\n",
       "      <td>36</td>\n",
       "      <td>6</td>\n",
       "      <td>5</td>\n",
       "      <td>2022</td>\n",
       "      <td>Saturday</td>\n",
       "    </tr>\n",
       "  </tbody>\n",
       "</table>\n",
       "</div>"
      ],
      "text/plain": [
       "         Fecha  bolo1  bolo2  bolo3  bolo4  bolo5  bolo6  Loto +.1  Loto +.2  \\\n",
       "261 2022-01-08      4      8     14     21     22     33         2        15   \n",
       "263 2022-01-15      1      3     11     12     21     37         9         5   \n",
       "265 2022-01-22      4     13     16     17     22     23         5        15   \n",
       "267 2022-01-29      4     12     14     15     23     34         7         7   \n",
       "269 2022-02-05      3     18     24     27     34     36         6         5   \n",
       "\n",
       "     year  day_name  \n",
       "261  2022  Saturday  \n",
       "263  2022  Saturday  \n",
       "265  2022  Saturday  \n",
       "267  2022  Saturday  \n",
       "269  2022  Saturday  "
      ]
     },
     "execution_count": 23,
     "metadata": {},
     "output_type": "execute_result"
    }
   ],
   "source": [
    "sabados_2022 = sabados.query('year == 2022')\n",
    "sabados_2022.head()"
   ]
  },
  {
   "cell_type": "markdown",
   "id": "654e360f",
   "metadata": {},
   "source": [
    "#### PLOTING"
   ]
  },
  {
   "cell_type": "code",
   "execution_count": 24,
   "id": "1272f343",
   "metadata": {},
   "outputs": [
    {
     "data": {
      "image/png": "[encoded data removed]",
      "text/plain": [
       "<Figure size 432x288 with 1 Axes>"
      ]
     },
     "metadata": {
      "needs_background": "light"
     },
     "output_type": "display_data"
    }
   ],
   "source": [
    "plot_bolos(miercoles_2022, 'bolo1')"
   ]
  },
  {
   "cell_type": "code",
   "execution_count": 25,
   "id": "1f7f197a",
   "metadata": {},
   "outputs": [
    {
     "data": {
      "image/png": "[encoded data removed]",
      "text/plain": [
       "<Figure size 432x288 with 1 Axes>"
      ]
     },
     "metadata": {
      "needs_background": "light"
     },
     "output_type": "display_data"
    }
   ],
   "source": [
    "plot_bolos(miercoles_2022, 'bolo2')"
   ]
  },
  {
   "cell_type": "code",
   "execution_count": 26,
   "id": "436cdc08",
   "metadata": {},
   "outputs": [
    {
     "data": {
      "image/png": "[encoded data removed]",
      "text/plain": [
       "<Figure size 432x288 with 1 Axes>"
      ]
     },
     "metadata": {
      "needs_background": "light"
     },
     "output_type": "display_data"
    }
   ],
   "source": [
    "plot_bolos(miercoles_2022, 'bolo3')"
   ]
  },
  {
   "cell_type": "code",
   "execution_count": 27,
   "id": "d74e1056",
   "metadata": {},
   "outputs": [
    {
     "data": {
      "image/png": "[encoded data removed]",
      "text/plain": [
       "<Figure size 432x288 with 1 Axes>"
      ]
     },
     "metadata": {
      "needs_background": "light"
     },
     "output_type": "display_data"
    }
   ],
   "source": [
    "plot_bolos(miercoles_2022, 'bolo4')"
   ]
  },
  {
   "cell_type": "code",
   "execution_count": 28,
   "id": "031fd8b2",
   "metadata": {},
   "outputs": [
    {
     "data": {
      "image/png": "[encoded data removed]",
      "text/plain": [
       "<Figure size 432x288 with 1 Axes>"
      ]
     },
     "metadata": {
      "needs_background": "light"
     },
     "output_type": "display_data"
    }
   ],
   "source": [
    "plot_bolos(miercoles_2022, 'bolo5')"
   ]
  },
  {
   "cell_type": "code",
   "execution_count": 29,
   "id": "4d439518",
   "metadata": {},
   "outputs": [
    {
     "data": {
      "image/png": "[encoded data removed]",
      "text/plain": [
       "<Figure size 432x288 with 1 Axes>"
      ]
     },
     "metadata": {
      "needs_background": "light"
     },
     "output_type": "display_data"
    }
   ],
   "source": [
    "plot_bolos(miercoles_2022, 'bolo6')"
   ]
  },
  {
   "cell_type": "code",
   "execution_count": 30,
   "id": "49199de8",
   "metadata": {},
   "outputs": [
    {
     "data": {
      "image/png": "[encoded data removed]",
      "text/plain": [
       "<Figure size 432x288 with 1 Axes>"
      ]
     },
     "metadata": {
      "needs_background": "light"
     },
     "output_type": "display_data"
    }
   ],
   "source": [
    "plot_bolos(miercoles_2022, 'Loto +.1')"
   ]
  },
  {
   "cell_type": "code",
   "execution_count": 31,
   "id": "24ed338a",
   "metadata": {},
   "outputs": [
    {
     "data": {
      "image/png": "[encoded data removed]",
      "text/plain": [
       "<Figure size 432x288 with 1 Axes>"
      ]
     },
     "metadata": {
      "needs_background": "light"
     },
     "output_type": "display_data"
    }
   ],
   "source": [
    "plot_bolos(miercoles_2022, 'Loto +.2')"
   ]
  }
 ],
 "metadata": {
  "kernelspec": {
   "display_name": "Python 3 (ipykernel)",
   "language": "python",
   "name": "python3"
  },
  "language_info": {
   "codemirror_mode": {
    "name": "ipython",
    "version": 3
   },
   "file_extension": ".py",
   "mimetype": "text/x-python",
   "name": "python",
   "nbconvert_exporter": "python",
   "pygments_lexer": "ipython3",
   "version": "3.8.8"
  }
 },
 "nbformat": 4,
 "nbformat_minor": 5
}
