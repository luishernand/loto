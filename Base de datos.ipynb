{
 "cells": [
  {
   "cell_type": "markdown",
   "id": "e6710d7b",
   "metadata": {},
   "source": [
    "# Base de datos de la loto"
   ]
  },
  {
   "cell_type": "code",
   "execution_count": 1,
   "id": "4f7d2f65",
   "metadata": {},
   "outputs": [],
   "source": [
    "import numpy as np\n",
    "import pandas as pd\n",
    "from bs4 import BeautifulSoup\n",
    "import requests\n",
    "import urllib.request"
   ]
  },
  {
   "cell_type": "code",
   "execution_count": 2,
   "id": "e61e03ea",
   "metadata": {},
   "outputs": [],
   "source": [
    "url = 'https://www.nacionalloteria.com/republica-dominicana/lista-resultados-loto.php'\n",
    "r = requests.get(url).text\n",
    "soup = BeautifulSoup(r, 'html.parser')"
   ]
  },
  {
   "cell_type": "code",
   "execution_count": 3,
   "id": "df898068",
   "metadata": {},
   "outputs": [],
   "source": [
    "dfs = pd.read_html(r)"
   ]
  },
  {
   "cell_type": "code",
   "execution_count": 4,
   "id": "c0706c2d",
   "metadata": {},
   "outputs": [
    {
     "data": {
      "text/plain": [
       "1"
      ]
     },
     "execution_count": 4,
     "metadata": {},
     "output_type": "execute_result"
    }
   ],
   "source": [
    "len(dfs)"
   ]
  },
  {
   "cell_type": "code",
   "execution_count": 5,
   "id": "ac8c9f45",
   "metadata": {},
   "outputs": [
    {
     "data": {
      "text/html": [
       "<div>\n",
       "<style scoped>\n",
       "    .dataframe tbody tr th:only-of-type {\n",
       "        vertical-align: middle;\n",
       "    }\n",
       "\n",
       "    .dataframe tbody tr th {\n",
       "        vertical-align: top;\n",
       "    }\n",
       "\n",
       "    .dataframe thead th {\n",
       "        text-align: right;\n",
       "    }\n",
       "</style>\n",
       "<table border=\"1\" class=\"dataframe\">\n",
       "  <thead>\n",
       "    <tr style=\"text-align: right;\">\n",
       "      <th></th>\n",
       "      <th>Fecha</th>\n",
       "      <th>Combinación Ganadora</th>\n",
       "      <th>Loto +</th>\n",
       "    </tr>\n",
       "  </thead>\n",
       "  <tbody>\n",
       "    <tr>\n",
       "      <th>0</th>\n",
       "      <td>22/09/2021</td>\n",
       "      <td>07, 22, 27, 29, 30, 33</td>\n",
       "      <td>10</td>\n",
       "    </tr>\n",
       "    <tr>\n",
       "      <th>1</th>\n",
       "      <td>18/09/2021</td>\n",
       "      <td>15, 16, 26, 30, 33, 35</td>\n",
       "      <td>4</td>\n",
       "    </tr>\n",
       "    <tr>\n",
       "      <th>2</th>\n",
       "      <td>15/09/2021</td>\n",
       "      <td>01, 10, 13, 18, 23, 27</td>\n",
       "      <td>08</td>\n",
       "    </tr>\n",
       "    <tr>\n",
       "      <th>3</th>\n",
       "      <td>11/09/2021</td>\n",
       "      <td>01, 02, 07, 08, 14, 25</td>\n",
       "      <td>8</td>\n",
       "    </tr>\n",
       "    <tr>\n",
       "      <th>4</th>\n",
       "      <td>08/09/2021</td>\n",
       "      <td>03, 09, 12, 17, 31, 36</td>\n",
       "      <td>07</td>\n",
       "    </tr>\n",
       "    <tr>\n",
       "      <th>...</th>\n",
       "      <td>...</td>\n",
       "      <td>...</td>\n",
       "      <td>...</td>\n",
       "    </tr>\n",
       "    <tr>\n",
       "      <th>70</th>\n",
       "      <td>16/01/2021</td>\n",
       "      <td>07, 13, 14, 16, 28, 30</td>\n",
       "      <td>4|7</td>\n",
       "    </tr>\n",
       "    <tr>\n",
       "      <th>71</th>\n",
       "      <td>13/01/2021</td>\n",
       "      <td>03, 06, 15, 20, 21, 25</td>\n",
       "      <td>9|3</td>\n",
       "    </tr>\n",
       "    <tr>\n",
       "      <th>72</th>\n",
       "      <td>09/01/2021</td>\n",
       "      <td>06, 07, 09, 14, 26, 31</td>\n",
       "      <td>6|8</td>\n",
       "    </tr>\n",
       "    <tr>\n",
       "      <th>73</th>\n",
       "      <td>06/01/2021</td>\n",
       "      <td>02, 04, 22, 25, 26, 36</td>\n",
       "      <td>10|13</td>\n",
       "    </tr>\n",
       "    <tr>\n",
       "      <th>74</th>\n",
       "      <td>02/01/2021</td>\n",
       "      <td>01, 03, 06, 22, 24, 30</td>\n",
       "      <td>3|7</td>\n",
       "    </tr>\n",
       "  </tbody>\n",
       "</table>\n",
       "<p>75 rows × 3 columns</p>\n",
       "</div>"
      ],
      "text/plain": [
       "         Fecha    Combinación Ganadora Loto +\n",
       "0   22/09/2021  07, 22, 27, 29, 30, 33     10\n",
       "1   18/09/2021  15, 16, 26, 30, 33, 35      4\n",
       "2   15/09/2021  01, 10, 13, 18, 23, 27     08\n",
       "3   11/09/2021  01, 02, 07, 08, 14, 25      8\n",
       "4   08/09/2021  03, 09, 12, 17, 31, 36     07\n",
       "..         ...                     ...    ...\n",
       "70  16/01/2021  07, 13, 14, 16, 28, 30    4|7\n",
       "71  13/01/2021  03, 06, 15, 20, 21, 25    9|3\n",
       "72  09/01/2021  06, 07, 09, 14, 26, 31    6|8\n",
       "73  06/01/2021  02, 04, 22, 25, 26, 36  10|13\n",
       "74  02/01/2021  01, 03, 06, 22, 24, 30    3|7\n",
       "\n",
       "[75 rows x 3 columns]"
      ]
     },
     "execution_count": 5,
     "metadata": {},
     "output_type": "execute_result"
    }
   ],
   "source": [
    "dfs[0]"
   ]
  },
  {
   "cell_type": "code",
   "execution_count": 6,
   "id": "eb09f5e8",
   "metadata": {},
   "outputs": [
    {
     "data": {
      "text/html": [
       "<div>\n",
       "<style scoped>\n",
       "    .dataframe tbody tr th:only-of-type {\n",
       "        vertical-align: middle;\n",
       "    }\n",
       "\n",
       "    .dataframe tbody tr th {\n",
       "        vertical-align: top;\n",
       "    }\n",
       "\n",
       "    .dataframe thead th {\n",
       "        text-align: right;\n",
       "    }\n",
       "</style>\n",
       "<table border=\"1\" class=\"dataframe\">\n",
       "  <thead>\n",
       "    <tr style=\"text-align: right;\">\n",
       "      <th></th>\n",
       "      <th>Fecha</th>\n",
       "      <th>Combinación Ganadora</th>\n",
       "      <th>Loto +</th>\n",
       "    </tr>\n",
       "  </thead>\n",
       "  <tbody>\n",
       "    <tr>\n",
       "      <th>0</th>\n",
       "      <td>22/09/2021</td>\n",
       "      <td>07, 22, 27, 29, 30, 33</td>\n",
       "      <td>10</td>\n",
       "    </tr>\n",
       "    <tr>\n",
       "      <th>1</th>\n",
       "      <td>18/09/2021</td>\n",
       "      <td>15, 16, 26, 30, 33, 35</td>\n",
       "      <td>4</td>\n",
       "    </tr>\n",
       "    <tr>\n",
       "      <th>2</th>\n",
       "      <td>15/09/2021</td>\n",
       "      <td>01, 10, 13, 18, 23, 27</td>\n",
       "      <td>08</td>\n",
       "    </tr>\n",
       "    <tr>\n",
       "      <th>3</th>\n",
       "      <td>11/09/2021</td>\n",
       "      <td>01, 02, 07, 08, 14, 25</td>\n",
       "      <td>8</td>\n",
       "    </tr>\n",
       "    <tr>\n",
       "      <th>4</th>\n",
       "      <td>08/09/2021</td>\n",
       "      <td>03, 09, 12, 17, 31, 36</td>\n",
       "      <td>07</td>\n",
       "    </tr>\n",
       "  </tbody>\n",
       "</table>\n",
       "</div>"
      ],
      "text/plain": [
       "        Fecha    Combinación Ganadora Loto +\n",
       "0  22/09/2021  07, 22, 27, 29, 30, 33     10\n",
       "1  18/09/2021  15, 16, 26, 30, 33, 35      4\n",
       "2  15/09/2021  01, 10, 13, 18, 23, 27     08\n",
       "3  11/09/2021  01, 02, 07, 08, 14, 25      8\n",
       "4  08/09/2021  03, 09, 12, 17, 31, 36     07"
      ]
     },
     "execution_count": 6,
     "metadata": {},
     "output_type": "execute_result"
    }
   ],
   "source": [
    "data = dfs[0]\n",
    "data.head()"
   ]
  },
  {
   "cell_type": "code",
   "execution_count": 7,
   "id": "8b705357",
   "metadata": {},
   "outputs": [],
   "source": [
    "def get_data(num_ano):\n",
    "    ano = str(num_ano)\n",
    "    url = 'https://www.nacionalloteria.com/republica-dominicana/lista-resultados-loto.php?anno=' + ano\n",
    "    r = requests.get(url).text\n",
    "    soup = BeautifulSoup(r, 'html.parser')\n",
    "    dfs = pd.read_html(r)\n",
    "    data = dfs[0]\n",
    "    return data"
   ]
  },
  {
   "cell_type": "code",
   "execution_count": 10,
   "id": "f9ea32ac",
   "metadata": {},
   "outputs": [],
   "source": [
    "df_2019 = get_data(2019)\n",
    "df_2020 = get_data(2020)\n",
    "df_2021 = get_data(2021)"
   ]
  },
  {
   "cell_type": "code",
   "execution_count": 11,
   "id": "4ca792c8",
   "metadata": {},
   "outputs": [],
   "source": [
    "df = pd.concat([df_2019, df_2020, df_2021])"
   ]
  },
  {
   "cell_type": "code",
   "execution_count": 12,
   "id": "e4187b2f",
   "metadata": {},
   "outputs": [
    {
     "data": {
      "text/html": [
       "<div>\n",
       "<style scoped>\n",
       "    .dataframe tbody tr th:only-of-type {\n",
       "        vertical-align: middle;\n",
       "    }\n",
       "\n",
       "    .dataframe tbody tr th {\n",
       "        vertical-align: top;\n",
       "    }\n",
       "\n",
       "    .dataframe thead th {\n",
       "        text-align: right;\n",
       "    }\n",
       "</style>\n",
       "<table border=\"1\" class=\"dataframe\">\n",
       "  <thead>\n",
       "    <tr style=\"text-align: right;\">\n",
       "      <th></th>\n",
       "      <th>Fecha</th>\n",
       "      <th>Combinación Ganadora</th>\n",
       "      <th>Loto +</th>\n",
       "    </tr>\n",
       "  </thead>\n",
       "  <tbody>\n",
       "    <tr>\n",
       "      <th>0</th>\n",
       "      <td>28/12/2019</td>\n",
       "      <td>05, 06, 19, 28, 29, 32</td>\n",
       "      <td>7|4</td>\n",
       "    </tr>\n",
       "    <tr>\n",
       "      <th>1</th>\n",
       "      <td>21/12/2019</td>\n",
       "      <td>05, 12, 15, 24, 32, 37</td>\n",
       "      <td>1|1</td>\n",
       "    </tr>\n",
       "    <tr>\n",
       "      <th>2</th>\n",
       "      <td>18/12/2019</td>\n",
       "      <td>01, 07, 12, 23, 35, 38</td>\n",
       "      <td>2|11</td>\n",
       "    </tr>\n",
       "    <tr>\n",
       "      <th>3</th>\n",
       "      <td>14/12/2019</td>\n",
       "      <td>03, 05, 12, 20, 24, 37</td>\n",
       "      <td>5|11</td>\n",
       "    </tr>\n",
       "    <tr>\n",
       "      <th>4</th>\n",
       "      <td>11/12/2019</td>\n",
       "      <td>05, 12, 14, 24, 33, 35</td>\n",
       "      <td>1|8</td>\n",
       "    </tr>\n",
       "  </tbody>\n",
       "</table>\n",
       "</div>"
      ],
      "text/plain": [
       "        Fecha    Combinación Ganadora Loto +\n",
       "0  28/12/2019  05, 06, 19, 28, 29, 32    7|4\n",
       "1  21/12/2019  05, 12, 15, 24, 32, 37    1|1\n",
       "2  18/12/2019  01, 07, 12, 23, 35, 38   2|11\n",
       "3  14/12/2019  03, 05, 12, 20, 24, 37   5|11\n",
       "4  11/12/2019  05, 12, 14, 24, 33, 35    1|8"
      ]
     },
     "execution_count": 12,
     "metadata": {},
     "output_type": "execute_result"
    }
   ],
   "source": [
    "df.head()"
   ]
  },
  {
   "cell_type": "code",
   "execution_count": 13,
   "id": "8793f8ab",
   "metadata": {},
   "outputs": [
    {
     "data": {
      "text/plain": [
       "(261, 3)"
      ]
     },
     "execution_count": 13,
     "metadata": {},
     "output_type": "execute_result"
    }
   ],
   "source": [
    "df.shape"
   ]
  },
  {
   "cell_type": "code",
   "execution_count": 14,
   "id": "93f1a6fb",
   "metadata": {},
   "outputs": [],
   "source": [
    "df.to_excel('base.xlsx', index=False)"
   ]
  },
  {
   "cell_type": "code",
   "execution_count": 17,
   "id": "594d299c",
   "metadata": {},
   "outputs": [],
   "source": [
    "new_df = pd.read_excel('base.xlsx', sheet_name='data')"
   ]
  },
  {
   "cell_type": "code",
   "execution_count": 18,
   "id": "aecd160e",
   "metadata": {},
   "outputs": [
    {
     "data": {
      "text/html": [
       "<div>\n",
       "<style scoped>\n",
       "    .dataframe tbody tr th:only-of-type {\n",
       "        vertical-align: middle;\n",
       "    }\n",
       "\n",
       "    .dataframe tbody tr th {\n",
       "        vertical-align: top;\n",
       "    }\n",
       "\n",
       "    .dataframe thead th {\n",
       "        text-align: right;\n",
       "    }\n",
       "</style>\n",
       "<table border=\"1\" class=\"dataframe\">\n",
       "  <thead>\n",
       "    <tr style=\"text-align: right;\">\n",
       "      <th></th>\n",
       "      <th>Fecha</th>\n",
       "      <th>bolo1</th>\n",
       "      <th>bolo2</th>\n",
       "      <th>bolo3</th>\n",
       "      <th>bolo4</th>\n",
       "      <th>bolo5</th>\n",
       "      <th>bolo6</th>\n",
       "      <th>Loto +.1</th>\n",
       "      <th>Loto +.2</th>\n",
       "    </tr>\n",
       "  </thead>\n",
       "  <tbody>\n",
       "    <tr>\n",
       "      <th>0</th>\n",
       "      <td>2019-12-28</td>\n",
       "      <td>5</td>\n",
       "      <td>6</td>\n",
       "      <td>19</td>\n",
       "      <td>28</td>\n",
       "      <td>29</td>\n",
       "      <td>32</td>\n",
       "      <td>7</td>\n",
       "      <td>4</td>\n",
       "    </tr>\n",
       "    <tr>\n",
       "      <th>1</th>\n",
       "      <td>2019-12-21</td>\n",
       "      <td>5</td>\n",
       "      <td>12</td>\n",
       "      <td>15</td>\n",
       "      <td>24</td>\n",
       "      <td>32</td>\n",
       "      <td>37</td>\n",
       "      <td>1</td>\n",
       "      <td>1</td>\n",
       "    </tr>\n",
       "    <tr>\n",
       "      <th>2</th>\n",
       "      <td>2019-12-18</td>\n",
       "      <td>1</td>\n",
       "      <td>7</td>\n",
       "      <td>12</td>\n",
       "      <td>23</td>\n",
       "      <td>35</td>\n",
       "      <td>38</td>\n",
       "      <td>2</td>\n",
       "      <td>11</td>\n",
       "    </tr>\n",
       "    <tr>\n",
       "      <th>3</th>\n",
       "      <td>2019-12-14</td>\n",
       "      <td>3</td>\n",
       "      <td>5</td>\n",
       "      <td>12</td>\n",
       "      <td>20</td>\n",
       "      <td>24</td>\n",
       "      <td>37</td>\n",
       "      <td>5</td>\n",
       "      <td>11</td>\n",
       "    </tr>\n",
       "    <tr>\n",
       "      <th>4</th>\n",
       "      <td>2019-12-11</td>\n",
       "      <td>5</td>\n",
       "      <td>12</td>\n",
       "      <td>14</td>\n",
       "      <td>24</td>\n",
       "      <td>33</td>\n",
       "      <td>35</td>\n",
       "      <td>1</td>\n",
       "      <td>8</td>\n",
       "    </tr>\n",
       "  </tbody>\n",
       "</table>\n",
       "</div>"
      ],
      "text/plain": [
       "       Fecha  bolo1  bolo2  bolo3  bolo4  bolo5  bolo6  Loto +.1  Loto +.2\n",
       "0 2019-12-28      5      6     19     28     29     32         7         4\n",
       "1 2019-12-21      5     12     15     24     32     37         1         1\n",
       "2 2019-12-18      1      7     12     23     35     38         2        11\n",
       "3 2019-12-14      3      5     12     20     24     37         5        11\n",
       "4 2019-12-11      5     12     14     24     33     35         1         8"
      ]
     },
     "execution_count": 18,
     "metadata": {},
     "output_type": "execute_result"
    }
   ],
   "source": [
    "new_df.head()"
   ]
  },
  {
   "cell_type": "code",
   "execution_count": 20,
   "id": "06930dc7",
   "metadata": {},
   "outputs": [
    {
     "data": {
      "text/plain": [
       "Fecha       datetime64[ns]\n",
       "bolo1                int64\n",
       "bolo2                int64\n",
       "bolo3                int64\n",
       "bolo4                int64\n",
       "bolo5                int64\n",
       "bolo6                int64\n",
       "Loto +.1             int64\n",
       "Loto +.2             int64\n",
       "dtype: object"
      ]
     },
     "execution_count": 20,
     "metadata": {},
     "output_type": "execute_result"
    }
   ],
   "source": [
    "new_df.dtypes"
   ]
  }
 ],
 "metadata": {
  "kernelspec": {
   "display_name": "Python 3",
   "language": "python",
   "name": "python3"
  },
  "language_info": {
   "codemirror_mode": {
    "name": "ipython",
    "version": 3
   },
   "file_extension": ".py",
   "mimetype": "text/x-python",
   "name": "python",
   "nbconvert_exporter": "python",
   "pygments_lexer": "ipython3",
   "version": "3.8.8"
  }
 },
 "nbformat": 4,
 "nbformat_minor": 5
}
