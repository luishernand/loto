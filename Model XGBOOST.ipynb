{
 "cells": [
  {
   "cell_type": "markdown",
   "id": "a5398f4b",
   "metadata": {},
   "source": [
    "# Modelo XGBOOST  \n",
    "**Train and save model**"
   ]
  },
  {
   "cell_type": "code",
   "execution_count": 1,
   "id": "1adf6927",
   "metadata": {},
   "outputs": [
    {
     "name": "stderr",
     "output_type": "stream",
     "text": [
      "C:\\Users\\User\\anaconda3\\lib\\site-packages\\xgboost\\compat.py:36: FutureWarning: pandas.Int64Index is deprecated and will be removed from pandas in a future version. Use pandas.Index with the appropriate dtype instead.\n",
      "  from pandas import MultiIndex, Int64Index\n"
     ]
    }
   ],
   "source": [
    "import numpy as np\n",
    "import pandas as pd\n",
    "import joblib\n",
    "from sklearn.model_selection import train_test_split\n",
    "from xgboost import XGBRFRegressor\n",
    "import warnings\n",
    "warnings.filterwarnings('ignore')"
   ]
  },
  {
   "cell_type": "markdown",
   "id": "cb42209b",
   "metadata": {},
   "source": [
    "## READ DATA"
   ]
  },
  {
   "cell_type": "code",
   "execution_count": 2,
   "id": "0a9e29ea",
   "metadata": {},
   "outputs": [],
   "source": [
    "data= pd.read_excel('base.xlsx', sheet_name='datos')"
   ]
  },
  {
   "cell_type": "code",
   "execution_count": 3,
   "id": "2bb8d905",
   "metadata": {},
   "outputs": [
    {
     "data": {
      "text/html": [
       "<div>\n",
       "<style scoped>\n",
       "    .dataframe tbody tr th:only-of-type {\n",
       "        vertical-align: middle;\n",
       "    }\n",
       "\n",
       "    .dataframe tbody tr th {\n",
       "        vertical-align: top;\n",
       "    }\n",
       "\n",
       "    .dataframe thead th {\n",
       "        text-align: right;\n",
       "    }\n",
       "</style>\n",
       "<table border=\"1\" class=\"dataframe\">\n",
       "  <thead>\n",
       "    <tr style=\"text-align: right;\">\n",
       "      <th></th>\n",
       "      <th>Fecha</th>\n",
       "      <th>bolo1</th>\n",
       "      <th>bolo2</th>\n",
       "      <th>bolo3</th>\n",
       "      <th>bolo4</th>\n",
       "      <th>bolo5</th>\n",
       "      <th>bolo6</th>\n",
       "      <th>Loto +.1</th>\n",
       "      <th>Loto +.2</th>\n",
       "    </tr>\n",
       "  </thead>\n",
       "  <tbody>\n",
       "    <tr>\n",
       "      <th>325</th>\n",
       "      <td>2022-08-20</td>\n",
       "      <td>2</td>\n",
       "      <td>11</td>\n",
       "      <td>15</td>\n",
       "      <td>18</td>\n",
       "      <td>25</td>\n",
       "      <td>28</td>\n",
       "      <td>7</td>\n",
       "      <td>15</td>\n",
       "    </tr>\n",
       "    <tr>\n",
       "      <th>326</th>\n",
       "      <td>2022-08-24</td>\n",
       "      <td>5</td>\n",
       "      <td>16</td>\n",
       "      <td>22</td>\n",
       "      <td>28</td>\n",
       "      <td>36</td>\n",
       "      <td>38</td>\n",
       "      <td>2</td>\n",
       "      <td>4</td>\n",
       "    </tr>\n",
       "    <tr>\n",
       "      <th>327</th>\n",
       "      <td>2022-08-27</td>\n",
       "      <td>3</td>\n",
       "      <td>4</td>\n",
       "      <td>7</td>\n",
       "      <td>19</td>\n",
       "      <td>24</td>\n",
       "      <td>38</td>\n",
       "      <td>1</td>\n",
       "      <td>10</td>\n",
       "    </tr>\n",
       "    <tr>\n",
       "      <th>328</th>\n",
       "      <td>2022-08-31</td>\n",
       "      <td>7</td>\n",
       "      <td>8</td>\n",
       "      <td>9</td>\n",
       "      <td>16</td>\n",
       "      <td>18</td>\n",
       "      <td>34</td>\n",
       "      <td>2</td>\n",
       "      <td>12</td>\n",
       "    </tr>\n",
       "    <tr>\n",
       "      <th>329</th>\n",
       "      <td>2022-09-03</td>\n",
       "      <td>2</td>\n",
       "      <td>5</td>\n",
       "      <td>7</td>\n",
       "      <td>16</td>\n",
       "      <td>21</td>\n",
       "      <td>36</td>\n",
       "      <td>5</td>\n",
       "      <td>10</td>\n",
       "    </tr>\n",
       "  </tbody>\n",
       "</table>\n",
       "</div>"
      ],
      "text/plain": [
       "         Fecha  bolo1  bolo2  bolo3  bolo4  bolo5  bolo6  Loto +.1  Loto +.2\n",
       "325 2022-08-20      2     11     15     18     25     28         7        15\n",
       "326 2022-08-24      5     16     22     28     36     38         2         4\n",
       "327 2022-08-27      3      4      7     19     24     38         1        10\n",
       "328 2022-08-31      7      8      9     16     18     34         2        12\n",
       "329 2022-09-03      2      5      7     16     21     36         5        10"
      ]
     },
     "execution_count": 3,
     "metadata": {},
     "output_type": "execute_result"
    }
   ],
   "source": [
    "data.tail()"
   ]
  },
  {
   "cell_type": "markdown",
   "id": "a8a3db9a",
   "metadata": {},
   "source": [
    "## 1. DATA PREP"
   ]
  },
  {
   "cell_type": "code",
   "execution_count": 4,
   "id": "36980516",
   "metadata": {},
   "outputs": [],
   "source": [
    "bol1 = data.copy()\n",
    "bol1['prediction'] = bol1[['bolo1']].shift(-1)\n",
    "\n",
    "bol2 = data.copy()\n",
    "bol2['prediction'] = bol2[['bolo2']].shift(-1)\n",
    "\n",
    "bol3 = data.copy()\n",
    "bol3['prediction'] = bol3[['bolo3']].shift(-1)\n",
    "\n",
    "bol3 = data.copy()\n",
    "bol3['prediction'] = bol3[['bolo3']].shift(-1)\n",
    "\n",
    "bol4 = data.copy()\n",
    "bol4['prediction'] = bol4[['bolo4']].shift(-1)\n",
    "\n",
    "bol5 = data.copy()\n",
    "bol5['prediction'] = bol5[['bolo5']].shift(-1)\n",
    "\n",
    "bol6 = data.copy()\n",
    "bol6['prediction'] = bol6[['bolo6']].shift(-1)\n",
    "\n",
    "loto_1 = data.copy()\n",
    "loto_1['prediction'] = loto_1[['Loto +.1']].shift(-1)\n",
    "\n",
    "loto_2 = data.copy()\n",
    "loto_2['prediction'] = loto_2[['Loto +.2']].shift(-1)"
   ]
  },
  {
   "cell_type": "markdown",
   "id": "bbb7675c",
   "metadata": {},
   "source": [
    "## BOLO 1"
   ]
  },
  {
   "cell_type": "code",
   "execution_count": 5,
   "id": "7fa56ada",
   "metadata": {},
   "outputs": [],
   "source": [
    "X = bol1.drop(['prediction', 'Fecha'], axis=1 )\n",
    "y = bol1['prediction']\n",
    "X = X[:-1]\n",
    "y = y[:-1]\n",
    "X_train, X_test, y_train, y_test = train_test_split(X, y, test_size = 0.1, random_state =42 )\n",
    "xgb = XGBRFRegressor()\n",
    "xgb.fit(X_train,y_train)\n",
    "y_pred1 = xgb.predict(X_test)\n",
    "result = pd.DataFrame()\n",
    "result['predictions']= y_pred1\n",
    "result['predictions']= result['predictions'].astype(int)\n",
    "result['predictions'].tail(1)\n",
    "res1=result.copy()\n",
    "#joblib.dump(xgb, 'xgbbol1')"
   ]
  },
  {
   "cell_type": "markdown",
   "id": "715ef782",
   "metadata": {},
   "source": [
    "## BOLO2"
   ]
  },
  {
   "cell_type": "code",
   "execution_count": 6,
   "id": "513d7f6c",
   "metadata": {},
   "outputs": [],
   "source": [
    "# select features and target\n",
    "X = bol2.drop(['prediction', 'Fecha'], axis=1 )\n",
    "y = bol2['prediction']\n",
    "X = X[:-1]\n",
    "y = y[:-1]\n",
    "\n",
    "# split train/test\n",
    "X_train, X_test, y_train, y_test = train_test_split(X,y, test_size=.10, random_state=42)\n",
    "\n",
    "#Buid model\n",
    "b2 = XGBRFRegressor()\n",
    "b2.fit(X_train,y_train)\n",
    "\n",
    "#Make predictions\n",
    "y_pred1 = b2.predict(X_test)\n",
    "result = pd.DataFrame()\n",
    "result['predictions']= y_pred1\n",
    "result['predictions']= result['predictions'].astype(int)\n",
    "result['predictions'].tail(1)\n",
    "\n",
    "res2=result.copy()\n",
    "#save\n",
    "#joblib.dump(b2, 'xgbbol2')"
   ]
  },
  {
   "cell_type": "markdown",
   "id": "a1632577",
   "metadata": {},
   "source": [
    "## BOLO 3"
   ]
  },
  {
   "cell_type": "code",
   "execution_count": 7,
   "id": "859c6e35",
   "metadata": {},
   "outputs": [],
   "source": [
    "# select features and target\n",
    "X = bol3.drop(['prediction', 'Fecha'], axis=1 )\n",
    "y = bol3['prediction']\n",
    "X = X[:-1]\n",
    "y = y[:-1]\n",
    "\n",
    "# split train/test\n",
    "X_train, X_test, y_train, y_test = train_test_split(X,y, test_size=.10, random_state=42)\n",
    "\n",
    "#Buid model\n",
    "b3 = XGBRFRegressor()\n",
    "b3.fit(X_train,y_train)\n",
    "\n",
    "y_pred1 = b3.predict(X_test)\n",
    "result = pd.DataFrame()\n",
    "result['predictions']= y_pred1\n",
    "result['predictions']= result['predictions'].astype(int)\n",
    "result['predictions'].tail(1)\n",
    "\n",
    "res3=result.copy()\n",
    "#save\n",
    "#joblib.dump(b3, 'xgbbol3')"
   ]
  },
  {
   "cell_type": "markdown",
   "id": "6e5d4669",
   "metadata": {},
   "source": [
    "## BOLO 4"
   ]
  },
  {
   "cell_type": "code",
   "execution_count": 8,
   "id": "6687cba9",
   "metadata": {},
   "outputs": [],
   "source": [
    "# select features and target\n",
    "X = bol4.drop(['prediction', 'Fecha'], axis=1 )\n",
    "y = bol4['prediction']\n",
    "X = X[:-1]\n",
    "y = y[:-1]\n",
    "\n",
    "# split train/test\n",
    "X_train, X_test, y_train, y_test = train_test_split(X,y, test_size=.10, random_state=42)\n",
    "\n",
    "#Buid model\n",
    "b4 = XGBRFRegressor()\n",
    "b4.fit(X_train,y_train)\n",
    "\n",
    "y_pred1 = b4.predict(X_test)\n",
    "result = pd.DataFrame()\n",
    "result['predictions']= y_pred1\n",
    "result['predictions']= result['predictions'].astype(int)\n",
    "result['predictions'].tail(1)\n",
    "\n",
    "res4=result.copy()\n",
    "#save\n",
    "#joblib.dump(b4, 'xgbbol4')"
   ]
  },
  {
   "cell_type": "markdown",
   "id": "a8f5f8cd",
   "metadata": {},
   "source": [
    "## BOLO 5"
   ]
  },
  {
   "cell_type": "code",
   "execution_count": 9,
   "id": "271e121f",
   "metadata": {},
   "outputs": [],
   "source": [
    "# select features and target\n",
    "X = bol5.drop(['prediction', 'Fecha'], axis=1 )\n",
    "y = bol5['prediction']\n",
    "X = X[:-1]\n",
    "y = y[:-1]\n",
    "\n",
    "# split train/test\n",
    "X_train, X_test, y_train, y_test = train_test_split(X,y, test_size=.10, random_state=42)\n",
    "\n",
    "#Buid model\n",
    "b5 = XGBRFRegressor()\n",
    "b5.fit(X_train,y_train)\n",
    "\n",
    "y_pred1 = b5.predict(X_test)\n",
    "result = pd.DataFrame()\n",
    "result['predictions']= y_pred1\n",
    "result['predictions']= result['predictions'].astype(int)\n",
    "result['predictions'].tail(1)\n",
    "\n",
    "res5=result.copy()\n",
    "#save\n",
    "#joblib.dump(b5, 'xgbbol5')"
   ]
  },
  {
   "cell_type": "markdown",
   "id": "3f383dfd",
   "metadata": {},
   "source": [
    "## BOLO 6"
   ]
  },
  {
   "cell_type": "code",
   "execution_count": 10,
   "id": "2d517f67",
   "metadata": {},
   "outputs": [],
   "source": [
    "# select features and target\n",
    "X = bol6.drop(['prediction', 'Fecha'], axis=1 )\n",
    "y = bol6['prediction']\n",
    "X = X[:-1]\n",
    "y = y[:-1]\n",
    "\n",
    "# split train/test\n",
    "X_train, X_test, y_train, y_test = train_test_split(X,y, test_size=.30, random_state=42)\n",
    "\n",
    "#Buid model\n",
    "b6 = XGBRFRegressor()\n",
    "b6.fit(X_train,y_train)\n",
    "\n",
    "y_pred1 = b6.predict(X_test)\n",
    "result = pd.DataFrame()\n",
    "result['predictions']= y_pred1\n",
    "result['predictions']= result['predictions'].astype(int)\n",
    "result['predictions'].tail(1)\n",
    "\n",
    "res6=result.copy()\n",
    "#save\n",
    "#joblib.dump(b6, 'xgbbol6')"
   ]
  },
  {
   "cell_type": "markdown",
   "id": "3497a860",
   "metadata": {},
   "source": [
    "## Loto mas 1"
   ]
  },
  {
   "cell_type": "code",
   "execution_count": 11,
   "id": "82826b11",
   "metadata": {},
   "outputs": [],
   "source": [
    "# select features and target\n",
    "X = loto_1.drop(['prediction', 'Fecha'], axis=1 )\n",
    "y = loto_1['prediction']\n",
    "X = X[:-1]\n",
    "y = y[:-1]\n",
    "\n",
    "# split train/test\n",
    "X_train, X_test, y_train, y_test = train_test_split(X,y, test_size=.30, random_state=42)\n",
    "\n",
    "#Buid model\n",
    "lt1 = XGBRFRegressor()\n",
    "lt1.fit(X_train,y_train)\n",
    "\n",
    "y_pred1 = lt1.predict(X_test)\n",
    "result = pd.DataFrame()\n",
    "result['predictions']= y_pred1\n",
    "result['predictions']= result['predictions'].astype(int)\n",
    "result['predictions'].tail(1)\n",
    "\n",
    "resl1=result.copy()\n",
    "#save\n",
    "#joblib.dump(lt1, 'xgblt1')"
   ]
  },
  {
   "cell_type": "markdown",
   "id": "d99aa392",
   "metadata": {},
   "source": [
    "## Loto mas 2"
   ]
  },
  {
   "cell_type": "code",
   "execution_count": 12,
   "id": "3cbe3e66",
   "metadata": {},
   "outputs": [],
   "source": [
    "# select features and target\n",
    "X = loto_2.drop(['prediction', 'Fecha'], axis=1 )\n",
    "y = loto_2['prediction']\n",
    "X = X[:-1]\n",
    "y = y[:-1]\n",
    "\n",
    "# split train/test\n",
    "X_train, X_test, y_train, y_test = train_test_split(X,y, test_size=.30, random_state=42)\n",
    "\n",
    "#Buid model\n",
    "lt2 = XGBRFRegressor()\n",
    "lt2.fit(X_train,y_train)\n",
    "\n",
    "y_pred1 = lt2.predict(X_test)\n",
    "result = pd.DataFrame()\n",
    "result['predictions']= y_pred1\n",
    "result['predictions']= result['predictions'].astype(int)\n",
    "result['predictions'].tail(1)\n",
    "\n",
    "resl2=result.copy()\n",
    "#save\n",
    "#joblib.dump(lt2, 'xgblt2')"
   ]
  },
  {
   "cell_type": "code",
   "execution_count": 13,
   "id": "0104e3b3",
   "metadata": {},
   "outputs": [
    {
     "name": "stdout",
     "output_type": "stream",
     "text": [
      "Bolo1 =  [7]\n",
      "Bolo2 =  [13]\n",
      "Bolo3 =  [19]\n",
      "Bolo4 =  [22]\n",
      "Bolo5 =  [31]\n",
      "Bolo6 =  [32]\n",
      "Loto1 =  [5]\n",
      "Loto2 =  [9]\n"
     ]
    }
   ],
   "source": [
    "print('Bolo1 = ', res1['predictions'].tail(1).values)\n",
    "print('Bolo2 = ', res2['predictions'].tail(1).values)\n",
    "print('Bolo3 = ', res3['predictions'].tail(1).values)\n",
    "print('Bolo4 = ', res4['predictions'].tail(1).values)\n",
    "print('Bolo5 = ', res5['predictions'].tail(1).values)\n",
    "print('Bolo6 = ', res6['predictions'].tail(1).values)\n",
    "print('Loto1 = ', resl1['predictions'].tail(1).values)\n",
    "print('Loto2 = ', resl2['predictions'].tail(1).values)"
   ]
  },
  {
   "cell_type": "code",
   "execution_count": null,
   "id": "6f7eed62",
   "metadata": {},
   "outputs": [],
   "source": []
  }
 ],
 "metadata": {
  "kernelspec": {
   "display_name": "Python 3 (ipykernel)",
   "language": "python",
   "name": "python3"
  },
  "language_info": {
   "codemirror_mode": {
    "name": "ipython",
    "version": 3
   },
   "file_extension": ".py",
   "mimetype": "text/x-python",
   "name": "python",
   "nbconvert_exporter": "python",
   "pygments_lexer": "ipython3",
   "version": "3.8.8"
  }
 },
 "nbformat": 4,
 "nbformat_minor": 5
}
