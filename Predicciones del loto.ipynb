{
 "cells": [
  {
   "cell_type": "markdown",
   "id": "d285258f",
   "metadata": {},
   "source": [
    "# Predicción de los numeros de la loto"
   ]
  },
  {
   "cell_type": "markdown",
   "id": "215cd623",
   "metadata": {},
   "source": [
    "#### Librerias"
   ]
  },
  {
   "cell_type": "code",
   "execution_count": 1,
   "id": "ebc39128",
   "metadata": {},
   "outputs": [
    {
     "ename": "ModuleNotFoundError",
     "evalue": "No module named 'fbprophet'",
     "output_type": "error",
     "traceback": [
      "\u001b[1;31m---------------------------------------------------------------------------\u001b[0m",
      "\u001b[1;31mModuleNotFoundError\u001b[0m                       Traceback (most recent call last)",
      "\u001b[1;32m~\\AppData\\Local\\Temp\\ipykernel_8080\\3725132743.py\u001b[0m in \u001b[0;36m<cell line: 3>\u001b[1;34m()\u001b[0m\n\u001b[0;32m      1\u001b[0m \u001b[1;32mimport\u001b[0m \u001b[0mnumpy\u001b[0m \u001b[1;32mas\u001b[0m \u001b[0mnp\u001b[0m\u001b[1;33m\u001b[0m\u001b[1;33m\u001b[0m\u001b[0m\n\u001b[0;32m      2\u001b[0m \u001b[1;32mimport\u001b[0m \u001b[0mpandas\u001b[0m \u001b[1;32mas\u001b[0m \u001b[0mpd\u001b[0m\u001b[1;33m\u001b[0m\u001b[1;33m\u001b[0m\u001b[0m\n\u001b[1;32m----> 3\u001b[1;33m \u001b[1;32mfrom\u001b[0m \u001b[0mfbprophet\u001b[0m \u001b[1;32mimport\u001b[0m \u001b[0mProphet\u001b[0m\u001b[1;33m\u001b[0m\u001b[1;33m\u001b[0m\u001b[0m\n\u001b[0m\u001b[0;32m      4\u001b[0m \u001b[1;32mimport\u001b[0m \u001b[0mwarnings\u001b[0m\u001b[1;33m\u001b[0m\u001b[1;33m\u001b[0m\u001b[0m\n\u001b[0;32m      5\u001b[0m \u001b[0mwarnings\u001b[0m\u001b[1;33m.\u001b[0m\u001b[0mfilterwarnings\u001b[0m\u001b[1;33m(\u001b[0m\u001b[1;34m'ignore'\u001b[0m\u001b[1;33m)\u001b[0m\u001b[1;33m\u001b[0m\u001b[1;33m\u001b[0m\u001b[0m\n",
      "\u001b[1;31mModuleNotFoundError\u001b[0m: No module named 'fbprophet'"
     ]
    }
   ],
   "source": [
    "import numpy as np\n",
    "import pandas as pd\n",
    "from fbprophet import Prophet\n",
    "import warnings\n",
    "warnings.filterwarnings('ignore')"
   ]
  },
  {
   "cell_type": "markdown",
   "id": "4306abc1",
   "metadata": {},
   "source": [
    "## 1- Read df"
   ]
  },
  {
   "cell_type": "code",
   "execution_count": null,
   "id": "d4cbc0f2",
   "metadata": {},
   "outputs": [],
   "source": [
    "df = pd.read_excel('base.xlsx', sheet_name='datos')\n",
    "df.head()"
   ]
  },
  {
   "cell_type": "code",
   "execution_count": null,
   "id": "d8ff8832",
   "metadata": {},
   "outputs": [],
   "source": [
    "df.tail()"
   ]
  },
  {
   "cell_type": "markdown",
   "id": "345705a9",
   "metadata": {},
   "source": [
    "## 2- Preparacion de los datos"
   ]
  },
  {
   "cell_type": "code",
   "execution_count": null,
   "id": "3f6a1820",
   "metadata": {},
   "outputs": [],
   "source": [
    "df1 = df[['Fecha', 'bolo1']]\n",
    "df2 = df[['Fecha', 'bolo2']]\n",
    "df3 = df[['Fecha', 'bolo3']]\n",
    "df4 = df[['Fecha', 'bolo4']]\n",
    "df5 = df[['Fecha', 'bolo5']]\n",
    "df6 = df[['Fecha', 'bolo6']]\n",
    "df7 = df[['Fecha', 'Loto +.1']]\n",
    "df8 = df[['Fecha', 'Loto +.2']]"
   ]
  },
  {
   "cell_type": "code",
   "execution_count": null,
   "id": "85c19880",
   "metadata": {},
   "outputs": [],
   "source": [
    "df1.columns = ['ds', 'y']\n",
    "df2.columns = ['ds', 'y']\n",
    "df3.columns = ['ds', 'y']\n",
    "df4.columns = ['ds', 'y']\n",
    "df5.columns = ['ds', 'y']\n",
    "df6.columns = ['ds', 'y']\n",
    "df7.columns = ['ds', 'y']\n",
    "df8.columns = ['ds', 'y']"
   ]
  },
  {
   "cell_type": "markdown",
   "id": "8a96532d",
   "metadata": {},
   "source": [
    "## 3- Aplicar Modelo"
   ]
  },
  {
   "cell_type": "markdown",
   "id": "ede53f1d",
   "metadata": {},
   "source": [
    "- El modelo tiene mejor arcierto con la base de datos completa\n",
    "- Para los de miercoles a sadado el periodo es 3 y de sabado a miercoles es de 4"
   ]
  },
  {
   "cell_type": "markdown",
   "id": "5f38b148",
   "metadata": {},
   "source": [
    "#### 3.1 de sabado a mierocles 4 dias"
   ]
  },
  {
   "cell_type": "code",
   "execution_count": null,
   "id": "3ae06474",
   "metadata": {},
   "outputs": [],
   "source": [
    "# funcion to model building and predictions\n",
    "def build_model(data):\n",
    "    m = Prophet(daily_seasonality=True)\n",
    "    model = m.fit(data)\n",
    "    future = m.make_future_dataframe(periods=4)\n",
    "    forecast = m.predict(future)\n",
    "    results = int(round(forecast['yhat'].tail(1)))\n",
    "    return results"
   ]
  },
  {
   "cell_type": "code",
   "execution_count": null,
   "id": "f3988152",
   "metadata": {},
   "outputs": [],
   "source": [
    "bolo1 = build_model(df1)\n",
    "bolo2 = build_model(df2)\n",
    "bolo3 = build_model(df3)\n",
    "bolo4 = build_model(df4)\n",
    "bolo5 = build_model(df5)\n",
    "bolo6 = build_model(df6)\n",
    "bolo_mas_1 = build_model(df7)\n",
    "bolo_mas_2 = build_model(df8)"
   ]
  },
  {
   "cell_type": "code",
   "execution_count": null,
   "id": "72d9417a",
   "metadata": {},
   "outputs": [],
   "source": [
    "resultados = str(bolo1) + ' '+ str(bolo2) + ' '+ str(bolo3) + ' '+ str(bolo4) + ' '+ str(bolo5) + ' '+ str(bolo6) + ' '+ str(bolo_mas_1) + ' '+ str(bolo_mas_2)"
   ]
  },
  {
   "cell_type": "code",
   "execution_count": null,
   "id": "62b4302e",
   "metadata": {},
   "outputs": [],
   "source": [
    "print('Predicción para el miercoles: {}'.format(resultados))"
   ]
  },
  {
   "cell_type": "markdown",
   "id": "d6565cdc",
   "metadata": {},
   "source": [
    "#### 3.2 de miercoles a sabado 3 dias"
   ]
  },
  {
   "cell_type": "code",
   "execution_count": null,
   "id": "a74f4fd8",
   "metadata": {},
   "outputs": [],
   "source": [
    "def build_model(data):\n",
    "    m = Prophet(daily_seasonality=True)\n",
    "    model = m.fit(data)\n",
    "    future = m.make_future_dataframe(periods=3)\n",
    "    forecast = m.predict(future)\n",
    "    results = int(round(forecast['yhat'].tail(1)))\n",
    "    return results"
   ]
  },
  {
   "cell_type": "code",
   "execution_count": null,
   "id": "846eb93c",
   "metadata": {},
   "outputs": [],
   "source": [
    "bolo1 = build_model(df1)\n",
    "bolo2 = build_model(df2)\n",
    "bolo3 = build_model(df3)\n",
    "bolo4 = build_model(df4)\n",
    "bolo5 = build_model(df5)\n",
    "bolo6 = build_model(df6)\n",
    "bolo_mas_1 = build_model(df7)\n",
    "bolo_mas_2 = build_model(df8)"
   ]
  },
  {
   "cell_type": "code",
   "execution_count": null,
   "id": "43fa4ff6",
   "metadata": {},
   "outputs": [],
   "source": [
    "result = str(bolo1) + ' '+ str(bolo2) + ' '+ str(bolo3) + ' '+ str(bolo4) + ' '+ str(bolo5) + ' '+ str(bolo6) + ' '+ str(bolo_mas_1) + ' '+ str(bolo_mas_2)"
   ]
  },
  {
   "cell_type": "code",
   "execution_count": null,
   "id": "f848c6b4",
   "metadata": {},
   "outputs": [],
   "source": [
    "print('Predicción para el sabado: {}'.format(result))"
   ]
  },
  {
   "cell_type": "markdown",
   "id": "6ced38c7",
   "metadata": {},
   "source": [
    "### Prueba de un periodo"
   ]
  },
  {
   "cell_type": "code",
   "execution_count": null,
   "id": "0034a67f",
   "metadata": {},
   "outputs": [],
   "source": [
    "def build_model(data):\n",
    "    m = Prophet(daily_seasonality=True)\n",
    "    model = m.fit(data)\n",
    "    future = m.make_future_dataframe(periods=1)\n",
    "    forecast = m.predict(future)\n",
    "    results = int(round(forecast['yhat'].tail(1)))\n",
    "    return results"
   ]
  },
  {
   "cell_type": "code",
   "execution_count": null,
   "id": "9056c0f2",
   "metadata": {},
   "outputs": [],
   "source": [
    "bolo1 = build_model(df1)\n",
    "bolo2 = build_model(df2)\n",
    "bolo3 = build_model(df3)\n",
    "bolo4 = build_model(df4)\n",
    "bolo5 = build_model(df5)\n",
    "bolo6 = build_model(df6)\n",
    "bolo_mas_1 = build_model(df7)\n",
    "bolo_mas_2 = build_model(df8)"
   ]
  },
  {
   "cell_type": "code",
   "execution_count": null,
   "id": "d2b9a989",
   "metadata": {},
   "outputs": [],
   "source": [
    "result = str(bolo1) + ' '+ str(bolo2) + ' '+ str(bolo3) + ' '+ str(bolo4) + ' '+ str(bolo5) + ' '+ str(bolo6) + ' '+ str(bolo_mas_1) + ' '+ str(bolo_mas_2)"
   ]
  },
  {
   "cell_type": "code",
   "execution_count": null,
   "id": "e6619dc8",
   "metadata": {},
   "outputs": [],
   "source": [
    "print('Predicción: {}'.format(result))"
   ]
  }
 ],
 "metadata": {
  "kernelspec": {
   "display_name": "Python 3 (ipykernel)",
   "language": "python",
   "name": "python3"
  },
  "language_info": {
   "codemirror_mode": {
    "name": "ipython",
    "version": 3
   },
   "file_extension": ".py",
   "mimetype": "text/x-python",
   "name": "python",
   "nbconvert_exporter": "python",
   "pygments_lexer": "ipython3",
   "version": "3.8.8"
  }
 },
 "nbformat": 4,
 "nbformat_minor": 5
}
