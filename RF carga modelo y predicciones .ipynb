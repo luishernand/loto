{
 "cells": [
  {
   "cell_type": "markdown",
   "id": "15bd3758",
   "metadata": {},
   "source": [
    "# Random Forest Predicciones"
   ]
  },
  {
   "cell_type": "markdown",
   "id": "d368d02f",
   "metadata": {},
   "source": [
    "##### Libraries"
   ]
  },
  {
   "cell_type": "code",
   "execution_count": 7,
   "id": "00ff31a1",
   "metadata": {},
   "outputs": [],
   "source": [
    "import numpy as np\n",
    "import pandas as pd\n",
    "import joblib\n",
    "from sklearn.ensemble import RandomForestRegressor\n",
    "import warnings\n",
    "warnings.filterwarnings('ignore')"
   ]
  },
  {
   "cell_type": "markdown",
   "id": "8b1319d6",
   "metadata": {},
   "source": [
    "## 1- carga de modelos"
   ]
  },
  {
   "cell_type": "code",
   "execution_count": 8,
   "id": "8296c341",
   "metadata": {},
   "outputs": [],
   "source": [
    "bol1 = joblib.load('rfbol1')\n",
    "bol2 = joblib.load('rfbol2')\n",
    "bol3 = joblib.load('rfbol3')\n",
    "bol4 = joblib.load('rfbol4')\n",
    "bol5 = joblib.load('rfbol5')\n",
    "bol6 = joblib.load('rfbol6')\n",
    "lt1 = joblib.load('rflt1')\n",
    "lt2 = joblib.load('rflt2')"
   ]
  },
  {
   "cell_type": "markdown",
   "id": "13cd55c5",
   "metadata": {},
   "source": [
    "## 2- Predicciones"
   ]
  },
  {
   "cell_type": "code",
   "execution_count": 9,
   "id": "1f8c22a5",
   "metadata": {},
   "outputs": [],
   "source": [
    "data = [2,5,7,16,21,36,5,10]"
   ]
  },
  {
   "cell_type": "code",
   "execution_count": 10,
   "id": "fd8918ae",
   "metadata": {},
   "outputs": [],
   "source": [
    "bolo1 = bol1.predict([data])\n",
    "bolo2 = bol2.predict([data])\n",
    "bolo3 = bol3.predict([data])\n",
    "bolo4 = bol4.predict([data])\n",
    "bolo5 = bol5.predict([data])\n",
    "bolo6 = bol6.predict([data])\n",
    "loto_1 = lt1.predict([data])\n",
    "loto_2 = lt2.predict([data])"
   ]
  },
  {
   "cell_type": "code",
   "execution_count": 11,
   "id": "0a47f923",
   "metadata": {},
   "outputs": [],
   "source": [
    "resultado = [int(bolo1[0]),int(bolo2[0]), int(bolo3[0]), int(bolo4[0]), int(bolo5[0]),\n",
    "            int(bolo6[0]), int(loto_1[0]), int(loto_2[0])] "
   ]
  },
  {
   "cell_type": "code",
   "execution_count": 12,
   "id": "461631e3",
   "metadata": {},
   "outputs": [
    {
     "data": {
      "text/plain": [
       "[4, 8, 14, 19, 26, 31, 5, 8]"
      ]
     },
     "execution_count": 12,
     "metadata": {},
     "output_type": "execute_result"
    }
   ],
   "source": [
    "resultado"
   ]
  },
  {
   "cell_type": "code",
   "execution_count": 13,
   "id": "937f3b74",
   "metadata": {},
   "outputs": [],
   "source": [
    "ganadores = [2,5,7,16,21,36,5,10]"
   ]
  },
  {
   "cell_type": "code",
   "execution_count": 14,
   "id": "0e6e1ffa",
   "metadata": {},
   "outputs": [
    {
     "name": "stdout",
     "output_type": "stream",
     "text": [
      "numeros ganadores [2, 5, 7, 16, 21, 36, 5, 10]\n",
      "Predicciones del modelo [4, 8, 14, 19, 26, 31, 5, 8]\n"
     ]
    }
   ],
   "source": [
    "print('numeros ganadores {}'.format(ganadores))\n",
    "print('Predicciones del modelo {}'.format(resultado))"
   ]
  },
  {
   "cell_type": "code",
   "execution_count": null,
   "id": "588c1271",
   "metadata": {},
   "outputs": [],
   "source": []
  }
 ],
 "metadata": {
  "kernelspec": {
   "display_name": "Python 3 (ipykernel)",
   "language": "python",
   "name": "python3"
  },
  "language_info": {
   "codemirror_mode": {
    "name": "ipython",
    "version": 3
   },
   "file_extension": ".py",
   "mimetype": "text/x-python",
   "name": "python",
   "nbconvert_exporter": "python",
   "pygments_lexer": "ipython3",
   "version": "3.8.8"
  }
 },
 "nbformat": 4,
 "nbformat_minor": 5
}
