{
 "cells": [
  {
   "cell_type": "markdown",
   "id": "bb337159",
   "metadata": {},
   "source": [
    "# web scrapper loto"
   ]
  },
  {
   "cell_type": "code",
   "execution_count": 18,
   "id": "f0ca27b9",
   "metadata": {},
   "outputs": [],
   "source": [
    "import numpy as np\n",
    "import pandas as pd\n",
    "from bs4 import BeautifulSoup\n",
    "import requests\n",
    "import urllib.request"
   ]
  },
  {
   "cell_type": "code",
   "execution_count": 103,
   "id": "940fd04a",
   "metadata": {},
   "outputs": [],
   "source": [
    "url = 'https://leidsa.com/sorteos-anteriores'\n",
    "r = requests.get(url).text\n",
    "soup = BeautifulSoup(r, 'html.parser')"
   ]
  },
  {
   "cell_type": "code",
   "execution_count": 105,
   "id": "072ec0d0",
   "metadata": {},
   "outputs": [],
   "source": [
    "dfs = pd.read_html(r)"
   ]
  },
  {
   "cell_type": "code",
   "execution_count": 107,
   "id": "aafa2cc6",
   "metadata": {},
   "outputs": [
    {
     "data": {
      "text/plain": [
       "1"
      ]
     },
     "execution_count": 107,
     "metadata": {},
     "output_type": "execute_result"
    }
   ],
   "source": [
    "len(dfs)"
   ]
  },
  {
   "cell_type": "code",
   "execution_count": 110,
   "id": "42c0ba8c",
   "metadata": {
    "scrolled": true
   },
   "outputs": [
    {
     "data": {
      "text/html": [
       "<div>\n",
       "<style scoped>\n",
       "    .dataframe tbody tr th:only-of-type {\n",
       "        vertical-align: middle;\n",
       "    }\n",
       "\n",
       "    .dataframe tbody tr th {\n",
       "        vertical-align: top;\n",
       "    }\n",
       "\n",
       "    .dataframe thead th {\n",
       "        text-align: right;\n",
       "    }\n",
       "</style>\n",
       "<table border=\"1\" class=\"dataframe\">\n",
       "  <thead>\n",
       "    <tr style=\"text-align: right;\">\n",
       "      <th></th>\n",
       "      <th>Fecha</th>\n",
       "      <th>#Sorteo</th>\n",
       "      <th>Juego</th>\n",
       "      <th>Tanda</th>\n",
       "      <th>Números Ganadores</th>\n",
       "    </tr>\n",
       "  </thead>\n",
       "  <tbody>\n",
       "    <tr>\n",
       "      <th>0</th>\n",
       "      <td>24/09/2021</td>\n",
       "      <td>351</td>\n",
       "      <td>LA PRIMERA</td>\n",
       "      <td>TARDE</td>\n",
       "      <td>67 11 49</td>\n",
       "    </tr>\n",
       "    <tr>\n",
       "      <th>1</th>\n",
       "      <td>24/09/2021</td>\n",
       "      <td>401</td>\n",
       "      <td>LA SUERTE</td>\n",
       "      <td>TARDE</td>\n",
       "      <td>12 60 22</td>\n",
       "    </tr>\n",
       "    <tr>\n",
       "      <th>2</th>\n",
       "      <td>24/09/2021</td>\n",
       "      <td>3514</td>\n",
       "      <td>LOTERIA REAL</td>\n",
       "      <td>TARDE</td>\n",
       "      <td>68 64 90</td>\n",
       "    </tr>\n",
       "    <tr>\n",
       "      <th>3</th>\n",
       "      <td>23/09/2021</td>\n",
       "      <td>4453</td>\n",
       "      <td>SUPER KINO TV</td>\n",
       "      <td>NOCHE</td>\n",
       "      <td>03 08 10 11 13 15 17 30 32 36 38 48 53 55 56 6...</td>\n",
       "    </tr>\n",
       "    <tr>\n",
       "      <th>4</th>\n",
       "      <td>23/09/2021</td>\n",
       "      <td>8191</td>\n",
       "      <td>QUINIELA PALE</td>\n",
       "      <td>NOCHE</td>\n",
       "      <td>95 12 70</td>\n",
       "    </tr>\n",
       "    <tr>\n",
       "      <th>...</th>\n",
       "      <td>...</td>\n",
       "      <td>...</td>\n",
       "      <td>...</td>\n",
       "      <td>...</td>\n",
       "      <td>...</td>\n",
       "    </tr>\n",
       "    <tr>\n",
       "      <th>245</th>\n",
       "      <td>31/08/2021</td>\n",
       "      <td>9870</td>\n",
       "      <td>NACIONAL</td>\n",
       "      <td>TARDE</td>\n",
       "      <td>09 71 36</td>\n",
       "    </tr>\n",
       "    <tr>\n",
       "      <th>246</th>\n",
       "      <td>31/08/2021</td>\n",
       "      <td>9871</td>\n",
       "      <td>NACIONAL</td>\n",
       "      <td>NOCHE</td>\n",
       "      <td>82 85 95</td>\n",
       "    </tr>\n",
       "    <tr>\n",
       "      <th>247</th>\n",
       "      <td>31/08/2021</td>\n",
       "      <td>1229</td>\n",
       "      <td>LOTEKA</td>\n",
       "      <td>NOCHE</td>\n",
       "      <td>70 47 79</td>\n",
       "    </tr>\n",
       "    <tr>\n",
       "      <th>248</th>\n",
       "      <td>31/08/2021</td>\n",
       "      <td>3169</td>\n",
       "      <td>PEGA 3 MAS</td>\n",
       "      <td>NOCHE</td>\n",
       "      <td>30 1 13</td>\n",
       "    </tr>\n",
       "    <tr>\n",
       "      <th>249</th>\n",
       "      <td>31/08/2021</td>\n",
       "      <td>7424</td>\n",
       "      <td>LOTO POOL</td>\n",
       "      <td>NOCHE</td>\n",
       "      <td>05 16 22 23 28</td>\n",
       "    </tr>\n",
       "  </tbody>\n",
       "</table>\n",
       "<p>250 rows × 5 columns</p>\n",
       "</div>"
      ],
      "text/plain": [
       "          Fecha  #Sorteo          Juego  Tanda  \\\n",
       "0    24/09/2021      351     LA PRIMERA  TARDE   \n",
       "1    24/09/2021      401      LA SUERTE  TARDE   \n",
       "2    24/09/2021     3514   LOTERIA REAL  TARDE   \n",
       "3    23/09/2021     4453  SUPER KINO TV  NOCHE   \n",
       "4    23/09/2021     8191  QUINIELA PALE  NOCHE   \n",
       "..          ...      ...            ...    ...   \n",
       "245  31/08/2021     9870       NACIONAL  TARDE   \n",
       "246  31/08/2021     9871       NACIONAL  NOCHE   \n",
       "247  31/08/2021     1229         LOTEKA  NOCHE   \n",
       "248  31/08/2021     3169     PEGA 3 MAS  NOCHE   \n",
       "249  31/08/2021     7424      LOTO POOL  NOCHE   \n",
       "\n",
       "                                     Números Ganadores  \n",
       "0                                             67 11 49  \n",
       "1                                             12 60 22  \n",
       "2                                             68 64 90  \n",
       "3    03 08 10 11 13 15 17 30 32 36 38 48 53 55 56 6...  \n",
       "4                                             95 12 70  \n",
       "..                                                 ...  \n",
       "245                                           09 71 36  \n",
       "246                                           82 85 95  \n",
       "247                                           70 47 79  \n",
       "248                                            30 1 13  \n",
       "249                                     05 16 22 23 28  \n",
       "\n",
       "[250 rows x 5 columns]"
      ]
     },
     "execution_count": 110,
     "metadata": {},
     "output_type": "execute_result"
    }
   ],
   "source": [
    "dfs[0]"
   ]
  },
  {
   "cell_type": "code",
   "execution_count": 111,
   "id": "e46f5f94",
   "metadata": {},
   "outputs": [
    {
     "data": {
      "text/html": [
       "<div>\n",
       "<style scoped>\n",
       "    .dataframe tbody tr th:only-of-type {\n",
       "        vertical-align: middle;\n",
       "    }\n",
       "\n",
       "    .dataframe tbody tr th {\n",
       "        vertical-align: top;\n",
       "    }\n",
       "\n",
       "    .dataframe thead th {\n",
       "        text-align: right;\n",
       "    }\n",
       "</style>\n",
       "<table border=\"1\" class=\"dataframe\">\n",
       "  <thead>\n",
       "    <tr style=\"text-align: right;\">\n",
       "      <th></th>\n",
       "      <th>Fecha</th>\n",
       "      <th>#Sorteo</th>\n",
       "      <th>Juego</th>\n",
       "      <th>Tanda</th>\n",
       "      <th>Números Ganadores</th>\n",
       "    </tr>\n",
       "  </thead>\n",
       "  <tbody>\n",
       "    <tr>\n",
       "      <th>0</th>\n",
       "      <td>24/09/2021</td>\n",
       "      <td>351</td>\n",
       "      <td>LA PRIMERA</td>\n",
       "      <td>TARDE</td>\n",
       "      <td>67 11 49</td>\n",
       "    </tr>\n",
       "    <tr>\n",
       "      <th>1</th>\n",
       "      <td>24/09/2021</td>\n",
       "      <td>401</td>\n",
       "      <td>LA SUERTE</td>\n",
       "      <td>TARDE</td>\n",
       "      <td>12 60 22</td>\n",
       "    </tr>\n",
       "    <tr>\n",
       "      <th>2</th>\n",
       "      <td>24/09/2021</td>\n",
       "      <td>3514</td>\n",
       "      <td>LOTERIA REAL</td>\n",
       "      <td>TARDE</td>\n",
       "      <td>68 64 90</td>\n",
       "    </tr>\n",
       "    <tr>\n",
       "      <th>3</th>\n",
       "      <td>23/09/2021</td>\n",
       "      <td>4453</td>\n",
       "      <td>SUPER KINO TV</td>\n",
       "      <td>NOCHE</td>\n",
       "      <td>03 08 10 11 13 15 17 30 32 36 38 48 53 55 56 6...</td>\n",
       "    </tr>\n",
       "    <tr>\n",
       "      <th>4</th>\n",
       "      <td>23/09/2021</td>\n",
       "      <td>8191</td>\n",
       "      <td>QUINIELA PALE</td>\n",
       "      <td>NOCHE</td>\n",
       "      <td>95 12 70</td>\n",
       "    </tr>\n",
       "  </tbody>\n",
       "</table>\n",
       "</div>"
      ],
      "text/plain": [
       "        Fecha  #Sorteo          Juego  Tanda  \\\n",
       "0  24/09/2021      351     LA PRIMERA  TARDE   \n",
       "1  24/09/2021      401      LA SUERTE  TARDE   \n",
       "2  24/09/2021     3514   LOTERIA REAL  TARDE   \n",
       "3  23/09/2021     4453  SUPER KINO TV  NOCHE   \n",
       "4  23/09/2021     8191  QUINIELA PALE  NOCHE   \n",
       "\n",
       "                                   Números Ganadores  \n",
       "0                                           67 11 49  \n",
       "1                                           12 60 22  \n",
       "2                                           68 64 90  \n",
       "3  03 08 10 11 13 15 17 30 32 36 38 48 53 55 56 6...  \n",
       "4                                           95 12 70  "
      ]
     },
     "execution_count": 111,
     "metadata": {},
     "output_type": "execute_result"
    }
   ],
   "source": [
    "df1 = dfs[0]\n",
    "df1.head()"
   ]
  },
  {
   "cell_type": "code",
   "execution_count": 113,
   "id": "758bf423",
   "metadata": {},
   "outputs": [],
   "source": [
    "df2 = df1[df1['Juego']=='LOTO']"
   ]
  },
  {
   "cell_type": "code",
   "execution_count": 114,
   "id": "56bf18e9",
   "metadata": {},
   "outputs": [
    {
     "data": {
      "text/plain": [
       "(7, 5)"
      ]
     },
     "execution_count": 114,
     "metadata": {},
     "output_type": "execute_result"
    }
   ],
   "source": [
    "df2.shape"
   ]
  },
  {
   "cell_type": "markdown",
   "id": "2358c7c0",
   "metadata": {},
   "source": [
    "### Method 2"
   ]
  },
  {
   "cell_type": "code",
   "execution_count": 106,
   "id": "5cfdda55",
   "metadata": {},
   "outputs": [
    {
     "data": {
      "text/plain": [
       "[          Fecha  #Sorteo          Juego  Tanda  \\\n",
       " 0    24/09/2021      351     LA PRIMERA  TARDE   \n",
       " 1    24/09/2021      401      LA SUERTE  TARDE   \n",
       " 2    24/09/2021     3514   LOTERIA REAL  TARDE   \n",
       " 3    23/09/2021     4453  SUPER KINO TV  NOCHE   \n",
       " 4    23/09/2021     8191  QUINIELA PALE  NOCHE   \n",
       " ..          ...      ...            ...    ...   \n",
       " 245  31/08/2021     9870       NACIONAL  TARDE   \n",
       " 246  31/08/2021     9871       NACIONAL  NOCHE   \n",
       " 247  31/08/2021     1229         LOTEKA  NOCHE   \n",
       " 248  31/08/2021     3169     PEGA 3 MAS  NOCHE   \n",
       " 249  31/08/2021     7424      LOTO POOL  NOCHE   \n",
       " \n",
       "                                      Números Ganadores  \n",
       " 0                                             67 11 49  \n",
       " 1                                             12 60 22  \n",
       " 2                                             68 64 90  \n",
       " 3    03 08 10 11 13 15 17 30 32 36 38 48 53 55 56 6...  \n",
       " 4                                             95 12 70  \n",
       " ..                                                 ...  \n",
       " 245                                           09 71 36  \n",
       " 246                                           82 85 95  \n",
       " 247                                           70 47 79  \n",
       " 248                                            30 1 13  \n",
       " 249                                     05 16 22 23 28  \n",
       " \n",
       " [250 rows x 5 columns]]"
      ]
     },
     "execution_count": 106,
     "metadata": {},
     "output_type": "execute_result"
    }
   ],
   "source": [
    "dfs"
   ]
  },
  {
   "cell_type": "code",
   "execution_count": 85,
   "id": "14889a37",
   "metadata": {},
   "outputs": [
    {
     "name": "stdout",
     "output_type": "stream",
     "text": [
      "1\n"
     ]
    }
   ],
   "source": [
    "print(len(dfs))"
   ]
  },
  {
   "cell_type": "code",
   "execution_count": 86,
   "id": "b2dad510",
   "metadata": {},
   "outputs": [
    {
     "data": {
      "text/plain": [
       "0      24/09/2021\n",
       "1      24/09/2021\n",
       "2      24/09/2021\n",
       "3      23/09/2021\n",
       "4      23/09/2021\n",
       "          ...    \n",
       "245    31/08/2021\n",
       "246    31/08/2021\n",
       "247    31/08/2021\n",
       "248    31/08/2021\n",
       "249    31/08/2021\n",
       "Name: Fecha, Length: 250, dtype: object"
      ]
     },
     "execution_count": 86,
     "metadata": {},
     "output_type": "execute_result"
    }
   ],
   "source": [
    "dfs[0]['Fecha']"
   ]
  },
  {
   "cell_type": "markdown",
   "id": "fa401b85",
   "metadata": {},
   "source": [
    "### Data frame"
   ]
  },
  {
   "cell_type": "code",
   "execution_count": 87,
   "id": "df6afd4e",
   "metadata": {},
   "outputs": [],
   "source": [
    "data = pd.DataFrame()\n",
    "data['fecha'] = dfs[0]['Fecha']\n",
    "data['juego'] = dfs[0]['Juego']\n",
    "data['num_ganadores'] = dfs[0]['Números Ganadores']"
   ]
  },
  {
   "cell_type": "code",
   "execution_count": 88,
   "id": "f80ac8f2",
   "metadata": {},
   "outputs": [
    {
     "data": {
      "text/html": [
       "<div>\n",
       "<style scoped>\n",
       "    .dataframe tbody tr th:only-of-type {\n",
       "        vertical-align: middle;\n",
       "    }\n",
       "\n",
       "    .dataframe tbody tr th {\n",
       "        vertical-align: top;\n",
       "    }\n",
       "\n",
       "    .dataframe thead th {\n",
       "        text-align: right;\n",
       "    }\n",
       "</style>\n",
       "<table border=\"1\" class=\"dataframe\">\n",
       "  <thead>\n",
       "    <tr style=\"text-align: right;\">\n",
       "      <th></th>\n",
       "      <th>fecha</th>\n",
       "      <th>juego</th>\n",
       "      <th>num_ganadores</th>\n",
       "    </tr>\n",
       "  </thead>\n",
       "  <tbody>\n",
       "    <tr>\n",
       "      <th>0</th>\n",
       "      <td>24/09/2021</td>\n",
       "      <td>LA PRIMERA</td>\n",
       "      <td>67 11 49</td>\n",
       "    </tr>\n",
       "    <tr>\n",
       "      <th>1</th>\n",
       "      <td>24/09/2021</td>\n",
       "      <td>LA SUERTE</td>\n",
       "      <td>12 60 22</td>\n",
       "    </tr>\n",
       "    <tr>\n",
       "      <th>2</th>\n",
       "      <td>24/09/2021</td>\n",
       "      <td>LOTERIA REAL</td>\n",
       "      <td>68 64 90</td>\n",
       "    </tr>\n",
       "    <tr>\n",
       "      <th>3</th>\n",
       "      <td>23/09/2021</td>\n",
       "      <td>SUPER KINO TV</td>\n",
       "      <td>03 08 10 11 13 15 17 30 32 36 38 48 53 55 56 6...</td>\n",
       "    </tr>\n",
       "    <tr>\n",
       "      <th>4</th>\n",
       "      <td>23/09/2021</td>\n",
       "      <td>QUINIELA PALE</td>\n",
       "      <td>95 12 70</td>\n",
       "    </tr>\n",
       "  </tbody>\n",
       "</table>\n",
       "</div>"
      ],
      "text/plain": [
       "        fecha          juego  \\\n",
       "0  24/09/2021     LA PRIMERA   \n",
       "1  24/09/2021      LA SUERTE   \n",
       "2  24/09/2021   LOTERIA REAL   \n",
       "3  23/09/2021  SUPER KINO TV   \n",
       "4  23/09/2021  QUINIELA PALE   \n",
       "\n",
       "                                       num_ganadores  \n",
       "0                                           67 11 49  \n",
       "1                                           12 60 22  \n",
       "2                                           68 64 90  \n",
       "3  03 08 10 11 13 15 17 30 32 36 38 48 53 55 56 6...  \n",
       "4                                           95 12 70  "
      ]
     },
     "execution_count": 88,
     "metadata": {},
     "output_type": "execute_result"
    }
   ],
   "source": [
    "data.head()"
   ]
  },
  {
   "cell_type": "code",
   "execution_count": 89,
   "id": "af578c9a",
   "metadata": {},
   "outputs": [
    {
     "data": {
      "text/plain": [
       "array(['LA PRIMERA', 'LA SUERTE', 'LOTERIA REAL', 'SUPER KINO TV',\n",
       "       'QUINIELA PALE', 'NACIONAL', 'LOTEKA', 'PEGA 3 MAS', 'LOTO POOL',\n",
       "       'LOTO'], dtype=object)"
      ]
     },
     "execution_count": 89,
     "metadata": {},
     "output_type": "execute_result"
    }
   ],
   "source": [
    "data['juego'].unique()"
   ]
  },
  {
   "cell_type": "code",
   "execution_count": 90,
   "id": "2ad805c4",
   "metadata": {},
   "outputs": [],
   "source": [
    "df = data[data['juego']=='LOTO']"
   ]
  },
  {
   "cell_type": "code",
   "execution_count": 91,
   "id": "831e6185",
   "metadata": {
    "scrolled": true
   },
   "outputs": [
    {
     "data": {
      "text/html": [
       "<div>\n",
       "<style scoped>\n",
       "    .dataframe tbody tr th:only-of-type {\n",
       "        vertical-align: middle;\n",
       "    }\n",
       "\n",
       "    .dataframe tbody tr th {\n",
       "        vertical-align: top;\n",
       "    }\n",
       "\n",
       "    .dataframe thead th {\n",
       "        text-align: right;\n",
       "    }\n",
       "</style>\n",
       "<table border=\"1\" class=\"dataframe\">\n",
       "  <thead>\n",
       "    <tr style=\"text-align: right;\">\n",
       "      <th></th>\n",
       "      <th>fecha</th>\n",
       "      <th>juego</th>\n",
       "      <th>num_ganadores</th>\n",
       "    </tr>\n",
       "  </thead>\n",
       "  <tbody>\n",
       "    <tr>\n",
       "      <th>23</th>\n",
       "      <td>22/09/2021</td>\n",
       "      <td>LOTO</td>\n",
       "      <td>07 22 27 29 30 33 10 04</td>\n",
       "    </tr>\n",
       "    <tr>\n",
       "      <th>65</th>\n",
       "      <td>18/09/2021</td>\n",
       "      <td>LOTO</td>\n",
       "      <td>15 16 26 30 33 35 04 12</td>\n",
       "    </tr>\n",
       "    <tr>\n",
       "      <th>96</th>\n",
       "      <td>15/09/2021</td>\n",
       "      <td>LOTO</td>\n",
       "      <td>01 10 13 18 23 27 08 09</td>\n",
       "    </tr>\n",
       "    <tr>\n",
       "      <th>137</th>\n",
       "      <td>11/09/2021</td>\n",
       "      <td>LOTO</td>\n",
       "      <td>01 02 07 08 14 25 08 11</td>\n",
       "    </tr>\n",
       "    <tr>\n",
       "      <th>168</th>\n",
       "      <td>08/09/2021</td>\n",
       "      <td>LOTO</td>\n",
       "      <td>03 09 12 17 31 36 07 10</td>\n",
       "    </tr>\n",
       "    <tr>\n",
       "      <th>210</th>\n",
       "      <td>04/09/2021</td>\n",
       "      <td>LOTO</td>\n",
       "      <td>13 14 18 20 25 33 02 02</td>\n",
       "    </tr>\n",
       "    <tr>\n",
       "      <th>241</th>\n",
       "      <td>01/09/2021</td>\n",
       "      <td>LOTO</td>\n",
       "      <td>04 15 16 18 27 38 04 07</td>\n",
       "    </tr>\n",
       "  </tbody>\n",
       "</table>\n",
       "</div>"
      ],
      "text/plain": [
       "          fecha juego            num_ganadores\n",
       "23   22/09/2021  LOTO  07 22 27 29 30 33 10 04\n",
       "65   18/09/2021  LOTO  15 16 26 30 33 35 04 12\n",
       "96   15/09/2021  LOTO  01 10 13 18 23 27 08 09\n",
       "137  11/09/2021  LOTO  01 02 07 08 14 25 08 11\n",
       "168  08/09/2021  LOTO  03 09 12 17 31 36 07 10\n",
       "210  04/09/2021  LOTO  13 14 18 20 25 33 02 02\n",
       "241  01/09/2021  LOTO  04 15 16 18 27 38 04 07"
      ]
     },
     "execution_count": 91,
     "metadata": {},
     "output_type": "execute_result"
    }
   ],
   "source": [
    "df"
   ]
  },
  {
   "cell_type": "markdown",
   "id": "93a3ec4b",
   "metadata": {},
   "source": [
    "### Method 3"
   ]
  },
  {
   "cell_type": "code",
   "execution_count": 115,
   "id": "6ebc3ed4",
   "metadata": {},
   "outputs": [],
   "source": [
    "req = requests.get(url)\n",
    "soup = BeautifulSoup(req.content, 'html.parser')"
   ]
  },
  {
   "cell_type": "code",
   "execution_count": 116,
   "id": "c5b68a0c",
   "metadata": {},
   "outputs": [],
   "source": [
    "tableta =  soup.find(name='table')"
   ]
  },
  {
   "cell_type": "code",
   "execution_count": 123,
   "id": "58d3f201",
   "metadata": {},
   "outputs": [
    {
     "data": {
      "text/plain": [
       "5"
      ]
     },
     "execution_count": 123,
     "metadata": {},
     "output_type": "execute_result"
    }
   ],
   "source": [
    "len(tableta)"
   ]
  },
  {
   "cell_type": "code",
   "execution_count": 120,
   "id": "404a7451",
   "metadata": {},
   "outputs": [],
   "source": [
    "df4 =  pd.read_html(str(tableta))[0]"
   ]
  },
  {
   "cell_type": "code",
   "execution_count": 121,
   "id": "792b4a58",
   "metadata": {},
   "outputs": [
    {
     "data": {
      "text/html": [
       "<div>\n",
       "<style scoped>\n",
       "    .dataframe tbody tr th:only-of-type {\n",
       "        vertical-align: middle;\n",
       "    }\n",
       "\n",
       "    .dataframe tbody tr th {\n",
       "        vertical-align: top;\n",
       "    }\n",
       "\n",
       "    .dataframe thead th {\n",
       "        text-align: right;\n",
       "    }\n",
       "</style>\n",
       "<table border=\"1\" class=\"dataframe\">\n",
       "  <thead>\n",
       "    <tr style=\"text-align: right;\">\n",
       "      <th></th>\n",
       "      <th>Fecha</th>\n",
       "      <th>#Sorteo</th>\n",
       "      <th>Juego</th>\n",
       "      <th>Tanda</th>\n",
       "      <th>Números Ganadores</th>\n",
       "    </tr>\n",
       "  </thead>\n",
       "  <tbody>\n",
       "    <tr>\n",
       "      <th>0</th>\n",
       "      <td>24/09/2021</td>\n",
       "      <td>351</td>\n",
       "      <td>LA PRIMERA</td>\n",
       "      <td>TARDE</td>\n",
       "      <td>67 11 49</td>\n",
       "    </tr>\n",
       "    <tr>\n",
       "      <th>1</th>\n",
       "      <td>24/09/2021</td>\n",
       "      <td>401</td>\n",
       "      <td>LA SUERTE</td>\n",
       "      <td>TARDE</td>\n",
       "      <td>12 60 22</td>\n",
       "    </tr>\n",
       "    <tr>\n",
       "      <th>2</th>\n",
       "      <td>24/09/2021</td>\n",
       "      <td>3514</td>\n",
       "      <td>LOTERIA REAL</td>\n",
       "      <td>TARDE</td>\n",
       "      <td>68 64 90</td>\n",
       "    </tr>\n",
       "    <tr>\n",
       "      <th>3</th>\n",
       "      <td>23/09/2021</td>\n",
       "      <td>4453</td>\n",
       "      <td>SUPER KINO TV</td>\n",
       "      <td>NOCHE</td>\n",
       "      <td>03 08 10 11 13 15 17 30 32 36 38 48 53 55 56 6...</td>\n",
       "    </tr>\n",
       "    <tr>\n",
       "      <th>4</th>\n",
       "      <td>23/09/2021</td>\n",
       "      <td>8191</td>\n",
       "      <td>QUINIELA PALE</td>\n",
       "      <td>NOCHE</td>\n",
       "      <td>95 12 70</td>\n",
       "    </tr>\n",
       "  </tbody>\n",
       "</table>\n",
       "</div>"
      ],
      "text/plain": [
       "        Fecha  #Sorteo          Juego  Tanda  \\\n",
       "0  24/09/2021      351     LA PRIMERA  TARDE   \n",
       "1  24/09/2021      401      LA SUERTE  TARDE   \n",
       "2  24/09/2021     3514   LOTERIA REAL  TARDE   \n",
       "3  23/09/2021     4453  SUPER KINO TV  NOCHE   \n",
       "4  23/09/2021     8191  QUINIELA PALE  NOCHE   \n",
       "\n",
       "                                   Números Ganadores  \n",
       "0                                           67 11 49  \n",
       "1                                           12 60 22  \n",
       "2                                           68 64 90  \n",
       "3  03 08 10 11 13 15 17 30 32 36 38 48 53 55 56 6...  \n",
       "4                                           95 12 70  "
      ]
     },
     "execution_count": 121,
     "metadata": {},
     "output_type": "execute_result"
    }
   ],
   "source": [
    "df4.head()"
   ]
  },
  {
   "cell_type": "code",
   "execution_count": 122,
   "id": "ab55779f",
   "metadata": {},
   "outputs": [
    {
     "data": {
      "text/plain": [
       "(250, 5)"
      ]
     },
     "execution_count": 122,
     "metadata": {},
     "output_type": "execute_result"
    }
   ],
   "source": [
    "df4.shape"
   ]
  },
  {
   "cell_type": "code",
   "execution_count": 133,
   "id": "3e8a6d92",
   "metadata": {},
   "outputs": [],
   "source": [
    "df4 = df4[df4['Juego']=='LOTO']"
   ]
  },
  {
   "cell_type": "code",
   "execution_count": 134,
   "id": "6c0d2ed4",
   "metadata": {},
   "outputs": [
    {
     "data": {
      "text/plain": [
       "(7, 5)"
      ]
     },
     "execution_count": 134,
     "metadata": {},
     "output_type": "execute_result"
    }
   ],
   "source": [
    "df4.shape"
   ]
  },
  {
   "cell_type": "code",
   "execution_count": 135,
   "id": "6a9dd161",
   "metadata": {},
   "outputs": [
    {
     "data": {
      "text/html": [
       "<div>\n",
       "<style scoped>\n",
       "    .dataframe tbody tr th:only-of-type {\n",
       "        vertical-align: middle;\n",
       "    }\n",
       "\n",
       "    .dataframe tbody tr th {\n",
       "        vertical-align: top;\n",
       "    }\n",
       "\n",
       "    .dataframe thead th {\n",
       "        text-align: right;\n",
       "    }\n",
       "</style>\n",
       "<table border=\"1\" class=\"dataframe\">\n",
       "  <thead>\n",
       "    <tr style=\"text-align: right;\">\n",
       "      <th></th>\n",
       "      <th>Fecha</th>\n",
       "      <th>#Sorteo</th>\n",
       "      <th>Juego</th>\n",
       "      <th>Tanda</th>\n",
       "      <th>Números Ganadores</th>\n",
       "    </tr>\n",
       "  </thead>\n",
       "  <tbody>\n",
       "    <tr>\n",
       "      <th>23</th>\n",
       "      <td>22/09/2021</td>\n",
       "      <td>1197</td>\n",
       "      <td>LOTO</td>\n",
       "      <td>NOCHE</td>\n",
       "      <td>07 22 27 29 30 33 10 04</td>\n",
       "    </tr>\n",
       "    <tr>\n",
       "      <th>65</th>\n",
       "      <td>18/09/2021</td>\n",
       "      <td>1196</td>\n",
       "      <td>LOTO</td>\n",
       "      <td>NOCHE</td>\n",
       "      <td>15 16 26 30 33 35 04 12</td>\n",
       "    </tr>\n",
       "    <tr>\n",
       "      <th>96</th>\n",
       "      <td>15/09/2021</td>\n",
       "      <td>1195</td>\n",
       "      <td>LOTO</td>\n",
       "      <td>NOCHE</td>\n",
       "      <td>01 10 13 18 23 27 08 09</td>\n",
       "    </tr>\n",
       "    <tr>\n",
       "      <th>137</th>\n",
       "      <td>11/09/2021</td>\n",
       "      <td>1194</td>\n",
       "      <td>LOTO</td>\n",
       "      <td>NOCHE</td>\n",
       "      <td>01 02 07 08 14 25 08 11</td>\n",
       "    </tr>\n",
       "    <tr>\n",
       "      <th>168</th>\n",
       "      <td>08/09/2021</td>\n",
       "      <td>1193</td>\n",
       "      <td>LOTO</td>\n",
       "      <td>NOCHE</td>\n",
       "      <td>03 09 12 17 31 36 07 10</td>\n",
       "    </tr>\n",
       "    <tr>\n",
       "      <th>210</th>\n",
       "      <td>04/09/2021</td>\n",
       "      <td>1192</td>\n",
       "      <td>LOTO</td>\n",
       "      <td>NOCHE</td>\n",
       "      <td>13 14 18 20 25 33 02 02</td>\n",
       "    </tr>\n",
       "    <tr>\n",
       "      <th>241</th>\n",
       "      <td>01/09/2021</td>\n",
       "      <td>1191</td>\n",
       "      <td>LOTO</td>\n",
       "      <td>NOCHE</td>\n",
       "      <td>04 15 16 18 27 38 04 07</td>\n",
       "    </tr>\n",
       "  </tbody>\n",
       "</table>\n",
       "</div>"
      ],
      "text/plain": [
       "          Fecha  #Sorteo Juego  Tanda        Números Ganadores\n",
       "23   22/09/2021     1197  LOTO  NOCHE  07 22 27 29 30 33 10 04\n",
       "65   18/09/2021     1196  LOTO  NOCHE  15 16 26 30 33 35 04 12\n",
       "96   15/09/2021     1195  LOTO  NOCHE  01 10 13 18 23 27 08 09\n",
       "137  11/09/2021     1194  LOTO  NOCHE  01 02 07 08 14 25 08 11\n",
       "168  08/09/2021     1193  LOTO  NOCHE  03 09 12 17 31 36 07 10\n",
       "210  04/09/2021     1192  LOTO  NOCHE  13 14 18 20 25 33 02 02\n",
       "241  01/09/2021     1191  LOTO  NOCHE  04 15 16 18 27 38 04 07"
      ]
     },
     "execution_count": 135,
     "metadata": {},
     "output_type": "execute_result"
    }
   ],
   "source": [
    "df4"
   ]
  },
  {
   "cell_type": "code",
   "execution_count": 136,
   "id": "c0a89a61",
   "metadata": {},
   "outputs": [],
   "source": [
    "df4.to_excel('base.xlsx', index=False)"
   ]
  },
  {
   "cell_type": "code",
   "execution_count": null,
   "id": "ea9386b1",
   "metadata": {},
   "outputs": [],
   "source": []
  }
 ],
 "metadata": {
  "kernelspec": {
   "display_name": "Python 3",
   "language": "python",
   "name": "python3"
  },
  "language_info": {
   "codemirror_mode": {
    "name": "ipython",
    "version": 3
   },
   "file_extension": ".py",
   "mimetype": "text/x-python",
   "name": "python",
   "nbconvert_exporter": "python",
   "pygments_lexer": "ipython3",
   "version": "3.8.8"
  }
 },
 "nbformat": 4,
 "nbformat_minor": 5
}
