{
 "cells": [
  {
   "cell_type": "markdown",
   "id": "2d3647e2",
   "metadata": {},
   "source": [
    "# Stacking Model \n",
    "**description:** Building and save model"
   ]
  },
  {
   "cell_type": "markdown",
   "id": "ea415fb2",
   "metadata": {},
   "source": [
    "##### Libraries"
   ]
  },
  {
   "cell_type": "code",
   "execution_count": 1,
   "id": "f72e8f22",
   "metadata": {},
   "outputs": [],
   "source": [
    "import numpy as np\n",
    "import pandas as pd\n",
    "import joblib\n",
    "from sklearn.model_selection import train_test_split\n",
    "import warnings\n",
    "warnings.filterwarnings('ignore')"
   ]
  },
  {
   "cell_type": "code",
   "execution_count": 2,
   "id": "55361307",
   "metadata": {},
   "outputs": [],
   "source": [
    "# MODEL\n",
    "from sklearn.neighbors import KNeighborsRegressor\n",
    "from sklearn.svm import SVR\n",
    "from sklearn.tree import DecisionTreeRegressor\n",
    "from sklearn.ensemble import RandomForestRegressor\n",
    "from sklearn.neural_network import MLPRegressor"
   ]
  },
  {
   "cell_type": "code",
   "execution_count": 3,
   "id": "9eaaa445",
   "metadata": {},
   "outputs": [],
   "source": [
    "# STACKING MODEL\n",
    "from sklearn.ensemble import StackingRegressor\n",
    "from sklearn.linear_model import LinearRegression"
   ]
  },
  {
   "cell_type": "markdown",
   "id": "47bb3eec",
   "metadata": {},
   "source": [
    "## 1. READ DATA"
   ]
  },
  {
   "cell_type": "code",
   "execution_count": 4,
   "id": "679ba346",
   "metadata": {},
   "outputs": [
    {
     "data": {
      "text/html": [
       "<div>\n",
       "<style scoped>\n",
       "    .dataframe tbody tr th:only-of-type {\n",
       "        vertical-align: middle;\n",
       "    }\n",
       "\n",
       "    .dataframe tbody tr th {\n",
       "        vertical-align: top;\n",
       "    }\n",
       "\n",
       "    .dataframe thead th {\n",
       "        text-align: right;\n",
       "    }\n",
       "</style>\n",
       "<table border=\"1\" class=\"dataframe\">\n",
       "  <thead>\n",
       "    <tr style=\"text-align: right;\">\n",
       "      <th></th>\n",
       "      <th>Fecha</th>\n",
       "      <th>bolo1</th>\n",
       "      <th>bolo2</th>\n",
       "      <th>bolo3</th>\n",
       "      <th>bolo4</th>\n",
       "      <th>bolo5</th>\n",
       "      <th>bolo6</th>\n",
       "      <th>Loto +.1</th>\n",
       "      <th>Loto +.2</th>\n",
       "    </tr>\n",
       "  </thead>\n",
       "  <tbody>\n",
       "    <tr>\n",
       "      <th>322</th>\n",
       "      <td>2022-08-10</td>\n",
       "      <td>4</td>\n",
       "      <td>6</td>\n",
       "      <td>7</td>\n",
       "      <td>14</td>\n",
       "      <td>25</td>\n",
       "      <td>28</td>\n",
       "      <td>6</td>\n",
       "      <td>10</td>\n",
       "    </tr>\n",
       "    <tr>\n",
       "      <th>323</th>\n",
       "      <td>2022-08-13</td>\n",
       "      <td>1</td>\n",
       "      <td>2</td>\n",
       "      <td>8</td>\n",
       "      <td>9</td>\n",
       "      <td>11</td>\n",
       "      <td>28</td>\n",
       "      <td>11</td>\n",
       "      <td>8</td>\n",
       "    </tr>\n",
       "    <tr>\n",
       "      <th>324</th>\n",
       "      <td>2022-08-17</td>\n",
       "      <td>6</td>\n",
       "      <td>11</td>\n",
       "      <td>12</td>\n",
       "      <td>24</td>\n",
       "      <td>31</td>\n",
       "      <td>34</td>\n",
       "      <td>11</td>\n",
       "      <td>9</td>\n",
       "    </tr>\n",
       "    <tr>\n",
       "      <th>325</th>\n",
       "      <td>2022-08-20</td>\n",
       "      <td>2</td>\n",
       "      <td>11</td>\n",
       "      <td>15</td>\n",
       "      <td>18</td>\n",
       "      <td>25</td>\n",
       "      <td>28</td>\n",
       "      <td>7</td>\n",
       "      <td>15</td>\n",
       "    </tr>\n",
       "    <tr>\n",
       "      <th>326</th>\n",
       "      <td>2022-08-24</td>\n",
       "      <td>5</td>\n",
       "      <td>16</td>\n",
       "      <td>22</td>\n",
       "      <td>28</td>\n",
       "      <td>36</td>\n",
       "      <td>38</td>\n",
       "      <td>2</td>\n",
       "      <td>4</td>\n",
       "    </tr>\n",
       "  </tbody>\n",
       "</table>\n",
       "</div>"
      ],
      "text/plain": [
       "         Fecha  bolo1  bolo2  bolo3  bolo4  bolo5  bolo6  Loto +.1  Loto +.2\n",
       "322 2022-08-10      4      6      7     14     25     28         6        10\n",
       "323 2022-08-13      1      2      8      9     11     28        11         8\n",
       "324 2022-08-17      6     11     12     24     31     34        11         9\n",
       "325 2022-08-20      2     11     15     18     25     28         7        15\n",
       "326 2022-08-24      5     16     22     28     36     38         2         4"
      ]
     },
     "execution_count": 4,
     "metadata": {},
     "output_type": "execute_result"
    }
   ],
   "source": [
    "data= pd.read_excel('base.xlsx', sheet_name='datos')\n",
    "data.tail()"
   ]
  },
  {
   "cell_type": "markdown",
   "id": "50e41b1b",
   "metadata": {},
   "source": [
    "## 2. DATA PREPARATION"
   ]
  },
  {
   "cell_type": "code",
   "execution_count": 5,
   "id": "e5d527a7",
   "metadata": {},
   "outputs": [
    {
     "data": {
      "text/plain": [
       "array(['Fecha', 'bolo1', 'bolo2', 'bolo3', 'bolo4', 'bolo5', 'bolo6',\n",
       "       'Loto +.1', 'Loto +.2'], dtype=object)"
      ]
     },
     "execution_count": 5,
     "metadata": {},
     "output_type": "execute_result"
    }
   ],
   "source": [
    "data.columns.values"
   ]
  },
  {
   "cell_type": "code",
   "execution_count": 6,
   "id": "0a1ce5fd",
   "metadata": {},
   "outputs": [],
   "source": [
    "bol1 = data.copy()\n",
    "bol1['prediction'] = bol1[['bolo1']].shift(-1)\n",
    "\n",
    "\n",
    "bol2 = data.copy()\n",
    "bol2['prediction'] = bol2[['bolo2']].shift(-1)\n",
    "\n",
    "bol3 = data.copy()\n",
    "bol3['prediction'] = bol3[['bolo3']].shift(-1)\n",
    "\n",
    "bol3 = data.copy()\n",
    "bol3['prediction'] = bol3[['bolo3']].shift(-1)\n",
    "\n",
    "bol4 = data.copy()\n",
    "bol4['prediction'] = bol4[['bolo4']].shift(-1)\n",
    "\n",
    "bol5 = data.copy()\n",
    "bol5['prediction'] = bol5[['bolo5']].shift(-1)\n",
    "\n",
    "bol6 = data.copy()\n",
    "bol6['prediction'] = bol6[['bolo6']].shift(-1)\n",
    "\n",
    "loto_1 = data.copy()\n",
    "loto_1['prediction'] = loto_1[['Loto +.1']].shift(-1)\n",
    "\n",
    "loto_2 = data.copy()\n",
    "loto_2['prediction'] = loto_2[['Loto +.2']].shift(-1)"
   ]
  },
  {
   "cell_type": "markdown",
   "id": "44aa0c39",
   "metadata": {},
   "source": [
    "#### 2.1  BOLO1"
   ]
  },
  {
   "cell_type": "code",
   "execution_count": 7,
   "id": "182774c8",
   "metadata": {},
   "outputs": [],
   "source": [
    "X = bol1.drop(['prediction', 'Fecha'], axis=1 )\n",
    "y = bol1['prediction']\n",
    "X = X[:-1]\n",
    "y = y[:-1]\n",
    "X_train, X_test, y_train, y_test = train_test_split(X,y, test_size=.10, random_state=42)"
   ]
  },
  {
   "cell_type": "markdown",
   "id": "0ffaddc0",
   "metadata": {},
   "source": [
    "##### setup model"
   ]
  },
  {
   "cell_type": "code",
   "execution_count": 8,
   "id": "7831b277",
   "metadata": {},
   "outputs": [],
   "source": [
    "knn = KNeighborsRegressor().fit(X_train, y_train)\n",
    "svm = SVR().fit(X_train, y_train)\n",
    "dt = DecisionTreeRegressor(random_state=42).fit(X_train, y_train)\n",
    "rf = RandomForestRegressor(random_state=42).fit(X_train, y_train)\n",
    "mlp = MLPRegressor(random_state=42, max_iter=1000).fit(X_train, y_train)"
   ]
  },
  {
   "cell_type": "code",
   "execution_count": 9,
   "id": "278aa12c",
   "metadata": {},
   "outputs": [],
   "source": [
    "estimators = [\n",
    "    ('knn', knn),\n",
    "    ('svm', svm),\n",
    "    ('dt', dt),\n",
    "    ('rf', rf),\n",
    "    ('mlp', mlp)\n",
    "]"
   ]
  },
  {
   "cell_type": "code",
   "execution_count": 10,
   "id": "5a839533",
   "metadata": {},
   "outputs": [
    {
     "data": {
      "text/plain": [
       "StackingRegressor(estimators=[('knn', KNeighborsRegressor()), ('svm', SVR()),\n",
       "                              ('dt', DecisionTreeRegressor(random_state=42)),\n",
       "                              ('rf', RandomForestRegressor(random_state=42)),\n",
       "                              ('mlp',\n",
       "                               MLPRegressor(max_iter=1000, random_state=42))],\n",
       "                  final_estimator=LinearRegression())"
      ]
     },
     "execution_count": 10,
     "metadata": {},
     "output_type": "execute_result"
    }
   ],
   "source": [
    "model = StackingRegressor(estimators=estimators, final_estimator=LinearRegression())\n",
    "model.fit(X_train, y_train)"
   ]
  },
  {
   "cell_type": "code",
   "execution_count": 11,
   "id": "55f8cf07",
   "metadata": {},
   "outputs": [],
   "source": [
    "#y_bol1 = model.predict(X_test)"
   ]
  },
  {
   "cell_type": "code",
   "execution_count": 12,
   "id": "ab0d9ca1",
   "metadata": {},
   "outputs": [],
   "source": [
    "#resultados = pd.DataFrame()\n",
    "#resultados['test']= y_test\n",
    "#resultados['pred'] = y_bol1\n",
    "#resultados.tail()"
   ]
  },
  {
   "cell_type": "code",
   "execution_count": 13,
   "id": "492a4028",
   "metadata": {},
   "outputs": [
    {
     "data": {
      "text/plain": [
       "['modelbol1']"
      ]
     },
     "execution_count": 13,
     "metadata": {},
     "output_type": "execute_result"
    }
   ],
   "source": [
    "joblib.dump(model, 'modelbol1')"
   ]
  },
  {
   "cell_type": "markdown",
   "id": "c5c6a996",
   "metadata": {},
   "source": [
    "#### 2.2 BOLO 2"
   ]
  },
  {
   "cell_type": "code",
   "execution_count": 14,
   "id": "e512edb9",
   "metadata": {
    "scrolled": true
   },
   "outputs": [
    {
     "data": {
      "text/plain": [
       "['modelbol2']"
      ]
     },
     "execution_count": 14,
     "metadata": {},
     "output_type": "execute_result"
    }
   ],
   "source": [
    "# select features and target\n",
    "X = bol2.drop(['prediction', 'Fecha'], axis=1 )\n",
    "y = bol2['prediction']\n",
    "X = X[:-1]\n",
    "y = y[:-1]\n",
    "\n",
    "# split train/test\n",
    "X_train, X_test, y_train, y_test = train_test_split(X,y, test_size=.10, random_state=42)\n",
    "\n",
    "#Buid model\n",
    "b2 = StackingRegressor(estimators=estimators, final_estimator=LinearRegression())\n",
    "b2.fit(X_train, y_train)\n",
    "\n",
    "#save\n",
    "joblib.dump(b2, 'modelbol2')"
   ]
  },
  {
   "cell_type": "markdown",
   "id": "50e0019c",
   "metadata": {},
   "source": [
    "#### 2.3 BOLO 3"
   ]
  },
  {
   "cell_type": "code",
   "execution_count": 15,
   "id": "fc8fbb4b",
   "metadata": {},
   "outputs": [
    {
     "data": {
      "text/plain": [
       "['modelbol3']"
      ]
     },
     "execution_count": 15,
     "metadata": {},
     "output_type": "execute_result"
    }
   ],
   "source": [
    "# select features and target\n",
    "X = bol3.drop(['prediction', 'Fecha'], axis=1 )\n",
    "y = bol3['prediction']\n",
    "X = X[:-1]\n",
    "y = y[:-1]\n",
    "\n",
    "# split train/test\n",
    "X_train, X_test, y_train, y_test = train_test_split(X,y, test_size=.10, random_state=42)\n",
    "\n",
    "#Buid model\n",
    "b3 = StackingRegressor(estimators=estimators, final_estimator=LinearRegression())\n",
    "b3.fit(X_train, y_train)\n",
    "\n",
    "#save\n",
    "joblib.dump(b3, 'modelbol3')"
   ]
  },
  {
   "cell_type": "markdown",
   "id": "9241829d",
   "metadata": {},
   "source": [
    "#### 2.4 BOLO 4"
   ]
  },
  {
   "cell_type": "code",
   "execution_count": 16,
   "id": "6fa6bc98",
   "metadata": {},
   "outputs": [
    {
     "data": {
      "text/plain": [
       "['modelbol4']"
      ]
     },
     "execution_count": 16,
     "metadata": {},
     "output_type": "execute_result"
    }
   ],
   "source": [
    "# select features and target\n",
    "X = bol4.drop(['prediction', 'Fecha'], axis=1 )\n",
    "y = bol4['prediction']\n",
    "X = X[:-1]\n",
    "y = y[:-1]\n",
    "\n",
    "# split train/test\n",
    "X_train, X_test, y_train, y_test = train_test_split(X,y, test_size=.10, random_state=42)\n",
    "\n",
    "#Buid model\n",
    "b4 = StackingRegressor(estimators=estimators, final_estimator=LinearRegression())\n",
    "b4.fit(X_train, y_train)\n",
    "\n",
    "#save\n",
    "joblib.dump(b4, 'modelbol4')"
   ]
  },
  {
   "cell_type": "markdown",
   "id": "a56a063c",
   "metadata": {},
   "source": [
    "#### 2.5 BOLO 5"
   ]
  },
  {
   "cell_type": "code",
   "execution_count": 17,
   "id": "9612c622",
   "metadata": {},
   "outputs": [
    {
     "data": {
      "text/plain": [
       "['modelbol5']"
      ]
     },
     "execution_count": 17,
     "metadata": {},
     "output_type": "execute_result"
    }
   ],
   "source": [
    "# select features and target\n",
    "X = bol5.drop(['prediction', 'Fecha'], axis=1 )\n",
    "y = bol5['prediction']\n",
    "X = X[:-1]\n",
    "y = y[:-1]\n",
    "\n",
    "# split train/test\n",
    "X_train, X_test, y_train, y_test = train_test_split(X,y, test_size=.10, random_state=42)\n",
    "\n",
    "#Buid model\n",
    "b5 = StackingRegressor(estimators=estimators, final_estimator=LinearRegression())\n",
    "b5.fit(X_train, y_train)\n",
    "\n",
    "#save\n",
    "joblib.dump(b5, 'modelbol5')"
   ]
  },
  {
   "cell_type": "markdown",
   "id": "c70629bd",
   "metadata": {},
   "source": [
    "#### 2.6 BOLO 6"
   ]
  },
  {
   "cell_type": "code",
   "execution_count": 18,
   "id": "9c3a138c",
   "metadata": {},
   "outputs": [
    {
     "data": {
      "text/plain": [
       "['modelbol6']"
      ]
     },
     "execution_count": 18,
     "metadata": {},
     "output_type": "execute_result"
    }
   ],
   "source": [
    "# select features and target\n",
    "X = bol6.drop(['prediction', 'Fecha'], axis=1 )\n",
    "y = bol6['prediction']\n",
    "X = X[:-1]\n",
    "y = y[:-1]\n",
    "\n",
    "# split train/test\n",
    "X_train, X_test, y_train, y_test = train_test_split(X,y, test_size=.10, random_state=42)\n",
    "\n",
    "#Buid model\n",
    "b6 = StackingRegressor(estimators=estimators, final_estimator=LinearRegression())\n",
    "b6.fit(X_train, y_train)\n",
    "\n",
    "#save\n",
    "joblib.dump(b6, 'modelbol6')"
   ]
  },
  {
   "cell_type": "markdown",
   "id": "99eaa13f",
   "metadata": {},
   "source": [
    "#### 2.7 LOTO MAS 1"
   ]
  },
  {
   "cell_type": "code",
   "execution_count": 19,
   "id": "4387eb6c",
   "metadata": {},
   "outputs": [
    {
     "data": {
      "text/plain": [
       "['modellt1']"
      ]
     },
     "execution_count": 19,
     "metadata": {},
     "output_type": "execute_result"
    }
   ],
   "source": [
    "# select features and target\n",
    "X = loto_1.drop(['prediction', 'Fecha'], axis=1 )\n",
    "y = loto_1['prediction']\n",
    "X = X[:-1]\n",
    "y = y[:-1]\n",
    "\n",
    "# split train/test\n",
    "X_train, X_test, y_train, y_test = train_test_split(X,y, test_size=.10, random_state=42)\n",
    "\n",
    "#Buid model\n",
    "lt1 = StackingRegressor(estimators=estimators, final_estimator=LinearRegression())\n",
    "lt1.fit(X, y)\n",
    "\n",
    "#save\n",
    "joblib.dump(lt1, 'modellt1')"
   ]
  },
  {
   "cell_type": "code",
   "execution_count": 20,
   "id": "cb4e7b85",
   "metadata": {},
   "outputs": [
    {
     "data": {
      "text/plain": [
       "['modellt2']"
      ]
     },
     "execution_count": 20,
     "metadata": {},
     "output_type": "execute_result"
    }
   ],
   "source": [
    "# select features and target\n",
    "X = loto_2.drop(['prediction', 'Fecha'], axis=1 )\n",
    "y = loto_2['prediction']\n",
    "X = X[:-1]\n",
    "y = y[:-1]\n",
    "\n",
    "# split train/test\n",
    "X_train, X_test, y_train, y_test = train_test_split(X,y, test_size=.10, random_state=42)\n",
    "\n",
    "#Buid model\n",
    "lt2 = StackingRegressor(estimators=estimators, final_estimator=LinearRegression())\n",
    "lt2.fit(X_train, y_train)\n",
    "\n",
    "#save\n",
    "joblib.dump(lt2, 'modellt2')"
   ]
  },
  {
   "cell_type": "code",
   "execution_count": null,
   "id": "1f8a5578",
   "metadata": {},
   "outputs": [],
   "source": []
  }
 ],
 "metadata": {
  "kernelspec": {
   "display_name": "Python 3 (ipykernel)",
   "language": "python",
   "name": "python3"
  },
  "language_info": {
   "codemirror_mode": {
    "name": "ipython",
    "version": 3
   },
   "file_extension": ".py",
   "mimetype": "text/x-python",
   "name": "python",
   "nbconvert_exporter": "python",
   "pygments_lexer": "ipython3",
   "version": "3.8.8"
  }
 },
 "nbformat": 4,
 "nbformat_minor": 5
}
